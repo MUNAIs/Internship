{
 "cells": [
  {
   "cell_type": "code",
   "execution_count": 1,
   "id": "ae11d1e1",
   "metadata": {},
   "outputs": [],
   "source": [
    "import selenium\n",
    "import pandas as pd\n",
    "from selenium import webdriver\n",
    "import time\n",
    "from selenium.common.exceptions import NoSuchElementException\n",
    "import warnings\n",
    "warnings.filterwarnings(\"ignore\")\n",
    "import time\n",
    "from bs4 import BeautifulSoup\n",
    "import requests"
   ]
  },
  {
   "cell_type": "code",
   "execution_count": 2,
   "id": "3a7d7e14",
   "metadata": {},
   "outputs": [],
   "source": [
    "driver=webdriver.Chrome(r\"C:\\Users\\Sneha\\Downloads\\chromedriver_win32\\chromedriver.exe\")"
   ]
  },
  {
   "cell_type": "code",
   "execution_count": 3,
   "id": "8a53af5a",
   "metadata": {},
   "outputs": [],
   "source": [
    "driver.get('https://www.amazon.in/')\n",
    "#time.sleep(5)"
   ]
  },
  {
   "cell_type": "code",
   "execution_count": null,
   "id": "16298d9d",
   "metadata": {},
   "outputs": [],
   "source": [
    "search_field_products=driver.find_element_by_id(\"twotabsearchtextbox\")\n",
    "search_field_products.send_keys(\"guitars\")"
   ]
  },
  {
   "cell_type": "code",
   "execution_count": null,
   "id": "f2372960",
   "metadata": {},
   "outputs": [],
   "source": [
    "search_button=driver.find_element_by_xpath(\"/html/body/div[1]/header/div/div[1]/div[2]/div/form/div[3]/div/span/input\")\n",
    "search_button.click()"
   ]
  },
  {
   "cell_type": "code",
   "execution_count": null,
   "id": "759fb126",
   "metadata": {},
   "outputs": [],
   "source": [
    "driver.get('https://www.google.com/')"
   ]
  },
  {
   "cell_type": "code",
   "execution_count": null,
   "id": "3b5b1e6f",
   "metadata": {},
   "outputs": [],
   "source": [
    "search_field_products=driver.find_element_by_class_name(\"gLFyf.gsfi\")\n",
    "search_field_products.send_keys(\"fruits\")"
   ]
  },
  {
   "cell_type": "code",
   "execution_count": null,
   "id": "10199056",
   "metadata": {},
   "outputs": [],
   "source": [
    "search_button=driver.find_element_by_xpath(\"/html/body/div[1]/div[3]/form/div[1]/div[1]/div[1]/div/div[1]/div/span\")\n",
    "search_button.click()\n",
    "    "
   ]
  },
  {
   "cell_type": "code",
   "execution_count": null,
   "id": "98c440a8",
   "metadata": {},
   "outputs": [],
   "source": [
    "page=requests.get('https://www.google.com/search?q=fruits&source=hp&ei=Lg6JYrKzJYPgmAW13ZTwDw&iflsig=AJiK0e8AAAAAYokcPoJz20Tw_KJ8mCMD9dYG1PFIEEVK&ved=0ahUKEwiygpvl_PD3AhUDMKYKHbUuBf4Q4dUDCAc&uact=5&oq=fruits&gs_lcp=Cgdnd3Mtd2l6EAMyCAgAEIAEELEDMgUIABCABDIICAAQgAQQsQMyBQgAEIAEMgUIABCABDIFCAAQgAQyCAgAEIAEELEDMggIABCxAxCDATIICAAQgAQQsQMyBQgAEIAEOg4IABCPARDqAhCMAxDlAjoOCC4QjwEQ6gIQjAMQ5QI6CAguEIAEELEDOgUILhCABDoFCAAQsQNQv8IoWOXCKGDagzFoAXAAeAKAAYACiAGcB5IBBTAuMS4zmAEAoAEBsAEK&sclient=gws-wiz')\n",
    "page"
   ]
  },
  {
   "cell_type": "code",
   "execution_count": null,
   "id": "bd6c13a9",
   "metadata": {},
   "outputs": [],
   "source": [
    "soup=BeautifulSoup(page.content)\n",
    "soup"
   ]
  },
  {
   "cell_type": "code",
   "execution_count": null,
   "id": "23807a24",
   "metadata": {},
   "outputs": [],
   "source": [
    "images=[]\n",
    "for i in soup.find_all('div',class_=\"uhHOwf BYbUcd\"):\n",
    "    images.append(i['data-src'])\n",
    "images "
   ]
  },
  {
   "cell_type": "code",
   "execution_count": null,
   "id": "1c0bfc62",
   "metadata": {},
   "outputs": [],
   "source": [
    "driver.get('https://www.flipkart.com/')"
   ]
  },
  {
   "cell_type": "code",
   "execution_count": null,
   "id": "40d0f3de",
   "metadata": {},
   "outputs": [],
   "source": [
    "search_field_products=driver.find_element_by_class_name(\"_3704LK\")\n",
    "search_field_products.send_keys(\"One plus nord\")"
   ]
  },
  {
   "cell_type": "code",
   "execution_count": null,
   "id": "3fd5b47a",
   "metadata": {},
   "outputs": [],
   "source": [
    "search_button=driver.find_element_by_xpath(\"/html/body/div[1]/div/div[1]/div[1]/div[2]/div[2]/form/div/button\")\n",
    "search_button.click()"
   ]
  },
  {
   "cell_type": "code",
   "execution_count": null,
   "id": "6ca5bd20",
   "metadata": {},
   "outputs": [],
   "source": [
    "Brand_Name=[]\n",
    "Features=[]\n",
    "Prices=[]\n",
    "Product_URL=[]"
   ]
  },
  {
   "cell_type": "code",
   "execution_count": null,
   "id": "d5d99879",
   "metadata": {},
   "outputs": [],
   "source": [
    "titles_tags=driver.find_elements_by_xpath(\"//div[@class='_4rR01T']\")\n",
    "titles_tags[0:10]"
   ]
  },
  {
   "cell_type": "code",
   "execution_count": null,
   "id": "2449437c",
   "metadata": {},
   "outputs": [],
   "source": [
    "for i in titles_tags:\n",
    "    title=i.text\n",
    "    Brand_Name.append(title)\n",
    "Brand_Name[0:10]"
   ]
  },
  {
   "cell_type": "code",
   "execution_count": null,
   "id": "8312011c",
   "metadata": {},
   "outputs": [],
   "source": [
    "Feature_tags=driver.find_elements_by_xpath(\"//div[@class='fMghEO']\")\n",
    "Feature_tags[0:25]"
   ]
  },
  {
   "cell_type": "code",
   "execution_count": null,
   "id": "810bc517",
   "metadata": {},
   "outputs": [],
   "source": [
    "for i in Feature_tags:\n",
    "    feature=i.text\n",
    "    Features.append(feature)\n",
    "Features[0:25]"
   ]
  },
  {
   "cell_type": "code",
   "execution_count": null,
   "id": "17b87719",
   "metadata": {},
   "outputs": [],
   "source": [
    "price_tags=driver.find_elements_by_xpath(\"//div[@class='_30jeq3 _1_WHN1']\")\n",
    "price_tags[0:10]"
   ]
  },
  {
   "cell_type": "code",
   "execution_count": null,
   "id": "b0f39e3b",
   "metadata": {},
   "outputs": [],
   "source": [
    "for i in price_tags:\n",
    "    price=i.text\n",
    "    Prices.append(price)\n",
    "Prices[0:10]"
   ]
  },
  {
   "cell_type": "code",
   "execution_count": null,
   "id": "4d07871e",
   "metadata": {},
   "outputs": [],
   "source": [
    "smartphone=pd.DataFrame({})\n",
    "smartphone['brand']=Brand_Name\n",
    "#smartphone['feature']=Features\n",
    "smartphone['price']=Prices"
   ]
  },
  {
   "cell_type": "code",
   "execution_count": null,
   "id": "a454c323",
   "metadata": {},
   "outputs": [],
   "source": [
    "smartphone"
   ]
  },
  {
   "cell_type": "code",
   "execution_count": null,
   "id": "e5e37252",
   "metadata": {},
   "outputs": [],
   "source": [
    "from selenium.webdriver.support.ui import WebDriverWait\n",
    "from selenium.webdriver.common.by import By\n",
    "from selenium.webdriver.support import expected_conditions as EC\n",
    "from time import sleep\n",
    "from selenium.webdriver.common.action_chains import ActionChains\n",
    "action=ActionChains(driver)"
   ]
  },
  {
   "cell_type": "code",
   "execution_count": null,
   "id": "355fb876",
   "metadata": {},
   "outputs": [],
   "source": [
    "driver.get(\"https://www.google.com/maps\")"
   ]
  },
  {
   "cell_type": "code",
   "execution_count": null,
   "id": "ffb6b1ff",
   "metadata": {},
   "outputs": [],
   "source": [
    "driver.manage().timeouts().implicitlyWait(40,TimeUnit.SECONDS);\n",
    "wait = WebDriverWait(driver, 10)\n",
    "wait.until(EC.element_to_be_clickable((By.ID, \"searchboxinput\"))).send_keys(\"New York\")\n",
    "wait.until(EC.element_to_be_clickable((By.ID, \"searchbox-searchbutton\"))).click()\n",
    "#sleep(5)\n",
    "ActionChains(driver).move_to_element(driver.find_element_by_xpath(\"//html/body\")).context_click().perform()\n",
    "print(wait.until(EC.visibility_of_element_located((By.CSS_SELECTOR, \"ul[role='menu']>li div div[class*='text']:nth-of-type(1)\"))).text)"
   ]
  },
  {
   "cell_type": "code",
   "execution_count": null,
   "id": "c514e214",
   "metadata": {},
   "outputs": [],
   "source": [
    "driver.get(\"https://trak.in/india-startup-funding-investment-2015/\")"
   ]
  },
  {
   "cell_type": "code",
   "execution_count": null,
   "id": "46a43bff",
   "metadata": {},
   "outputs": [],
   "source": [
    "Sr_no=[]\n",
    "Dates=[]\n",
    "Startup_name=[]\n",
    "Industry=[]\n",
    "SubVertical=[]\n",
    "Citys=[]\n",
    "Investors_name=[]\n",
    "Amounts=[]"
   ]
  },
  {
   "cell_type": "code",
   "execution_count": null,
   "id": "828760f8",
   "metadata": {},
   "outputs": [],
   "source": [
    "Sr_no_tags=driver.find_elements_by_xpath(\"//div[@class='dataTables_scrollBody']\")\n",
    "Sr_no_tags[0:9]"
   ]
  },
  {
   "cell_type": "code",
   "execution_count": null,
   "id": "1e01310d",
   "metadata": {},
   "outputs": [],
   "source": [
    "for i in Sr_no_tags:\n",
    "    No=i.text\n",
    "    Sr_no.append(No)\n",
    "Sr_no[0:9]"
   ]
  },
  {
   "cell_type": "code",
   "execution_count": null,
   "id": "1fce4ba0",
   "metadata": {},
   "outputs": [],
   "source": [
    "Dates_tags=driver.find_elements_by_xpath(\"//div[@class='main-wrap content-main-wrap']\")\n",
    "Dates_tags[0:9]"
   ]
  },
  {
   "cell_type": "code",
   "execution_count": null,
   "id": "85f11308",
   "metadata": {},
   "outputs": [],
   "source": [
    "for i in Dates_tags:\n",
    "    Date=i.text\n",
    "    Dates.append(Date)\n",
    "Dates[0:9]"
   ]
  },
  {
   "cell_type": "code",
   "execution_count": null,
   "id": "c94070b4",
   "metadata": {},
   "outputs": [],
   "source": [
    "page=requests.get('https://www.digit.in/top-products/best-gaming-laptops-40.html')\n",
    "page"
   ]
  },
  {
   "cell_type": "code",
   "execution_count": null,
   "id": "18888ffd",
   "metadata": {},
   "outputs": [],
   "source": [
    "soup=BeautifulSoup(page.content)\n",
    "soup"
   ]
  },
  {
   "cell_type": "code",
   "execution_count": null,
   "id": "7ae1876e",
   "metadata": {},
   "outputs": [],
   "source": [
    "Name=[]\n",
    "for i in soup.find_all('td'):\n",
    "    Name.append(i.text.replace('\\n',''))\n",
    "Name"
   ]
  },
  {
   "cell_type": "code",
   "execution_count": null,
   "id": "1f4422c1",
   "metadata": {},
   "outputs": [],
   "source": [
    "driver.get('https://www.forbes.com/')"
   ]
  },
  {
   "cell_type": "code",
   "execution_count": null,
   "id": "812434eb",
   "metadata": {},
   "outputs": [],
   "source": [
    "search_button=driver.find_element_by_xpath(\"/html/body/div[1]/header/nav/div[1]/button[1]\")\n",
    "search_button.click()"
   ]
  },
  {
   "cell_type": "code",
   "execution_count": null,
   "id": "bad48133",
   "metadata": {},
   "outputs": [],
   "source": [
    "Ranks=[]\n",
    "Names=[]\n",
    "Net_worth=[]\n",
    "Ages=[]\n",
    "Citizenship=[]\n",
    "Sources=[]\n",
    "Industies=[]"
   ]
  },
  {
   "cell_type": "code",
   "execution_count": null,
   "id": "9c185129",
   "metadata": {},
   "outputs": [],
   "source": [
    "Rank_tags=driver.find_elements_by_xpath(\"//div[@class='rank']\")\n",
    "Rank_tags[0:197]"
   ]
  },
  {
   "cell_type": "code",
   "execution_count": null,
   "id": "855dbe2a",
   "metadata": {},
   "outputs": [],
   "source": [
    "for i in Rank_tags:\n",
    "    Rank=i.text\n",
    "    Ranks.append(Rank)\n",
    "Ranks[0:197]"
   ]
  },
  {
   "cell_type": "code",
   "execution_count": null,
   "id": "cbd549ff",
   "metadata": {},
   "outputs": [],
   "source": [
    "Name_tags=driver.find_elements_by_xpath(\"//div[@class='personName']\")\n",
    "Name_tags[0:197]"
   ]
  },
  {
   "cell_type": "code",
   "execution_count": null,
   "id": "cb1705f0",
   "metadata": {},
   "outputs": [],
   "source": [
    "for i in Name_tags:\n",
    "    Name=i.text\n",
    "    Names.append(Name)\n",
    "Names[0:197]"
   ]
  },
  {
   "cell_type": "code",
   "execution_count": null,
   "id": "02264f5f",
   "metadata": {},
   "outputs": [],
   "source": [
    "Networth_tags=driver.find_elements_by_xpath(\"//div[@class='netWorth']\")\n",
    "Networth_tags[0:197]"
   ]
  },
  {
   "cell_type": "code",
   "execution_count": null,
   "id": "45f89668",
   "metadata": {},
   "outputs": [],
   "source": [
    "for i in Networth_tags:\n",
    "    NW=i.text\n",
    "    Net_worth.append(NW)\n",
    "Net_worth[0:197]"
   ]
  },
  {
   "cell_type": "code",
   "execution_count": null,
   "id": "b6fb6788",
   "metadata": {},
   "outputs": [],
   "source": [
    "Age_tags=driver.find_elements_by_xpath(\"//div[@class='age']\")\n",
    "Age_tags[0:197]"
   ]
  },
  {
   "cell_type": "code",
   "execution_count": null,
   "id": "8bc3231e",
   "metadata": {},
   "outputs": [],
   "source": [
    "for i in Age_tags:\n",
    "    Age=i.text\n",
    "    Ages.append(Age)\n",
    "Ages[0:197]"
   ]
  },
  {
   "cell_type": "code",
   "execution_count": null,
   "id": "77944dee",
   "metadata": {},
   "outputs": [],
   "source": [
    "Citizenship_tags=driver.find_elements_by_xpath(\"//div[@class='countryOfCitizenship']\")\n",
    "Citizenship_tags[0:197]"
   ]
  },
  {
   "cell_type": "code",
   "execution_count": null,
   "id": "dc19a95a",
   "metadata": {},
   "outputs": [],
   "source": [
    "for i in Citizenship_tags:\n",
    "    Citizen=i.text\n",
    "    Citizenship.append(Citizen)\n",
    "Citizenship[0:197]"
   ]
  },
  {
   "cell_type": "code",
   "execution_count": null,
   "id": "bb2558f0",
   "metadata": {},
   "outputs": [],
   "source": [
    "Source_tags=driver.find_elements_by_xpath(\"//div[@class='source']\")\n",
    "Source_tags[0:197]"
   ]
  },
  {
   "cell_type": "code",
   "execution_count": null,
   "id": "c69b9dae",
   "metadata": {},
   "outputs": [],
   "source": [
    "for i in Source_tags:\n",
    "    Source=i.text\n",
    "    Sources.append(Source)\n",
    "Sources[0:197]"
   ]
  },
  {
   "cell_type": "code",
   "execution_count": null,
   "id": "d9230a35",
   "metadata": {},
   "outputs": [],
   "source": [
    "for i in Industry_tags:\n",
    "    Industy=i.text\n",
    "    Industies.append(Industy)\n",
    "Industies[0:197]"
   ]
  },
  {
   "cell_type": "code",
   "execution_count": null,
   "id": "6c4b47ca",
   "metadata": {},
   "outputs": [],
   "source": [
    "driver.get(\"https://www.youtube.com/watch?v=kffacxfA7G4\")"
   ]
  },
  {
   "cell_type": "code",
   "execution_count": null,
   "id": "d367df1f",
   "metadata": {},
   "outputs": [],
   "source": [
    "import time\n",
    "from selenium.webdriver import Chrome\n",
    "from selenium.webdriver.common.by import By\n",
    "from selenium.webdriver.common.keys import Keys\n",
    "from selenium.webdriver.support.ui import WebDriverWait\n",
    "from selenium.webdriver.support import expected_conditions as EC\n",
    "from selenium.common.exceptions import TimeoutException\n",
    "\n",
    "#with Chrome() as driver:\n",
    "#wait = WebDriverWait(driver,10)\n",
    "delay=5\n",
    "try:\n",
    "    driver.get(\"https://www.youtube.com/watch?v=kffacxfA7G4\")\n",
    "    WebDriverWait(driver,delay).until(EC.presence_of_all_elements_located((By.CLASS_NAME,'content.style-scope ytd-expander')))\n",
    "#for item in range(3): #by increasing the highest range you can get more content\n",
    "        #wait.until(EC.visibility_of_element_located((By.TAG_NAME, \"body\"))).send_keys(Keys.END)\n",
    "        #time.sleep(3)\n",
    "#for comment in wait.until(EC.presence_of_all_elements_located((By.CSS_SELECTOR, \"#comment #content-text\"))):\n",
    "        #print(comment.text)\n",
    "    comment=driver.find_element_by_xpath(\"//div[@class='content.style-scope ytd-expander']\")   \n",
    "    print(comment.text)\n",
    "except TimeoutException as e:\n",
    "    print(\"Exception Raised: \", e)"
   ]
  },
  {
   "cell_type": "code",
   "execution_count": null,
   "id": "a2353903",
   "metadata": {},
   "outputs": [],
   "source": [
    "driver.get('https://www.hostelworld.com/')"
   ]
  },
  {
   "cell_type": "code",
   "execution_count": null,
   "id": "b4044ea7",
   "metadata": {},
   "outputs": [],
   "source": [
    "search_destination=driver.find_element_by_class_name(\"search-input\")\n",
    "search_destination.send_keys(\"London\")"
   ]
  },
  {
   "cell_type": "code",
   "execution_count": null,
   "id": "47ce728e",
   "metadata": {},
   "outputs": [],
   "source": [
    "search_button=driver.find_element_by_xpath(\"/html/body/div[3]/div/div/div[1]/div[1]/div/div[2]/div[4]/div/div[2]/div/div[1]/div/span/i\")\n",
    "search_button.click()"
   ]
  },
  {
   "cell_type": "code",
   "execution_count": 40,
   "id": "39735d30",
   "metadata": {},
   "outputs": [],
   "source": [
    "hostel_name=[]\n",
    "distance_from_cc=[]\n",
    "ratings=[]\n",
    "total_reviews=[]\n",
    "overall_reviews=[]\n",
    "prices=[]\n",
    "descriptions=[]"
   ]
  },
  {
   "cell_type": "code",
   "execution_count": 37,
   "id": "dab7f436",
   "metadata": {},
   "outputs": [
    {
     "data": {
      "text/plain": [
       "[<selenium.webdriver.remote.webelement.WebElement (session=\"250eb76139364e4c7d3c1b49619654ad\", element=\"dd176158-c174-4cfa-bc9a-81e4daee78d2\")>,\n",
       " <selenium.webdriver.remote.webelement.WebElement (session=\"250eb76139364e4c7d3c1b49619654ad\", element=\"d5cc3a39-373f-4eab-9acf-16ae718643ed\")>,\n",
       " <selenium.webdriver.remote.webelement.WebElement (session=\"250eb76139364e4c7d3c1b49619654ad\", element=\"afb5fee7-fc28-42ce-900f-0f13406eccac\")>,\n",
       " <selenium.webdriver.remote.webelement.WebElement (session=\"250eb76139364e4c7d3c1b49619654ad\", element=\"a7af5a64-9c8a-4d2e-9916-70af383d1aa1\")>,\n",
       " <selenium.webdriver.remote.webelement.WebElement (session=\"250eb76139364e4c7d3c1b49619654ad\", element=\"df46c4c6-e0f7-45a0-b8a2-74aacf71e318\")>,\n",
       " <selenium.webdriver.remote.webelement.WebElement (session=\"250eb76139364e4c7d3c1b49619654ad\", element=\"207ac5c1-160a-4171-8a3f-5495c989707c\")>,\n",
       " <selenium.webdriver.remote.webelement.WebElement (session=\"250eb76139364e4c7d3c1b49619654ad\", element=\"29c132eb-09c2-4555-969b-064d74259c00\")>,\n",
       " <selenium.webdriver.remote.webelement.WebElement (session=\"250eb76139364e4c7d3c1b49619654ad\", element=\"26f1f937-7869-4bdf-bcf5-5a6905f9af52\")>,\n",
       " <selenium.webdriver.remote.webelement.WebElement (session=\"250eb76139364e4c7d3c1b49619654ad\", element=\"7528b3d2-25ab-4ad2-820b-cedfccc04374\")>,\n",
       " <selenium.webdriver.remote.webelement.WebElement (session=\"250eb76139364e4c7d3c1b49619654ad\", element=\"6d053462-504b-465b-91c9-4a774c4eb397\")>,\n",
       " <selenium.webdriver.remote.webelement.WebElement (session=\"250eb76139364e4c7d3c1b49619654ad\", element=\"50aab071-8dad-4f22-9108-a69c92e3fecc\")>,\n",
       " <selenium.webdriver.remote.webelement.WebElement (session=\"250eb76139364e4c7d3c1b49619654ad\", element=\"37715b49-0a2d-4532-bcef-e73b57254146\")>,\n",
       " <selenium.webdriver.remote.webelement.WebElement (session=\"250eb76139364e4c7d3c1b49619654ad\", element=\"5eb72995-42a7-450b-b1df-179602cd11ef\")>,\n",
       " <selenium.webdriver.remote.webelement.WebElement (session=\"250eb76139364e4c7d3c1b49619654ad\", element=\"ac119c88-b038-4a7e-99e0-06c192005f10\")>,\n",
       " <selenium.webdriver.remote.webelement.WebElement (session=\"250eb76139364e4c7d3c1b49619654ad\", element=\"c7782ead-57a7-4ea2-a318-3e628abb0a57\")>,\n",
       " <selenium.webdriver.remote.webelement.WebElement (session=\"250eb76139364e4c7d3c1b49619654ad\", element=\"8a9b1333-194b-4723-809a-3693b158787e\")>,\n",
       " <selenium.webdriver.remote.webelement.WebElement (session=\"250eb76139364e4c7d3c1b49619654ad\", element=\"1151a29b-9f8a-4b91-a065-00f39b97bc11\")>,\n",
       " <selenium.webdriver.remote.webelement.WebElement (session=\"250eb76139364e4c7d3c1b49619654ad\", element=\"77f9d2b4-9cc3-4afd-871e-5636ea571fe8\")>,\n",
       " <selenium.webdriver.remote.webelement.WebElement (session=\"250eb76139364e4c7d3c1b49619654ad\", element=\"c7797642-e86d-4fc5-bfb4-0fd85cb0d30f\")>,\n",
       " <selenium.webdriver.remote.webelement.WebElement (session=\"250eb76139364e4c7d3c1b49619654ad\", element=\"546f2edc-a46d-488c-b596-cbf001b2d559\")>]"
      ]
     },
     "execution_count": 37,
     "metadata": {},
     "output_type": "execute_result"
    }
   ],
   "source": [
    "titles_tags=driver.find_elements_by_xpath(\"//h2[@class='title title-6']\")\n",
    "titles_tags[0:20]"
   ]
  },
  {
   "cell_type": "code",
   "execution_count": 38,
   "id": "b1b4b908",
   "metadata": {},
   "outputs": [
    {
     "data": {
      "text/plain": [
       "['Palmers Lodge - Swiss Cottage',\n",
       " 'Generator London',\n",
       " 'Urbany Hostel London',\n",
       " 'Safestay London Elephant & Castle',\n",
       " 'Safestay London Kensington Holland Park',\n",
       " 'Prime Backpackers Angel',\n",
       " \"St Christopher's Inn - London Bridge\",\n",
       " 'Phoenix Hostel',\n",
       " 'Queen Elizabeth Chelsea',\n",
       " 'NX London Hostel',\n",
       " 'Hostel One Notting Hill',\n",
       " \"St Christopher's Hammersmith\",\n",
       " \"St Christopher's Camden\",\n",
       " 'London Waterloo Hostel',\n",
       " \"St Christopher's Greenwich\",\n",
       " 'Saint James Backpackers',\n",
       " 'Britannia Inn Hotel',\n",
       " 'Cranbrook Hotel',\n",
       " 'Park Hotel Essex',\n",
       " 'Best Western Boltons London Kensington']"
      ]
     },
     "execution_count": 38,
     "metadata": {},
     "output_type": "execute_result"
    }
   ],
   "source": [
    "for i in titles_tags:\n",
    "    name=i.text\n",
    "    hostel_name.append(name)\n",
    "hostel_name[0:20]"
   ]
  },
  {
   "cell_type": "code",
   "execution_count": 35,
   "id": "c9901cab",
   "metadata": {},
   "outputs": [
    {
     "data": {
      "text/plain": [
       "[<selenium.webdriver.remote.webelement.WebElement (session=\"250eb76139364e4c7d3c1b49619654ad\", element=\"d6d59dba-4a92-4295-ad6b-395ba378f435\")>,\n",
       " <selenium.webdriver.remote.webelement.WebElement (session=\"250eb76139364e4c7d3c1b49619654ad\", element=\"0d179f3b-09fe-4808-8620-2f4fa274f562\")>,\n",
       " <selenium.webdriver.remote.webelement.WebElement (session=\"250eb76139364e4c7d3c1b49619654ad\", element=\"60a4d736-6ddb-4a00-a1dd-e5df0ec618e5\")>,\n",
       " <selenium.webdriver.remote.webelement.WebElement (session=\"250eb76139364e4c7d3c1b49619654ad\", element=\"eb02bff0-77d6-49c9-9c83-7206d1fcfe54\")>,\n",
       " <selenium.webdriver.remote.webelement.WebElement (session=\"250eb76139364e4c7d3c1b49619654ad\", element=\"5baacdfc-e1e8-4678-a9d5-4e499c1f35f9\")>,\n",
       " <selenium.webdriver.remote.webelement.WebElement (session=\"250eb76139364e4c7d3c1b49619654ad\", element=\"fc41b036-218d-4a92-89ef-a8b42aa0da4c\")>,\n",
       " <selenium.webdriver.remote.webelement.WebElement (session=\"250eb76139364e4c7d3c1b49619654ad\", element=\"428bb92d-138b-4032-be47-1aabd1ce5270\")>,\n",
       " <selenium.webdriver.remote.webelement.WebElement (session=\"250eb76139364e4c7d3c1b49619654ad\", element=\"9e468084-091c-481b-a99d-b2f1cf589354\")>,\n",
       " <selenium.webdriver.remote.webelement.WebElement (session=\"250eb76139364e4c7d3c1b49619654ad\", element=\"81c45bd6-1545-4673-b897-728527e53a6e\")>,\n",
       " <selenium.webdriver.remote.webelement.WebElement (session=\"250eb76139364e4c7d3c1b49619654ad\", element=\"636b8ce8-e508-4b42-851b-0ba515af929f\")>,\n",
       " <selenium.webdriver.remote.webelement.WebElement (session=\"250eb76139364e4c7d3c1b49619654ad\", element=\"a5277c75-d93d-4418-a5ae-f35a6c65ff6d\")>,\n",
       " <selenium.webdriver.remote.webelement.WebElement (session=\"250eb76139364e4c7d3c1b49619654ad\", element=\"796b9236-3dca-4322-a158-0eb524f1cc46\")>,\n",
       " <selenium.webdriver.remote.webelement.WebElement (session=\"250eb76139364e4c7d3c1b49619654ad\", element=\"e99e8406-47af-41ee-8b01-8b8934f08293\")>,\n",
       " <selenium.webdriver.remote.webelement.WebElement (session=\"250eb76139364e4c7d3c1b49619654ad\", element=\"601e30c7-730d-4321-acde-54d2f46c3427\")>,\n",
       " <selenium.webdriver.remote.webelement.WebElement (session=\"250eb76139364e4c7d3c1b49619654ad\", element=\"d9eb53e2-6ba6-4697-b710-b3db9e39d894\")>,\n",
       " <selenium.webdriver.remote.webelement.WebElement (session=\"250eb76139364e4c7d3c1b49619654ad\", element=\"e98d1092-924f-4079-b609-ad8599085f7f\")>,\n",
       " <selenium.webdriver.remote.webelement.WebElement (session=\"250eb76139364e4c7d3c1b49619654ad\", element=\"62c37f7d-58ef-40b0-9dfa-3913b33338e4\")>,\n",
       " <selenium.webdriver.remote.webelement.WebElement (session=\"250eb76139364e4c7d3c1b49619654ad\", element=\"7bf83f71-2a74-43ee-abcd-fa06a469e427\")>,\n",
       " <selenium.webdriver.remote.webelement.WebElement (session=\"250eb76139364e4c7d3c1b49619654ad\", element=\"e31821e2-9399-4e7e-a52d-8af13ca85c9d\")>,\n",
       " <selenium.webdriver.remote.webelement.WebElement (session=\"250eb76139364e4c7d3c1b49619654ad\", element=\"d0ac7a1a-a208-4e7d-9533-72e4f7be84e0\")>]"
      ]
     },
     "execution_count": 35,
     "metadata": {},
     "output_type": "execute_result"
    }
   ],
   "source": [
    "distance_tags=driver.find_elements_by_xpath(\"//span[@class='description']\")\n",
    "distance_tags[0:20]"
   ]
  },
  {
   "cell_type": "code",
   "execution_count": 36,
   "id": "d63bc012",
   "metadata": {},
   "outputs": [
    {
     "data": {
      "text/plain": [
       "['Hostel - 6.5km from city centre',\n",
       " 'Hostel - 3km from city centre',\n",
       " 'Hostel - 5.4km from city centre',\n",
       " 'Hostel - 1.7km from city centre',\n",
       " 'Hostel - 5.9km from city centre',\n",
       " 'Hostel - 3.6km from city centre',\n",
       " 'Hostel - 1.8km from city centre',\n",
       " 'Hostel - 4.2km from city centre',\n",
       " 'Hostel - 5.7km from city centre',\n",
       " 'Hostel - 6.1km from city centre',\n",
       " 'Hostel - 5.5km from city centre',\n",
       " 'Hostel - 7.5km from city centre',\n",
       " 'Hostel - 4.3km from city centre',\n",
       " 'Hostel - 0.7km from city centre',\n",
       " 'Hostel - 7.6km from city centre',\n",
       " 'Hostel - 5.5km from city centre',\n",
       " 'Hotel - 14.5km from city centre',\n",
       " 'Hotel - 14.8km from city centre',\n",
       " 'Hotel - 24.1km from city centre',\n",
       " 'Hotel - 5.4km from city centre']"
      ]
     },
     "execution_count": 36,
     "metadata": {},
     "output_type": "execute_result"
    }
   ],
   "source": [
    "for i in distance_tags:\n",
    "    distance=i.text\n",
    "    distance_from_cc.append(distance)\n",
    "distance_from_cc[0:20]"
   ]
  },
  {
   "cell_type": "code",
   "execution_count": 33,
   "id": "6cf11e5f",
   "metadata": {},
   "outputs": [
    {
     "data": {
      "text/plain": [
       "[<selenium.webdriver.remote.webelement.WebElement (session=\"250eb76139364e4c7d3c1b49619654ad\", element=\"9428e858-5202-45d2-b15b-49c357e0cef5\")>,\n",
       " <selenium.webdriver.remote.webelement.WebElement (session=\"250eb76139364e4c7d3c1b49619654ad\", element=\"65e27801-c9ff-4989-a967-540d567e3b22\")>,\n",
       " <selenium.webdriver.remote.webelement.WebElement (session=\"250eb76139364e4c7d3c1b49619654ad\", element=\"07d4832f-11d2-4923-a478-f171afde017d\")>,\n",
       " <selenium.webdriver.remote.webelement.WebElement (session=\"250eb76139364e4c7d3c1b49619654ad\", element=\"f71d3243-c464-4750-b495-c5f4e3f942dd\")>,\n",
       " <selenium.webdriver.remote.webelement.WebElement (session=\"250eb76139364e4c7d3c1b49619654ad\", element=\"296f8269-a30e-4f00-b083-fd5a1ee34f6d\")>,\n",
       " <selenium.webdriver.remote.webelement.WebElement (session=\"250eb76139364e4c7d3c1b49619654ad\", element=\"5aa53e41-c7df-4189-bd1b-c0b8032b6bf7\")>,\n",
       " <selenium.webdriver.remote.webelement.WebElement (session=\"250eb76139364e4c7d3c1b49619654ad\", element=\"fb1a8aa5-597d-4809-873c-09970a678ac1\")>,\n",
       " <selenium.webdriver.remote.webelement.WebElement (session=\"250eb76139364e4c7d3c1b49619654ad\", element=\"10c22751-0257-4c1d-b111-347030f2387c\")>,\n",
       " <selenium.webdriver.remote.webelement.WebElement (session=\"250eb76139364e4c7d3c1b49619654ad\", element=\"9dea64d4-b0df-40da-9216-2c55f966f521\")>,\n",
       " <selenium.webdriver.remote.webelement.WebElement (session=\"250eb76139364e4c7d3c1b49619654ad\", element=\"510117b2-aea7-4f22-bff2-5be75ea98b3c\")>,\n",
       " <selenium.webdriver.remote.webelement.WebElement (session=\"250eb76139364e4c7d3c1b49619654ad\", element=\"73103539-c858-4889-a526-a404f551f82d\")>,\n",
       " <selenium.webdriver.remote.webelement.WebElement (session=\"250eb76139364e4c7d3c1b49619654ad\", element=\"a377cd68-24aa-4909-a917-12dde2d96e93\")>,\n",
       " <selenium.webdriver.remote.webelement.WebElement (session=\"250eb76139364e4c7d3c1b49619654ad\", element=\"f416de40-4b98-434c-9b59-5110a8187ac2\")>,\n",
       " <selenium.webdriver.remote.webelement.WebElement (session=\"250eb76139364e4c7d3c1b49619654ad\", element=\"b6992b66-abb3-4f71-83e0-846658be50b4\")>,\n",
       " <selenium.webdriver.remote.webelement.WebElement (session=\"250eb76139364e4c7d3c1b49619654ad\", element=\"8115fe81-f946-493a-9b81-bce6256f312c\")>,\n",
       " <selenium.webdriver.remote.webelement.WebElement (session=\"250eb76139364e4c7d3c1b49619654ad\", element=\"72539b7c-1894-46c3-a5dc-9e775cafd2db\")>,\n",
       " <selenium.webdriver.remote.webelement.WebElement (session=\"250eb76139364e4c7d3c1b49619654ad\", element=\"bb365583-78cb-443d-aef8-7121d3af787d\")>,\n",
       " <selenium.webdriver.remote.webelement.WebElement (session=\"250eb76139364e4c7d3c1b49619654ad\", element=\"8559e7de-212c-48e4-9c10-5825187b8176\")>]"
      ]
     },
     "execution_count": 33,
     "metadata": {},
     "output_type": "execute_result"
    }
   ],
   "source": [
    "rating_tags=driver.find_elements_by_xpath(\"//div[@class='score orange big']\")\n",
    "rating_tags[0:20]"
   ]
  },
  {
   "cell_type": "code",
   "execution_count": 34,
   "id": "a061ee03",
   "metadata": {},
   "outputs": [
    {
     "data": {
      "text/plain": [
       "['8.9',\n",
       " '7.6',\n",
       " '9.4',\n",
       " '7.2',\n",
       " '6.7',\n",
       " '8.5',\n",
       " '8.0',\n",
       " '7.8',\n",
       " '6.9',\n",
       " '7.0',\n",
       " '8.6',\n",
       " '7.9',\n",
       " '8.1',\n",
       " '6.5',\n",
       " '7.6',\n",
       " '6.0',\n",
       " '8.1',\n",
       " '8.0',\n",
       " '8.9',\n",
       " '7.6']"
      ]
     },
     "execution_count": 34,
     "metadata": {},
     "output_type": "execute_result"
    }
   ],
   "source": [
    "for i in rating_tags:\n",
    "    rating=i.text\n",
    "    ratings.append(rating)\n",
    "ratings[0:20]"
   ]
  },
  {
   "cell_type": "code",
   "execution_count": 31,
   "id": "ce34d8ea",
   "metadata": {},
   "outputs": [
    {
     "data": {
      "text/plain": [
       "[<selenium.webdriver.remote.webelement.WebElement (session=\"250eb76139364e4c7d3c1b49619654ad\", element=\"edb49edc-d5c8-4a80-b255-0a3f1a1d09ae\")>,\n",
       " <selenium.webdriver.remote.webelement.WebElement (session=\"250eb76139364e4c7d3c1b49619654ad\", element=\"de4532cf-ceff-4e30-ba44-77b727e7c444\")>,\n",
       " <selenium.webdriver.remote.webelement.WebElement (session=\"250eb76139364e4c7d3c1b49619654ad\", element=\"bc4c18c6-6eb8-47f8-b0e5-787f9d5e52d8\")>,\n",
       " <selenium.webdriver.remote.webelement.WebElement (session=\"250eb76139364e4c7d3c1b49619654ad\", element=\"e5066d43-c489-495d-b2d9-9a69a6b8de90\")>,\n",
       " <selenium.webdriver.remote.webelement.WebElement (session=\"250eb76139364e4c7d3c1b49619654ad\", element=\"43f16aec-fa72-49dc-9bf9-0367f23fb166\")>,\n",
       " <selenium.webdriver.remote.webelement.WebElement (session=\"250eb76139364e4c7d3c1b49619654ad\", element=\"874e779a-c7e9-4695-ae49-78e78b8936c0\")>,\n",
       " <selenium.webdriver.remote.webelement.WebElement (session=\"250eb76139364e4c7d3c1b49619654ad\", element=\"a3436a31-f952-4b09-8f26-eff05431f6d0\")>,\n",
       " <selenium.webdriver.remote.webelement.WebElement (session=\"250eb76139364e4c7d3c1b49619654ad\", element=\"996dc296-2ab4-4f35-bf2e-67ba622277c8\")>,\n",
       " <selenium.webdriver.remote.webelement.WebElement (session=\"250eb76139364e4c7d3c1b49619654ad\", element=\"e38d46e7-1ab3-4d74-a3a6-7cb62d9c1d79\")>,\n",
       " <selenium.webdriver.remote.webelement.WebElement (session=\"250eb76139364e4c7d3c1b49619654ad\", element=\"f84c994e-2f80-4604-9d54-17f3443ebb40\")>,\n",
       " <selenium.webdriver.remote.webelement.WebElement (session=\"250eb76139364e4c7d3c1b49619654ad\", element=\"49e31e29-3c5d-481b-961a-ba8d4cdbf68f\")>,\n",
       " <selenium.webdriver.remote.webelement.WebElement (session=\"250eb76139364e4c7d3c1b49619654ad\", element=\"2a8b27b4-c08b-4418-9dea-90c47e8e6307\")>,\n",
       " <selenium.webdriver.remote.webelement.WebElement (session=\"250eb76139364e4c7d3c1b49619654ad\", element=\"79d08aa8-57bc-4994-9d14-17dc5f23475e\")>,\n",
       " <selenium.webdriver.remote.webelement.WebElement (session=\"250eb76139364e4c7d3c1b49619654ad\", element=\"c5a9f659-9426-4d0e-9815-a899c19122a4\")>,\n",
       " <selenium.webdriver.remote.webelement.WebElement (session=\"250eb76139364e4c7d3c1b49619654ad\", element=\"3b6b452e-7b86-4d17-a597-fe9446cbf023\")>,\n",
       " <selenium.webdriver.remote.webelement.WebElement (session=\"250eb76139364e4c7d3c1b49619654ad\", element=\"f609bcc7-e67e-4e6f-99ff-fa3ec4cead03\")>,\n",
       " <selenium.webdriver.remote.webelement.WebElement (session=\"250eb76139364e4c7d3c1b49619654ad\", element=\"c8c4be74-e656-4fa8-9171-190189e838c5\")>,\n",
       " <selenium.webdriver.remote.webelement.WebElement (session=\"250eb76139364e4c7d3c1b49619654ad\", element=\"d37774a9-7dc7-4982-a69d-59dff48bbe68\")>,\n",
       " <selenium.webdriver.remote.webelement.WebElement (session=\"250eb76139364e4c7d3c1b49619654ad\", element=\"d0be8b62-09d1-414b-900a-abd6b78a6e9a\")>,\n",
       " <selenium.webdriver.remote.webelement.WebElement (session=\"250eb76139364e4c7d3c1b49619654ad\", element=\"47703538-6879-4da0-b4f3-b7bc32af3e9c\")>]"
      ]
     },
     "execution_count": 31,
     "metadata": {},
     "output_type": "execute_result"
    }
   ],
   "source": [
    "review_tags=driver.find_elements_by_xpath(\"//div[@class='reviews']\")\n",
    "review_tags[0:20]"
   ]
  },
  {
   "cell_type": "code",
   "execution_count": 32,
   "id": "5c8c76e6",
   "metadata": {},
   "outputs": [
    {
     "data": {
      "text/plain": [
       "['15339 Total Reviews',\n",
       " '6939 Total Reviews',\n",
       " '306 Total Reviews',\n",
       " '4240 Total Reviews',\n",
       " '1191 Total Reviews',\n",
       " '573 Total Reviews',\n",
       " '3294 Total Reviews',\n",
       " '3555 Total Reviews',\n",
       " '3262 Total Reviews',\n",
       " '1125 Total Reviews',\n",
       " '1355 Total Reviews',\n",
       " '4018 Total Reviews',\n",
       " '3764 Total Reviews',\n",
       " '2495 Total Reviews',\n",
       " '3189 Total Reviews',\n",
       " '1789 Total Reviews',\n",
       " '19 Total Reviews',\n",
       " '58 Total Reviews',\n",
       " '109 Total Reviews',\n",
       " '2 Total Reviews']"
      ]
     },
     "execution_count": 32,
     "metadata": {},
     "output_type": "execute_result"
    }
   ],
   "source": [
    "for i in review_tags:\n",
    "    review=i.text\n",
    "    total_reviews.append(review)\n",
    "total_reviews[0:20]"
   ]
  },
  {
   "cell_type": "code",
   "execution_count": 29,
   "id": "cd265beb",
   "metadata": {},
   "outputs": [
    {
     "data": {
      "text/plain": [
       "[<selenium.webdriver.remote.webelement.WebElement (session=\"250eb76139364e4c7d3c1b49619654ad\", element=\"8f7b0bca-591f-4832-aab5-b341d3421e35\")>,\n",
       " <selenium.webdriver.remote.webelement.WebElement (session=\"250eb76139364e4c7d3c1b49619654ad\", element=\"8e361e3e-2498-428c-80bc-6794e9bdd4ee\")>,\n",
       " <selenium.webdriver.remote.webelement.WebElement (session=\"250eb76139364e4c7d3c1b49619654ad\", element=\"eddc8e65-0ba2-48a5-9b60-0a6b8f155c3f\")>,\n",
       " <selenium.webdriver.remote.webelement.WebElement (session=\"250eb76139364e4c7d3c1b49619654ad\", element=\"57c4bac7-aac9-460f-969c-6c3d0207b551\")>,\n",
       " <selenium.webdriver.remote.webelement.WebElement (session=\"250eb76139364e4c7d3c1b49619654ad\", element=\"acd0172f-7b9d-4e9b-97e0-016640edb51e\")>,\n",
       " <selenium.webdriver.remote.webelement.WebElement (session=\"250eb76139364e4c7d3c1b49619654ad\", element=\"679e06a7-ac4e-45d9-8be5-687bb1f2fd83\")>,\n",
       " <selenium.webdriver.remote.webelement.WebElement (session=\"250eb76139364e4c7d3c1b49619654ad\", element=\"ebd639bd-86ad-4154-9df7-a002a27f0d1a\")>,\n",
       " <selenium.webdriver.remote.webelement.WebElement (session=\"250eb76139364e4c7d3c1b49619654ad\", element=\"9b2b4d15-c060-4f37-8e2d-cbd52809c599\")>,\n",
       " <selenium.webdriver.remote.webelement.WebElement (session=\"250eb76139364e4c7d3c1b49619654ad\", element=\"d11d79c5-01e4-483f-a0c7-3813d03be3cd\")>,\n",
       " <selenium.webdriver.remote.webelement.WebElement (session=\"250eb76139364e4c7d3c1b49619654ad\", element=\"3195230d-219e-4a2a-a8da-16a317253098\")>,\n",
       " <selenium.webdriver.remote.webelement.WebElement (session=\"250eb76139364e4c7d3c1b49619654ad\", element=\"ba932a04-417d-4ffd-b605-8f949eea79b7\")>,\n",
       " <selenium.webdriver.remote.webelement.WebElement (session=\"250eb76139364e4c7d3c1b49619654ad\", element=\"8eda9c91-af25-4edb-b1bf-c58f4bdefbad\")>,\n",
       " <selenium.webdriver.remote.webelement.WebElement (session=\"250eb76139364e4c7d3c1b49619654ad\", element=\"9ee61434-e755-4407-98eb-ec2490f41ac9\")>,\n",
       " <selenium.webdriver.remote.webelement.WebElement (session=\"250eb76139364e4c7d3c1b49619654ad\", element=\"67e89b10-b9da-4d96-9850-0c2bb771360a\")>,\n",
       " <selenium.webdriver.remote.webelement.WebElement (session=\"250eb76139364e4c7d3c1b49619654ad\", element=\"5317ff0f-33a5-436f-b2a6-6dd95b6a016a\")>,\n",
       " <selenium.webdriver.remote.webelement.WebElement (session=\"250eb76139364e4c7d3c1b49619654ad\", element=\"205ba274-1c13-451f-b8ad-2e2bab2ad3da\")>,\n",
       " <selenium.webdriver.remote.webelement.WebElement (session=\"250eb76139364e4c7d3c1b49619654ad\", element=\"e191efed-742b-4cd9-9811-596f51d50c53\")>,\n",
       " <selenium.webdriver.remote.webelement.WebElement (session=\"250eb76139364e4c7d3c1b49619654ad\", element=\"7cfd1007-4720-46e9-bf69-a03ea9580d0c\")>,\n",
       " <selenium.webdriver.remote.webelement.WebElement (session=\"250eb76139364e4c7d3c1b49619654ad\", element=\"bc217fe1-6e22-4e18-99ac-b3280d5674d7\")>,\n",
       " <selenium.webdriver.remote.webelement.WebElement (session=\"250eb76139364e4c7d3c1b49619654ad\", element=\"cdd7cd40-f245-4f53-b733-b0687aec3e4e\")>]"
      ]
     },
     "execution_count": 29,
     "metadata": {},
     "output_type": "execute_result"
    }
   ],
   "source": [
    "price_tags=driver.find_elements_by_xpath(\"//div[@class='price title-5']\")\n",
    "price_tags[0:20]"
   ]
  },
  {
   "cell_type": "code",
   "execution_count": 30,
   "id": "7338006a",
   "metadata": {},
   "outputs": [
    {
     "data": {
      "text/plain": [
       "['Rs3398',\n",
       " 'Rs2746',\n",
       " 'Rs17092',\n",
       " 'Rs2837',\n",
       " 'Rs2398',\n",
       " 'Rs3253',\n",
       " 'Rs4101.31 Rs3691',\n",
       " 'Rs2284.27 Rs2170',\n",
       " 'Rs2192',\n",
       " 'Rs4176.78 Rs3759',\n",
       " 'Rs4068',\n",
       " 'Rs3307.33 Rs2977',\n",
       " 'Rs4426.27 Rs3984',\n",
       " 'Rs2875',\n",
       " 'Rs3451.77 Rs3107',\n",
       " 'Rs12512.54 Rs11887',\n",
       " 'Rs4029.46 Rs3828',\n",
       " 'Rs19660',\n",
       " 'Rs14948',\n",
       " 'Rs20960']"
      ]
     },
     "execution_count": 30,
     "metadata": {},
     "output_type": "execute_result"
    }
   ],
   "source": [
    "for i in price_tags:\n",
    "    price=i.text\n",
    "    prices.append(price)\n",
    "prices[0:20]"
   ]
  },
  {
   "cell_type": "code",
   "execution_count": 39,
   "id": "90bf5b8a",
   "metadata": {},
   "outputs": [
    {
     "data": {
      "text/plain": [
       "[<selenium.webdriver.remote.webelement.WebElement (session=\"250eb76139364e4c7d3c1b49619654ad\", element=\"199fee6d-468f-4fd7-bd9e-6c27143f30f9\")>,\n",
       " <selenium.webdriver.remote.webelement.WebElement (session=\"250eb76139364e4c7d3c1b49619654ad\", element=\"d1a063af-130c-4dcc-95d0-34b0f275ec56\")>,\n",
       " <selenium.webdriver.remote.webelement.WebElement (session=\"250eb76139364e4c7d3c1b49619654ad\", element=\"ba0aa1cf-d105-405f-ba8c-df856cbad82a\")>,\n",
       " <selenium.webdriver.remote.webelement.WebElement (session=\"250eb76139364e4c7d3c1b49619654ad\", element=\"462a9af8-4d40-433d-aa0d-4384393df0b7\")>,\n",
       " <selenium.webdriver.remote.webelement.WebElement (session=\"250eb76139364e4c7d3c1b49619654ad\", element=\"afc82e5a-bd66-48f9-932c-c1cbc835407e\")>,\n",
       " <selenium.webdriver.remote.webelement.WebElement (session=\"250eb76139364e4c7d3c1b49619654ad\", element=\"ed94c3e3-5698-4459-a391-10cb89e9a851\")>,\n",
       " <selenium.webdriver.remote.webelement.WebElement (session=\"250eb76139364e4c7d3c1b49619654ad\", element=\"1db554e1-d0ab-4231-877c-53e3c8732807\")>,\n",
       " <selenium.webdriver.remote.webelement.WebElement (session=\"250eb76139364e4c7d3c1b49619654ad\", element=\"bb60615d-2aad-434c-afcb-a85020e23a98\")>,\n",
       " <selenium.webdriver.remote.webelement.WebElement (session=\"250eb76139364e4c7d3c1b49619654ad\", element=\"58248cc6-64f9-4475-a379-86d5b056f1ee\")>,\n",
       " <selenium.webdriver.remote.webelement.WebElement (session=\"250eb76139364e4c7d3c1b49619654ad\", element=\"80b9cb86-bec5-4a00-ad28-b9abf3a34200\")>,\n",
       " <selenium.webdriver.remote.webelement.WebElement (session=\"250eb76139364e4c7d3c1b49619654ad\", element=\"8c5e5668-df13-44e6-8f96-e6191b681fbd\")>,\n",
       " <selenium.webdriver.remote.webelement.WebElement (session=\"250eb76139364e4c7d3c1b49619654ad\", element=\"bf7472cc-09e7-479b-9a46-ae5455e198a5\")>,\n",
       " <selenium.webdriver.remote.webelement.WebElement (session=\"250eb76139364e4c7d3c1b49619654ad\", element=\"576205f3-4503-4a7d-92ea-21e9289b8d52\")>,\n",
       " <selenium.webdriver.remote.webelement.WebElement (session=\"250eb76139364e4c7d3c1b49619654ad\", element=\"38f37a44-47c7-46fa-b77b-9e829ae7a0ca\")>,\n",
       " <selenium.webdriver.remote.webelement.WebElement (session=\"250eb76139364e4c7d3c1b49619654ad\", element=\"9552a23a-0d2c-4179-98c7-42f88f1fac4a\")>,\n",
       " <selenium.webdriver.remote.webelement.WebElement (session=\"250eb76139364e4c7d3c1b49619654ad\", element=\"adf7a172-54c3-456a-8741-44ac725157e0\")>,\n",
       " <selenium.webdriver.remote.webelement.WebElement (session=\"250eb76139364e4c7d3c1b49619654ad\", element=\"7245c365-1c95-4e80-ba68-f5daf1b9ca2b\")>,\n",
       " <selenium.webdriver.remote.webelement.WebElement (session=\"250eb76139364e4c7d3c1b49619654ad\", element=\"98a06328-e123-4c79-9dc8-b2616fb74a3a\")>,\n",
       " <selenium.webdriver.remote.webelement.WebElement (session=\"250eb76139364e4c7d3c1b49619654ad\", element=\"b3061657-d3d0-4040-a7d5-baa3360db98a\")>,\n",
       " <selenium.webdriver.remote.webelement.WebElement (session=\"250eb76139364e4c7d3c1b49619654ad\", element=\"88fd9b5a-23a6-45ff-8443-4e02ac780716\")>]"
      ]
     },
     "execution_count": 39,
     "metadata": {},
     "output_type": "execute_result"
    }
   ],
   "source": [
    "description_tags=driver.find_elements_by_xpath(\"//div[@class='keyword']\")\n",
    "description_tags[0:20]"
   ]
  },
  {
   "cell_type": "code",
   "execution_count": 41,
   "id": "21307ae2",
   "metadata": {},
   "outputs": [
    {
     "data": {
      "text/plain": [
       "['Fabulous',\n",
       " 'Fabulous',\n",
       " 'Very Good',\n",
       " 'Superb',\n",
       " 'Very Good',\n",
       " 'Good',\n",
       " 'Fabulous',\n",
       " 'Fabulous',\n",
       " 'Very Good',\n",
       " 'Good',\n",
       " 'Very Good',\n",
       " 'Fabulous',\n",
       " 'Very Good',\n",
       " 'Fabulous',\n",
       " 'Good',\n",
       " 'Very Good',\n",
       " 'Good',\n",
       " 'Fabulous',\n",
       " 'No Rating',\n",
       " 'Fabulous']"
      ]
     },
     "execution_count": 41,
     "metadata": {},
     "output_type": "execute_result"
    }
   ],
   "source": [
    "for i in description_tags:\n",
    "    description=i.text\n",
    "    descriptions.append(description)\n",
    "descriptions[0:20]"
   ]
  },
  {
   "cell_type": "code",
   "execution_count": 4,
   "id": "da610e71",
   "metadata": {},
   "outputs": [
    {
     "name": "stdout",
     "output_type": "stream",
     "text": [
      "Enter the product you want to search :guitar\n"
     ]
    }
   ],
   "source": [
    "user_inp= input('Enter the product you want to search :')"
   ]
  },
  {
   "cell_type": "code",
   "execution_count": 5,
   "id": "da29ca85",
   "metadata": {},
   "outputs": [],
   "source": [
    "search_field_products=driver.find_element_by_id(\"twotabsearchtextbox\")\n",
    "search_field_products.send_keys(user_inp)"
   ]
  },
  {
   "cell_type": "code",
   "execution_count": 6,
   "id": "93679342",
   "metadata": {},
   "outputs": [],
   "source": [
    "search_button=driver.find_element_by_xpath(\"/html/body/div[1]/header/div/div[1]/div[2]/div/form/div[3]/div/span/input\")\n",
    "search_button.click()"
   ]
  },
  {
   "cell_type": "code",
   "execution_count": 7,
   "id": "9564d39e",
   "metadata": {},
   "outputs": [],
   "source": [
    "guitars_url=[]\n",
    "url=driver.find_elements_by_xpath('//a[@class=\"a-link-normal s-underline-text s-underline-link-text s-link-style a-text-normal\"]')\n",
    "#search_button=driver.find_element_by_xpath(\"/html/body/div[1]/div[2]/div[1]/div[1]/div/span[3]/div[2]/div[67]/div/div/span/a[3]\")\n",
    "#search_button.click()\n",
    "#url=driver.find_elements_by_xpath('//a[@class=\"a-link-normal s-underline-text s-underline-link-text s-link-style a-text-normal\"]')\n",
    "#search_button=driver.find_element_by_xpath(\"/html/body/div[1]/div[2]/div[1]/div[1]/div/span[3]/div[2]/div[65]/div/div/span/a[4]\")\n",
    "#search_button.click()\n",
    "#url=driver.find_elements_by_xpath('//a[@class=\"a-link-normal s-underline-text s-underline-link-text s-link-style a-text-normal\"]')\n",
    "for i in url:\n",
    "    guitars_url.append(i.get_attribute('href'))"
   ]
  },
  {
   "cell_type": "code",
   "execution_count": 22,
   "id": "4a297112",
   "metadata": {},
   "outputs": [],
   "source": [
    "search_button=driver.find_element_by_xpath(\"/html/body/div[1]/div[2]/div[1]/div[1]/div/span[3]/div[2]/div[67]/div/div/span/a[3]\")\n",
    "search_button.click()"
   ]
  },
  {
   "cell_type": "code",
   "execution_count": 24,
   "id": "f78f4cf3",
   "metadata": {},
   "outputs": [],
   "source": [
    "guitars_url1=[]\n",
    "url=driver.find_elements_by_xpath('//a[@class=\"a-link-normal s-underline-text s-underline-link-text s-link-style a-text-normal\"]')\n",
    "for i in url:\n",
    "    guitars_url1.append(i.get_attribute('href'))"
   ]
  },
  {
   "cell_type": "code",
   "execution_count": 26,
   "id": "a38e2f5f",
   "metadata": {},
   "outputs": [],
   "source": [
    "search_button=driver.find_element_by_xpath(\"/html/body/div[1]/div[2]/div[1]/div[1]/div/span[3]/div[2]/div[65]/div/div/span/a[4]\")\n",
    "search_button.click()"
   ]
  },
  {
   "cell_type": "code",
   "execution_count": 27,
   "id": "09136ed5",
   "metadata": {},
   "outputs": [],
   "source": [
    "guitars_url2=[]\n",
    "url=driver.find_elements_by_xpath('//a[@class=\"a-link-normal s-underline-text s-underline-link-text s-link-style a-text-normal\"]')\n",
    "for i in url:\n",
    "    guitars_url2.append(i.get_attribute('href'))"
   ]
  },
  {
   "cell_type": "code",
   "execution_count": 8,
   "id": "60e49702",
   "metadata": {},
   "outputs": [
    {
     "data": {
      "text/plain": [
       "64"
      ]
     },
     "execution_count": 8,
     "metadata": {},
     "output_type": "execute_result"
    }
   ],
   "source": [
    "len(guitars_url)"
   ]
  },
  {
   "cell_type": "code",
   "execution_count": 25,
   "id": "5edf1968",
   "metadata": {},
   "outputs": [
    {
     "data": {
      "text/plain": [
       "59"
      ]
     },
     "execution_count": 25,
     "metadata": {},
     "output_type": "execute_result"
    }
   ],
   "source": [
    "len(guitars_url1)"
   ]
  },
  {
   "cell_type": "code",
   "execution_count": 28,
   "id": "c26e40d6",
   "metadata": {},
   "outputs": [
    {
     "data": {
      "text/plain": [
       "50"
      ]
     },
     "execution_count": 28,
     "metadata": {},
     "output_type": "execute_result"
    }
   ],
   "source": [
    "len(guitars_url2)"
   ]
  },
  {
   "cell_type": "code",
   "execution_count": 9,
   "id": "82ad6acd",
   "metadata": {},
   "outputs": [
    {
     "data": {
      "text/plain": [
       "['https://www.amazon.in/gp/slredirect/picassoRedirect.html/ref=pa_sp_atf_aps_sr_pg1_1?ie=UTF8&adId=A061107531TUGN5RHMV0N&url=%2FKadence-Frontier-Acoustic-Guitar-Strings%2Fdp%2FB01GDZ46AA%2Fref%3Dsr_1_1_sspa%3Fcrid%3D3UIQDMTWOO5SW%26keywords%3Dguitar%26qid%3D1654271460%26smid%3DAM04Z7MH4HSDD%26sprefix%3Dguitar%252Caps%252C526%26sr%3D8-1-spons%26psc%3D1&qualifier=1654271460&id=2434496431026157&widgetName=sp_atf',\n",
       " 'https://www.amazon.in/gp/slredirect/picassoRedirect.html/ref=pa_sp_atf_aps_sr_pg1_1?ie=UTF8&adId=A0046612372SWJAK5T57D&url=%2FKadence-Frontier-Acoustic-Equalizer-Strings%2Fdp%2FB01HRIHH9E%2Fref%3Dsr_1_2_sspa%3Fcrid%3D3UIQDMTWOO5SW%26keywords%3Dguitar%26qid%3D1654271460%26sprefix%3Dguitar%252Caps%252C526%26sr%3D8-2-spons%26psc%3D1&qualifier=1654271460&id=2434496431026157&widgetName=sp_atf',\n",
       " 'https://www.amazon.in/gp/slredirect/picassoRedirect.html/ref=pa_sp_atf_aps_sr_pg1_1?ie=UTF8&adId=A0049561XBD14Z9O6GXG&url=%2FBlueberry-38C-Acoustic-Guitar-Strings%2Fdp%2FB08KLMV4XX%2Fref%3Dsr_1_3_sspa%3Fcrid%3D3UIQDMTWOO5SW%26keywords%3Dguitar%26qid%3D1654271460%26sprefix%3Dguitar%252Caps%252C526%26sr%3D8-3-spons%26psc%3D1&qualifier=1654271460&id=2434496431026157&widgetName=sp_atf',\n",
       " 'https://www.amazon.in/gp/slredirect/picassoRedirect.html/ref=pa_sp_atf_aps_sr_pg1_1?ie=UTF8&adId=A0050053YFBD0RZWXSXR&url=%2FBlueberry-B-40EQ-GL-Fretboard-Amplifier-Equalizer%2Fdp%2FB09MZ5C9TL%2Fref%3Dsr_1_4_sspa%3Fcrid%3D3UIQDMTWOO5SW%26keywords%3Dguitar%26qid%3D1654271460%26sprefix%3Dguitar%252Caps%252C526%26sr%3D8-4-spons%26psc%3D1&qualifier=1654271460&id=2434496431026157&widgetName=sp_atf',\n",
       " 'https://www.amazon.in/Juarez-Acoustic-Cutaway-038C-Strings/dp/B017NPCSLI/ref=sr_1_5?crid=3UIQDMTWOO5SW&keywords=guitar&qid=1654271460&sprefix=guitar%2Caps%2C526&sr=8-5',\n",
       " 'https://www.amazon.in/Intern-INT-38C-Sunburst-Acoustic-Guitar/dp/B07X1J4D3Z/ref=sr_1_omk_6?crid=3UIQDMTWOO5SW&keywords=guitar&qid=1654271460&sprefix=guitar%2Caps%2C526&sr=8-6',\n",
       " 'https://www.amazon.in/Intern-INT-38C-Acoustic-Guitar-Black/dp/B073B6TQQY/ref=sr_1_7?crid=3UIQDMTWOO5SW&keywords=guitar&qid=1654271460&sprefix=guitar%2Caps%2C526&sr=8-7',\n",
       " 'https://www.amazon.in/Intern-INT-38C-Acoustic-Guitar-Black/dp/B073B6TQQY/ref=sxin_15?asc_contentid=amzn1.osa.1320a493-71c5-4ff9-a1fa-1353eba85472.A21TJRUUN4KGV.en_IN&asc_contenttype=article&ascsubtag=amzn1.osa.1320a493-71c5-4ff9-a1fa-1353eba85472.A21TJRUUN4KGV.en_IN&content-id=amzn1.sym.5ba284fc-356d-425a-af45-af36de0996bb%3Aamzn1.sym.5ba284fc-356d-425a-af45-af36de0996bb&creativeASIN=B073B6TQQY&crid=3UIQDMTWOO5SW&cv_ct_cx=guitar&cv_ct_id=amzn1.osa.1320a493-71c5-4ff9-a1fa-1353eba85472.A21TJRUUN4KGV.en_IN&cv_ct_pg=search&cv_ct_we=asin&cv_ct_wn=osp-single-source-earns-comm&keywords=guitar&linkCode=oas&pd_rd_i=B073B6TQQY&pd_rd_r=2680a763-4942-4ab2-9895-163c4317ac3a&pd_rd_w=9EC8A&pd_rd_wg=naXhJ&pf_rd_p=5ba284fc-356d-425a-af45-af36de0996bb&pf_rd_r=02BAZFFVKSAM7NGPZ56Q&qid=1654271460&sprefix=guitar%2Caps%2C526&sr=1-1-61f4c597-7a45-4a97-bd75-c52903f8ee93&tag=hznew-21',\n",
       " 'https://www.amazon.in/Kadence-Frontier-Acoustic-Guitar-Strings/dp/B01GDZ46AA/ref=sxin_15?asc_contentid=amzn1.osa.1320a493-71c5-4ff9-a1fa-1353eba85472.A21TJRUUN4KGV.en_IN&asc_contenttype=article&ascsubtag=amzn1.osa.1320a493-71c5-4ff9-a1fa-1353eba85472.A21TJRUUN4KGV.en_IN&content-id=amzn1.sym.5ba284fc-356d-425a-af45-af36de0996bb%3Aamzn1.sym.5ba284fc-356d-425a-af45-af36de0996bb&creativeASIN=B01GDZ46AA&crid=3UIQDMTWOO5SW&cv_ct_cx=guitar&cv_ct_id=amzn1.osa.1320a493-71c5-4ff9-a1fa-1353eba85472.A21TJRUUN4KGV.en_IN&cv_ct_pg=search&cv_ct_we=asin&cv_ct_wn=osp-single-source-earns-comm&keywords=guitar&linkCode=oas&pd_rd_i=B01GDZ46AA&pd_rd_r=2680a763-4942-4ab2-9895-163c4317ac3a&pd_rd_w=9EC8A&pd_rd_wg=naXhJ&pf_rd_p=5ba284fc-356d-425a-af45-af36de0996bb&pf_rd_r=02BAZFFVKSAM7NGPZ56Q&qid=1654271460&smid=AM04Z7MH4HSDD&sprefix=guitar%2Caps%2C526&sr=1-2-61f4c597-7a45-4a97-bd75-c52903f8ee93&tag=hznew-21',\n",
       " 'https://www.amazon.in/JUAREZ-JRZ38C-Acoustic-Sunburst-Strings/dp/B01FYYTDS6/ref=sxin_15?asc_contentid=amzn1.osa.1320a493-71c5-4ff9-a1fa-1353eba85472.A21TJRUUN4KGV.en_IN&asc_contenttype=article&ascsubtag=amzn1.osa.1320a493-71c5-4ff9-a1fa-1353eba85472.A21TJRUUN4KGV.en_IN&content-id=amzn1.sym.5ba284fc-356d-425a-af45-af36de0996bb%3Aamzn1.sym.5ba284fc-356d-425a-af45-af36de0996bb&creativeASIN=B01FYYTDS6&crid=3UIQDMTWOO5SW&cv_ct_cx=guitar&cv_ct_id=amzn1.osa.1320a493-71c5-4ff9-a1fa-1353eba85472.A21TJRUUN4KGV.en_IN&cv_ct_pg=search&cv_ct_we=asin&cv_ct_wn=osp-single-source-earns-comm&keywords=guitar&linkCode=oas&pd_rd_i=B01FYYTDS6&pd_rd_r=2680a763-4942-4ab2-9895-163c4317ac3a&pd_rd_w=9EC8A&pd_rd_wg=naXhJ&pf_rd_p=5ba284fc-356d-425a-af45-af36de0996bb&pf_rd_r=02BAZFFVKSAM7NGPZ56Q&qid=1654271460&sprefix=guitar%2Caps%2C526&sr=1-3-61f4c597-7a45-4a97-bd75-c52903f8ee93&tag=hznew-21',\n",
       " 'https://www.amazon.in/Epiphone-ENOLVSCH1-Electric-Guitars-Sunburst/dp/B075BTXVDJ/ref=sxin_15?asc_contentid=amzn1.osa.1320a493-71c5-4ff9-a1fa-1353eba85472.A21TJRUUN4KGV.en_IN&asc_contenttype=article&ascsubtag=amzn1.osa.1320a493-71c5-4ff9-a1fa-1353eba85472.A21TJRUUN4KGV.en_IN&content-id=amzn1.sym.5ba284fc-356d-425a-af45-af36de0996bb%3Aamzn1.sym.5ba284fc-356d-425a-af45-af36de0996bb&creativeASIN=B075BTXVDJ&crid=3UIQDMTWOO5SW&cv_ct_cx=guitar&cv_ct_id=amzn1.osa.1320a493-71c5-4ff9-a1fa-1353eba85472.A21TJRUUN4KGV.en_IN&cv_ct_pg=search&cv_ct_we=asin&cv_ct_wn=osp-single-source-earns-comm&keywords=guitar&linkCode=oas&pd_rd_i=B075BTXVDJ&pd_rd_r=2680a763-4942-4ab2-9895-163c4317ac3a&pd_rd_w=9EC8A&pd_rd_wg=naXhJ&pf_rd_p=5ba284fc-356d-425a-af45-af36de0996bb&pf_rd_r=02BAZFFVKSAM7NGPZ56Q&qid=1654271460&sprefix=guitar%2Caps%2C526&sr=1-4-61f4c597-7a45-4a97-bd75-c52903f8ee93&tag=hznew-21',\n",
       " 'https://www.amazon.in/Juarez-Acoustic-Guitar-Cutaway-Strings/dp/B076QHZ4HZ/ref=sr_1_8?crid=3UIQDMTWOO5SW&keywords=guitar&qid=1654271460&sprefix=guitar%2Caps%2C526&sr=8-8',\n",
       " 'https://www.amazon.in/Intern-38-inch-Cutaway-Design-Acoustic/dp/B07X4PN85R/ref=sr_1_9?crid=3UIQDMTWOO5SW&keywords=guitar&qid=1654271460&sprefix=guitar%2Caps%2C526&sr=8-9',\n",
       " 'https://www.amazon.in/Kadence-Frontier-Acoustic-Guitar-Strings/dp/B078GTJP5Y/ref=sr_1_10?crid=3UIQDMTWOO5SW&keywords=guitar&qid=1654271460&smid=AM04Z7MH4HSDD&sprefix=guitar%2Caps%2C526&sr=8-10',\n",
       " 'https://www.amazon.in/Photron-Acoustic-Cutaway-PH38C-BK/dp/B076T8V8NB/ref=sr_1_11?crid=3UIQDMTWOO5SW&keywords=guitar&qid=1654271460&sprefix=guitar%2Caps%2C526&sr=8-11',\n",
       " 'https://www.amazon.in/Rosewood-Fretboard-Acoustic-Strings-K-Retail/dp/B07KLG8C4P/ref=sr_1_12?crid=3UIQDMTWOO5SW&keywords=guitar&qid=1654271460&sprefix=guitar%2Caps%2C526&sr=8-12',\n",
       " 'https://www.amazon.in/Yamaha-Classical-Guitar-C40-02/dp/B003UGCUFE/ref=sr_1_13?crid=3UIQDMTWOO5SW&keywords=guitar&qid=1654271460&sprefix=guitar%2Caps%2C526&sr=8-13',\n",
       " 'https://www.amazon.in/JUAREZ-JRZ38C-Acoustic-Natural-Strings/dp/B01FYYTDWC/ref=sr_1_14?crid=3UIQDMTWOO5SW&keywords=guitar&qid=1654271460&sprefix=guitar%2Caps%2C526&sr=8-14',\n",
       " 'https://www.amazon.in/Henrix-Cutaway-Acoustic-Die-Cast-Tuners/dp/B07KMXDXBV/ref=sr_1_15?crid=3UIQDMTWOO5SW&keywords=guitar&qid=1654271460&sprefix=guitar%2Caps%2C526&sr=8-15',\n",
       " 'https://www.amazon.in/JUAREZ-JRZ38C-Handed-Acoustic-Strings/dp/B01FYYTDW2/ref=sr_1_16?crid=3UIQDMTWOO5SW&keywords=guitar&qid=1654271460&sprefix=guitar%2Caps%2C526&sr=8-16',\n",
       " 'https://www.amazon.in/Medellin-Acoustic-Guitar-Carbon-Learning/dp/B09MSFP7JK/ref=sr_1_17?crid=3UIQDMTWOO5SW&keywords=guitar&qid=1654271460&sprefix=guitar%2Caps%2C526&sr=8-17',\n",
       " 'https://www.amazon.in/Kadence-Frontier-Acoustic-Guitar-Strings/dp/B01GDZ46AA/ref=sr_1_18?crid=3UIQDMTWOO5SW&keywords=guitar&qid=1654271460&smid=AM04Z7MH4HSDD&sprefix=guitar%2Caps%2C526&sr=8-18',\n",
       " 'https://www.amazon.in/JRZ-ST01-6-String-Electric-Sunburst-Without/dp/B01FYZSOEE/ref=sr_1_19?crid=3UIQDMTWOO5SW&keywords=guitar&qid=1654271460&sprefix=guitar%2Caps%2C526&sr=8-19',\n",
       " 'https://www.amazon.in/Intern-INT-38C-SB-G-Guitar-Kit-Sunburst/dp/B07K8WLPLH/ref=sr_1_20?crid=3UIQDMTWOO5SW&keywords=guitar&qid=1654271460&sprefix=guitar%2Caps%2C526&sr=8-20',\n",
       " 'https://www.amazon.in/gp/slredirect/picassoRedirect.html/ref=pa_sp_mtf_aps_sr_pg1_1?ie=UTF8&adId=A0781470356P60BY9NFAO&url=%2FHOMME-STORE-Instrument-Educational-Instruments%2Fdp%2FB09MM9NBZC%2Fref%3Dsr_1_21_sspa%3Fcrid%3D3UIQDMTWOO5SW%26keywords%3Dguitar%26qid%3D1654271460%26sprefix%3Dguitar%252Caps%252C526%26sr%3D8-21-spons%26psc%3D1&qualifier=1654271460&id=2434496431026157&widgetName=sp_mtf',\n",
       " 'https://www.amazon.in/gp/slredirect/picassoRedirect.html/ref=pa_sp_mtf_aps_sr_pg1_1?ie=UTF8&adId=A035772132XYG2RHINY71&url=%2FExegi-Enterprise-Childrens-Instrument-Educational%2Fdp%2FB0B12YKQHV%2Fref%3Dsr_1_22_sspa%3Fcrid%3D3UIQDMTWOO5SW%26keywords%3Dguitar%26qid%3D1654271460%26sprefix%3Dguitar%252Caps%252C526%26sr%3D8-22-spons%26psc%3D1&qualifier=1654271460&id=2434496431026157&widgetName=sp_mtf',\n",
       " 'https://www.amazon.in/gp/slredirect/picassoRedirect.html/ref=pa_sp_mtf_aps_sr_pg1_1?ie=UTF8&adId=A08802611ONKSOGJ9HGRR&url=%2FHOMME-STORE-Acoustic-Instrument-Educational%2Fdp%2FB09RK4CWGK%2Fref%3Dsr_1_23_sspa%3Fcrid%3D3UIQDMTWOO5SW%26keywords%3Dguitar%26qid%3D1654271460%26sprefix%3Dguitar%252Caps%252C526%26sr%3D8-23-spons%26psc%3D1&qualifier=1654271460&id=2434496431026157&widgetName=sp_mtf',\n",
       " 'https://www.amazon.in/gp/slredirect/picassoRedirect.html/ref=pa_sp_mtf_aps_sr_pg1_1?ie=UTF8&adId=A00513451NPSOUKP9NKFP&url=%2FBlueberry-Acoustic-Inbuilt-Strings-Classic%2Fdp%2FB09VLF7G2D%2Fref%3Dsr_1_24_sspa%3Fcrid%3D3UIQDMTWOO5SW%26keywords%3Dguitar%26qid%3D1654271460%26sprefix%3Dguitar%252Caps%252C526%26sr%3D8-24-spons%26psc%3D1&qualifier=1654271460&id=2434496431026157&widgetName=sp_mtf',\n",
       " 'https://www.amazon.in/Intern-INT-38C-Acoustic-Guitar-Kit/dp/B073B6TF31/ref=sr_1_25?crid=3UIQDMTWOO5SW&keywords=guitar&qid=1654271460&sprefix=guitar%2Caps%2C526&sr=8-25',\n",
       " 'https://www.amazon.in/Medellin-Acoustic-Guitar-Carbon-Learning/dp/B09MSGQQWX/ref=sr_1_26?crid=3UIQDMTWOO5SW&keywords=guitar&qid=1654271460&sprefix=guitar%2Caps%2C526&sr=8-26',\n",
       " 'https://www.amazon.in/Intern-INT-38C-Acoustic-Guitar-Sunburst/dp/B073B5MJRM/ref=sr_1_27?crid=3UIQDMTWOO5SW&keywords=guitar&qid=1654271460&sprefix=guitar%2Caps%2C526&sr=8-27',\n",
       " 'https://www.amazon.in/Kadence-Frontier-Acoustic-Natural-Equalizer/dp/B01I50UJG6/ref=sr_1_28?crid=3UIQDMTWOO5SW&keywords=guitar&qid=1654271460&sprefix=guitar%2Caps%2C526&sr=8-28',\n",
       " 'https://www.amazon.in/Intern-INT-38C-Acoustic-Guitar-Natural/dp/B073B4D22T/ref=sr_1_29?crid=3UIQDMTWOO5SW&keywords=guitar&qid=1654271460&sprefix=guitar%2Caps%2C526&sr=8-29',\n",
       " 'https://www.amazon.in/JUAREZ-JRZ38C-Acoustic-Sunburst-Strings/dp/B01FYYTDS6/ref=sr_1_30?crid=3UIQDMTWOO5SW&keywords=guitar&qid=1654271460&sprefix=guitar%2Caps%2C526&sr=8-30',\n",
       " 'https://www.amazon.in/Intern-Acoustic-Steel-string-plectrums-INT-38C-WH/dp/B09LR94Z2X/ref=sr_1_31?crid=3UIQDMTWOO5SW&keywords=guitar&qid=1654271460&sprefix=guitar%2Caps%2C526&sr=8-31',\n",
       " 'https://www.amazon.in/JUAREZ-JRZ38C-Acoustic-Sunburst-Strings/dp/B01FYYTDTU/ref=sr_1_32?crid=3UIQDMTWOO5SW&keywords=guitar&qid=1654271460&sprefix=guitar%2Caps%2C526&sr=8-32',\n",
       " 'https://www.amazon.in/Medellin-Acoustic-specailized-learning-beginners/dp/B09MSGN39M/ref=sr_1_33?crid=3UIQDMTWOO5SW&keywords=guitar&qid=1654271460&sprefix=guitar%2Caps%2C526&sr=8-33',\n",
       " 'https://www.amazon.in/Juarez-Acoustic-Guitar-Cutaway-JRZ38CT/dp/B01N3TTYJQ/ref=sr_1_34?crid=3UIQDMTWOO5SW&keywords=guitar&qid=1654271460&sprefix=guitar%2Caps%2C526&sr=8-34',\n",
       " 'https://www.amazon.in/Kadence-Acoustica-Acoustic-Guitar-Zebra/dp/B07KXNKLJ2/ref=sr_1_35?crid=3UIQDMTWOO5SW&keywords=guitar&qid=1654271460&sprefix=guitar%2Caps%2C526&sr=8-35',\n",
       " 'https://www.amazon.in/Blueberry-38C-Acoustic-Guitar-Strings/dp/B08KLMV4XX/ref=sr_1_36?crid=3UIQDMTWOO5SW&keywords=guitar&qid=1654271460&sprefix=guitar%2Caps%2C526&sr=8-36',\n",
       " 'https://www.amazon.in/Medellin-Acoustic-LEARNING-beginners-handrest/dp/B09MSKKHJC/ref=sr_1_37?crid=3UIQDMTWOO5SW&keywords=guitar&qid=1654271460&sprefix=guitar%2Caps%2C526&sr=8-37',\n",
       " 'https://www.amazon.in/Epiphone-Express-Travel-Size-Electric-Guitar/dp/B00I056PII/ref=sr_1_38?crid=3UIQDMTWOO5SW&keywords=guitar&qid=1654271460&sprefix=guitar%2Caps%2C526&sr=8-38',\n",
       " 'https://www.amazon.in/JUAREZ-Acoustic-Guitar-String-JRGSE32/dp/B08MW1WPW5/ref=sr_1_39?crid=3UIQDMTWOO5SW&keywords=guitar&qid=1654271460&sprefix=guitar%2Caps%2C526&sr=8-39',\n",
       " 'https://www.amazon.in/CVANU-Fretboard-Fingerboard-Embossed-Trapezium/dp/B09FXPVJQB/ref=sr_1_40?crid=3UIQDMTWOO5SW&keywords=guitar&qid=1654271460&sprefix=guitar%2Caps%2C526&sr=8-40',\n",
       " 'https://www.amazon.in/DEVICE-URBAN-INFOTECH-Accurate-Acoustic/dp/B08BZXMJTP/ref=sr_1_41?crid=3UIQDMTWOO5SW&keywords=guitar&qid=1654271460&sprefix=guitar%2Caps%2C526&sr=8-41',\n",
       " 'https://www.amazon.in/Intern-INT-38C-BK-G-Guitar-Kit-Black/dp/B07K9497RC/ref=sr_1_42?crid=3UIQDMTWOO5SW&keywords=guitar&qid=1654271460&sprefix=guitar%2Caps%2C526&sr=8-42',\n",
       " 'https://www.amazon.in/Neowood-AT-01A-Guitar-Tuner-Black-Automatic-Chromatic/dp/B09XHTXG97/ref=sr_1_43?crid=3UIQDMTWOO5SW&keywords=guitar&qid=1654271460&sprefix=guitar%2Caps%2C526&sr=8-43',\n",
       " 'https://www.amazon.in/Revel-RVL-38C-LGP-NT-Linden-Acoustic-Natural/dp/B085HVRHPS/ref=sr_1_44?crid=3UIQDMTWOO5SW&keywords=guitar&qid=1654271460&sprefix=guitar%2Caps%2C526&sr=8-44',\n",
       " 'https://www.amazon.in/Intern-INT-38C-Natural-Acoustic-Guitar/dp/B07X4LPJ6H/ref=sr_1_45?crid=3UIQDMTWOO5SW&keywords=guitar&qid=1654271460&sprefix=guitar%2Caps%2C526&sr=8-45',\n",
       " 'https://www.amazon.in/Juarez-Acoustic-Guitar-Cutaway-Strings/dp/B075XMRKMY/ref=sr_1_46?crid=3UIQDMTWOO5SW&keywords=guitar&qid=1654271460&sprefix=guitar%2Caps%2C526&sr=8-46',\n",
       " 'https://www.amazon.in/Kadence-Frontier-Acoustic-Guitar-Equalizer/dp/B01HRIHJWY/ref=sr_1_47?crid=3UIQDMTWOO5SW&keywords=guitar&qid=1654271460&sprefix=guitar%2Caps%2C526&sr=8-47',\n",
       " 'https://www.amazon.in/YAMAHA-NATURAL-CONCERT-CUTAWAY-GUITAR/dp/B08KW4DRKL/ref=sr_1_48?crid=3UIQDMTWOO5SW&keywords=guitar&qid=1654271460&sprefix=guitar%2Caps%2C526&sr=8-48',\n",
       " 'https://www.amazon.in/Medellin-Acoustic-specailized-learning-beginners/dp/B09MSH3RY1/ref=sr_1_49?crid=3UIQDMTWOO5SW&keywords=guitar&qid=1654271460&sprefix=guitar%2Caps%2C526&sr=8-49',\n",
       " 'https://www.amazon.in/Fender-String-Cutaway-Acoustic-Guitar/dp/B07YX5W8MV/ref=sr_1_50?crid=3UIQDMTWOO5SW&keywords=guitar&qid=1654271460&sprefix=guitar%2Caps%2C526&sr=8-50',\n",
       " 'https://www.amazon.in/Intern-INT-38C-Acoustic-Guitar-Purple/dp/B073B4CT2F/ref=sr_1_51?crid=3UIQDMTWOO5SW&keywords=guitar&qid=1654271460&sprefix=guitar%2Caps%2C526&sr=8-51',\n",
       " 'https://www.amazon.in/Blueberry-38C-Acoustic-Strings-Natural/dp/B08KLNFL2Y/ref=sr_1_52?crid=3UIQDMTWOO5SW&keywords=guitar&qid=1654271460&sprefix=guitar%2Caps%2C526&sr=8-52',\n",
       " 'https://www.amazon.in/Medellin-carbn-guitar-38inch-NATURAL/dp/B09MSHD6TS/ref=sr_1_53?crid=3UIQDMTWOO5SW&keywords=guitar&qid=1654271460&sprefix=guitar%2Caps%2C526&sr=8-53',\n",
       " 'https://www.amazon.in/Yamaha-FS-100C-6-String-Acoustic-without/dp/B00PAS9CK6/ref=sr_1_54?crid=3UIQDMTWOO5SW&keywords=guitar&qid=1654271460&sprefix=guitar%2Caps%2C526&sr=8-54',\n",
       " 'https://www.amazon.in/Juarez-JRZ-ST01-6-String-Electric-Without/dp/B01FYZSOGM/ref=sr_1_55?crid=3UIQDMTWOO5SW&keywords=guitar&qid=1654271460&sprefix=guitar%2Caps%2C526&sr=8-55',\n",
       " 'https://www.amazon.in/Kadence-Professional-Guitar-Sunburst-Strings/dp/B07SXH9JKX/ref=sr_1_56?crid=3UIQDMTWOO5SW&keywords=guitar&qid=1654271460&sprefix=guitar%2Caps%2C526&sr=8-56',\n",
       " 'https://www.amazon.in/gp/slredirect/picassoRedirect.html/ref=pa_sp_btf_aps_sr_pg1_1?ie=UTF8&adId=A07400101YBINYLP9UEXI&url=%2FPremium-Spruce-Top-Cutaway-Acoustic-Guitar%2Fdp%2FB08FFZY6BJ%2Fref%3Dsr_1_57_sspa%3Fcrid%3D3UIQDMTWOO5SW%26keywords%3Dguitar%26qid%3D1654271460%26sprefix%3Dguitar%252Caps%252C526%26sr%3D8-57-spons%26psc%3D1&qualifier=1654271460&id=2434496431026157&widgetName=sp_btf',\n",
       " 'https://www.amazon.in/gp/slredirect/picassoRedirect.html/ref=pa_sp_btf_aps_sr_pg1_1?ie=UTF8&adId=A08790022Y5TKL7GOFMBU&url=%2FCort-AD810-Dreadnought-Acoustic-Guitar%2Fdp%2FB07KMBVR6V%2Fref%3Dsr_1_58_sspa%3Fcrid%3D3UIQDMTWOO5SW%26keywords%3Dguitar%26qid%3D1654271460%26sprefix%3Dguitar%252Caps%252C526%26sr%3D8-58-spons%26psc%3D1&qualifier=1654271460&id=2434496431026157&widgetName=sp_btf',\n",
       " 'https://www.amazon.in/gp/slredirect/picassoRedirect.html/ref=pa_sp_btf_aps_sr_pg1_1?ie=UTF8&adId=A0051781CZ5EMAAQHR9T&url=%2FBlueberry-Trussrod-Acoustic-Strings-Natural%2Fdp%2FB09WLNQFC9%2Fref%3Dsr_1_59_sspa%3Fcrid%3D3UIQDMTWOO5SW%26keywords%3Dguitar%26qid%3D1654271460%26sprefix%3Dguitar%252Caps%252C526%26sr%3D8-59-spons%26psc%3D1&qualifier=1654271460&id=2434496431026157&widgetName=sp_btf',\n",
       " 'https://www.amazon.in/gp/slredirect/picassoRedirect.html/ref=pa_sp_btf_aps_sr_pg1_1?ie=UTF8&adId=A0861925XMECZ4E7U7VC&url=%2FKaps-ST-6-Strings-Acoustic-Right-Handed%2Fdp%2FB01D9OK6NY%2Fref%3Dsr_1_60_sspa%3Fcrid%3D3UIQDMTWOO5SW%26keywords%3Dguitar%26qid%3D1654271460%26sprefix%3Dguitar%252Caps%252C526%26sr%3D8-60-spons%26psc%3D1%26smid%3DA25SDO8DM1FXLU&qualifier=1654271460&id=2434496431026157&widgetName=sp_btf']"
      ]
     },
     "execution_count": 9,
     "metadata": {},
     "output_type": "execute_result"
    }
   ],
   "source": [
    "guitars_url"
   ]
  },
  {
   "cell_type": "code",
   "execution_count": 29,
   "id": "02b58397",
   "metadata": {},
   "outputs": [
    {
     "data": {
      "text/plain": [
       "['https://www.amazon.in/gp/slredirect/picassoRedirect.html/ref=pa_sp_atf_next_aps_sr_pg2_1?ie=UTF8&adId=A00514452JKYA7IP4JEAA&url=%2FBlueberry-Acoustic-Inbuilt-Strings-Classic%2Fdp%2FB09VLF8B8G%2Fref%3Dsr_1_49_sspa%3Fcrid%3DX15WAB4HM9VC%26keywords%3Dguitar%26qid%3D1654186260%26sprefix%3Dguitar%252Caps%252C558%26sr%3D8-49-spons%26psc%3D1&qualifier=1654186260&id=8000683022048492&widgetName=sp_atf_next',\n",
       " 'https://www.amazon.in/gp/slredirect/picassoRedirect.html/ref=pa_sp_atf_next_aps_sr_pg2_1?ie=UTF8&adId=A0049661OA1A59SHEFCK&url=%2FBlueberry-38C-Acoustic-Strings-Natural%2Fdp%2FB08KLNFL2Y%2Fref%3Dsr_1_50_sspa%3Fcrid%3DX15WAB4HM9VC%26keywords%3Dguitar%26qid%3D1654186260%26sprefix%3Dguitar%252Caps%252C558%26sr%3D8-50-spons%26psc%3D1&qualifier=1654186260&id=8000683022048492&widgetName=sp_atf_next',\n",
       " 'https://www.amazon.in/gp/slredirect/picassoRedirect.html/ref=pa_sp_atf_next_aps_sr_pg2_1?ie=UTF8&adId=A087933837LQ4BBEWM3H5&url=%2FGUITAR-BRO-Acoustic-Beginner-Accessories%2Fdp%2FB07T84GC8L%2Fref%3Dsr_1_51_sspa%3Fcrid%3DX15WAB4HM9VC%26keywords%3Dguitar%26qid%3D1654186260%26sprefix%3Dguitar%252Caps%252C558%26sr%3D8-51-spons%26psc%3D1&qualifier=1654186260&id=8000683022048492&widgetName=sp_atf_next',\n",
       " 'https://www.amazon.in/gp/slredirect/picassoRedirect.html/ref=pa_sp_atf_next_aps_sr_pg2_1?ie=UTF8&adId=A00510453201C43891NF7&url=%2FBlueberry-Acoustic-Guitar-Strings-Picks%2Fdp%2FB08L7NQB57%2Fref%3Dsr_1_52_sspa%3Fcrid%3DX15WAB4HM9VC%26keywords%3Dguitar%26qid%3D1654186260%26sprefix%3Dguitar%252Caps%252C558%26sr%3D8-52-spons%26psc%3D1&qualifier=1654186260&id=8000683022048492&widgetName=sp_atf_next',\n",
       " 'https://www.amazon.in/JUAREZ-JRZ38CTR-BK-Acoustic-Guitar/dp/B08FTZK7H8/ref=sr_1_53?crid=X15WAB4HM9VC&keywords=guitar&qid=1654186260&sprefix=guitar%2Caps%2C558&sr=8-53',\n",
       " 'https://www.amazon.in/Juarez-JRZ-ST01-6-String-Electric-Without/dp/B01FYZSOGM/ref=sr_1_54?crid=X15WAB4HM9VC&keywords=guitar&qid=1654186260&sprefix=guitar%2Caps%2C558&sr=8-54',\n",
       " 'https://www.amazon.in/Kadence-Slowhand-Premium-Acoustic-Instrument/dp/B077SZ667X/ref=sr_1_55?crid=X15WAB4HM9VC&keywords=guitar&qid=1654186260&smid=AM04Z7MH4HSDD&sprefix=guitar%2Caps%2C558&sr=8-55',\n",
       " 'https://www.amazon.in/Kadence-Frontier-Acoustic-Foldable-Strings/dp/B01CJJGEVS/ref=sr_1_56?crid=X15WAB4HM9VC&keywords=guitar&qid=1654186260&sprefix=guitar%2Caps%2C558&sr=8-56',\n",
       " 'https://www.amazon.in/JRZ38C-Strings-Acoustic-Cutaway-Mahogany/dp/B071JM8C6T/ref=sr_1_57?crid=X15WAB4HM9VC&keywords=guitar&qid=1654186260&sprefix=guitar%2Caps%2C558&sr=8-57',\n",
       " 'https://www.amazon.in/Blueberry-38C-Acoustic-Guitar-Strings/dp/B08KLMV4XX/ref=sr_1_58?crid=X15WAB4HM9VC&keywords=guitar&qid=1654186260&sprefix=guitar%2Caps%2C558&sr=8-58',\n",
       " 'https://www.amazon.in/Intern-INT-38C-Natural-Acoustic-Guitar/dp/B07X4LPJ6H/ref=sr_1_59?crid=X15WAB4HM9VC&keywords=guitar&qid=1654186260&sprefix=guitar%2Caps%2C558&sr=8-59',\n",
       " 'https://www.amazon.in/SF-600GC-Concert-Acoustic-Cutaway-Natural/dp/B0B1HZZ43T/ref=sr_1_60?crid=X15WAB4HM9VC&keywords=guitar&qid=1654186260&sprefix=guitar%2Caps%2C558&sr=8-60',\n",
       " 'https://www.amazon.in/Medellin-carbn-guitar-38inch-NATURAL/dp/B09MSHD6TS/ref=sr_1_61?crid=X15WAB4HM9VC&keywords=guitar&qid=1654186260&sprefix=guitar%2Caps%2C558&sr=8-61',\n",
       " 'https://www.amazon.in/Blueberry-Acoustic-Inbuilt-Strings-Classic/dp/B09VLF7G2D/ref=sr_1_62?crid=X15WAB4HM9VC&keywords=guitar&qid=1654186260&sprefix=guitar%2Caps%2C558&sr=8-62',\n",
       " 'https://www.amazon.in/Medellin-Acoustic-specailized-learning-beginners/dp/B09MSH3RY1/ref=sr_1_63?crid=X15WAB4HM9VC&keywords=guitar&qid=1654186260&sprefix=guitar%2Caps%2C558&sr=8-63',\n",
       " 'https://www.amazon.in/Epiphone-Express-Travel-Size-Electric-Guitar/dp/B00I056PII/ref=sr_1_64?crid=X15WAB4HM9VC&keywords=guitar&qid=1654186260&sprefix=guitar%2Caps%2C558&sr=8-64',\n",
       " 'https://www.amazon.in/Blueberry-B-D38-Acoustic-Inbuilt-Sunburst/dp/B08LNP8KGS/ref=sr_1_65?crid=X15WAB4HM9VC&keywords=guitar&qid=1654186260&sprefix=guitar%2Caps%2C558&sr=8-65',\n",
       " 'https://www.amazon.in/Kadence-Professional-Guitar-Sunburst-Strings/dp/B07SXH9JKX/ref=sr_1_66?crid=X15WAB4HM9VC&keywords=guitar&qid=1654186260&sprefix=guitar%2Caps%2C558&sr=8-66',\n",
       " 'https://www.amazon.in/Blueberry-38C-Acoustic-Strings-Natural/dp/B08KLNFL2Y/ref=sr_1_67?crid=X15WAB4HM9VC&keywords=guitar&qid=1654186260&sprefix=guitar%2Caps%2C558&sr=8-67',\n",
       " 'https://www.amazon.in/Kordz-Luana-Sunburst-Rosewood-Fretboard/dp/B08T211P2P/ref=sr_1_68?crid=X15WAB4HM9VC&keywords=guitar&qid=1654186260&sprefix=guitar%2Caps%2C558&sr=8-68',\n",
       " 'https://www.amazon.in/gp/slredirect/picassoRedirect.html/ref=pa_sp_mtf_aps_sr_pg2_1?ie=UTF8&adId=A0862905WC9IP5NPM7VF&url=%2FKaps-ST-10AC-Strings-Acoustic-Guitar%2Fdp%2FB06XRZCCXH%2Fref%3Dsr_1_69_sspa%3Fcrid%3DX15WAB4HM9VC%26keywords%3Dguitar%26qid%3D1654186260%26sprefix%3Dguitar%252Caps%252C558%26sr%3D8-69-spons%26psc%3D1&qualifier=1654186260&id=8000683022048492&widgetName=sp_mtf',\n",
       " 'https://www.amazon.in/gp/slredirect/picassoRedirect.html/ref=pa_sp_mtf_aps_sr_pg2_1?ie=UTF8&adId=A00511333B6LTZW3VVAX9&url=%2FBlueberry-Trussrod-Acoustic-Guitar-Sunburst%2Fdp%2FB08WH5553T%2Fref%3Dsr_1_70_sspa%3Fcrid%3DX15WAB4HM9VC%26keywords%3Dguitar%26qid%3D1654186260%26sprefix%3Dguitar%252Caps%252C558%26sr%3D8-70-spons%26psc%3D1&qualifier=1654186260&id=8000683022048492&widgetName=sp_mtf',\n",
       " 'https://www.amazon.in/gp/slredirect/picassoRedirect.html/ref=pa_sp_mtf_aps_sr_pg2_1?ie=UTF8&adId=A02055132SF64AM9MYQQ8&url=%2FKadence-6-strings-Acoustic-Guitar-Natural%2Fdp%2FB07JKYWGJN%2Fref%3Dsr_1_71_sspa%3Fcrid%3DX15WAB4HM9VC%26keywords%3Dguitar%26qid%3D1654186260%26sprefix%3Dguitar%252Caps%252C558%26sr%3D8-71-spons%26psc%3D1%26smid%3DAM04Z7MH4HSDD&qualifier=1654186260&id=8000683022048492&widgetName=sp_mtf',\n",
       " 'https://www.amazon.in/gp/slredirect/picassoRedirect.html/ref=pa_sp_mtf_aps_sr_pg2_1?ie=UTF8&adId=A0050053YFBD0RZWXSXR&url=%2FBlueberry-B-40EQ-GL-Fretboard-Amplifier-Equalizer%2Fdp%2FB09MZ5C9TL%2Fref%3Dsr_1_72_sspa%3Fcrid%3DX15WAB4HM9VC%26keywords%3Dguitar%26qid%3D1654186260%26sprefix%3Dguitar%252Caps%252C558%26sr%3D8-72-spons%26psc%3D1&qualifier=1654186260&id=8000683022048492&widgetName=sp_mtf',\n",
       " 'https://www.amazon.in/Intern-INT-38C-Brown-Acoustic-Guitar/dp/B07X2HV158/ref=sr_1_73?crid=X15WAB4HM9VC&keywords=guitar&qid=1654186260&sprefix=guitar%2Caps%2C558&sr=8-73',\n",
       " 'https://www.amazon.in/Yamaha-Acoustic-Tobacco-Sunburst-Bajaao/dp/B09PBDGD82/ref=sr_1_74?crid=X15WAB4HM9VC&keywords=guitar&qid=1654186260&sprefix=guitar%2Caps%2C558&sr=8-74',\n",
       " 'https://www.amazon.in/Kadence-Acoustica-Acoustic-Guitar-A03/dp/B08WCTFVT9/ref=sr_1_75?crid=X15WAB4HM9VC&keywords=guitar&qid=1654186260&sprefix=guitar%2Caps%2C558&sr=8-75',\n",
       " 'https://www.amazon.in/Festra-38C-Acoustic-Strings-Blueburst/dp/B09VL14XG2/ref=sr_1_76?crid=X15WAB4HM9VC&keywords=guitar&qid=1654186260&sprefix=guitar%2Caps%2C558&sr=8-76',\n",
       " 'https://www.amazon.in/Intern-INT-38C-VT-G-Guitar-Kit-Violet/dp/B07K8YJXKL/ref=sr_1_77?crid=X15WAB4HM9VC&keywords=guitar&qid=1654186260&sprefix=guitar%2Caps%2C558&sr=8-77',\n",
       " 'https://www.amazon.in/Martin-Smith-W-101-N-PK-Acoustic-Natural/dp/B00UOUK4IE/ref=sr_1_78?crid=X15WAB4HM9VC&keywords=guitar&qid=1654186260&sprefix=guitar%2Caps%2C558&sr=8-78',\n",
       " 'https://www.amazon.in/Junior-Acoustic-Guitar-Strings-Polishing/dp/B07RMJ88G2/ref=sr_1_79?crid=X15WAB4HM9VC&keywords=guitar&qid=1654186260&sprefix=guitar%2Caps%2C558&sr=8-79',\n",
       " 'https://www.amazon.in/Ibanez-IBA-MD39CNT-Acoustic-Guitar-MD39C-NT/dp/B07G4CCMYL/ref=sr_1_80?crid=X15WAB4HM9VC&keywords=guitar&qid=1654186260&sprefix=guitar%2Caps%2C558&sr=8-80',\n",
       " 'https://www.amazon.in/Kordz-Luana-Natural-Rosewood-Fretboard/dp/B07V4Y1V9M/ref=sr_1_81?crid=X15WAB4HM9VC&keywords=guitar&qid=1654186260&sprefix=guitar%2Caps%2C558&sr=8-81',\n",
       " 'https://www.amazon.in/Acoustic-stability-professional-amplificaiton-Sunburst/dp/B09YH8TVW7/ref=sr_1_82?crid=X15WAB4HM9VC&keywords=guitar&qid=1654186260&sprefix=guitar%2Caps%2C558&sr=8-82',\n",
       " 'https://www.amazon.in/Granada-Acoustic-Dreadnought-PRLD-14C-F-Black/dp/B09JBWZG14/ref=sr_1_83?crid=X15WAB4HM9VC&keywords=guitar&qid=1654186260&sprefix=guitar%2Caps%2C558&sr=8-83',\n",
       " 'https://www.amazon.in/Epiphone-Classic-String-Handed-Electric/dp/B085GCG3LN/ref=sr_1_84?crid=X15WAB4HM9VC&keywords=guitar&qid=1654186260&sprefix=guitar%2Caps%2C558&sr=8-84',\n",
       " 'https://www.amazon.in/Intern-INT-38C-L-BK-Acoustic-Guitar-Black/dp/B07J4W2KTW/ref=sr_1_85?crid=X15WAB4HM9VC&keywords=guitar&qid=1654186260&sprefix=guitar%2Caps%2C558&sr=8-85',\n",
       " 'https://www.amazon.in/Acoustic-Humidity-resistant-resonance-Sunburst/dp/B09RQYYQBB/ref=sr_1_86?crid=X15WAB4HM9VC&keywords=guitar&qid=1654186260&sprefix=guitar%2Caps%2C558&sr=8-86',\n",
       " 'https://www.amazon.in/Yamaha-F310Cover-Acoustic-Natural-6-Strings/dp/B01LXMGHL5/ref=sr_1_87?crid=X15WAB4HM9VC&keywords=guitar&qid=1654186260&sprefix=guitar%2Caps%2C558&sr=8-87',\n",
       " 'https://www.amazon.in/Revel-RVL-38C-LGP-BLS-Linden-Acoustic-Guitar/dp/B085HWKDCY/ref=sr_1_88?crid=X15WAB4HM9VC&keywords=guitar&qid=1654186260&sprefix=guitar%2Caps%2C558&sr=8-88',\n",
       " 'https://www.amazon.in/Fender-Dread-String-Acoustic-Guitar/dp/B07RM21D8X/ref=sr_1_89?crid=X15WAB4HM9VC&keywords=guitar&qid=1654186260&sprefix=guitar%2Caps%2C558&sr=8-89',\n",
       " 'https://www.amazon.in/Vault-String-Electric-Guitar-Metallic/dp/B08F2JDPWR/ref=sr_1_90?crid=X15WAB4HM9VC&keywords=guitar&qid=1654186260&sprefix=guitar%2Caps%2C558&sr=8-90',\n",
       " 'https://www.amazon.in/Acoustic-Humidity-resistant-resonance-Plectrums/dp/B09RQZG25Q/ref=sr_1_91?crid=X15WAB4HM9VC&keywords=guitar&qid=1654186260&sprefix=guitar%2Caps%2C558&sr=8-91',\n",
       " 'https://www.amazon.in/Ultimate-Concert-Cutaway-Acoustic-Bajaao/dp/B08WHWKKV5/ref=sr_1_92?crid=X15WAB4HM9VC&keywords=guitar&qid=1654186260&sprefix=guitar%2Caps%2C558&sr=8-92',\n",
       " 'https://www.amazon.in/Kadence-Frontier-Acoustic-Equalizer-Strings/dp/B01HRIHH9E/ref=sr_1_93?crid=X15WAB4HM9VC&keywords=guitar&qid=1654186260&sprefix=guitar%2Caps%2C558&sr=8-93',\n",
       " 'https://www.amazon.in/Cort-Classical-Acoustic-CEC1-OP-Plectrums/dp/B08DP69KD7/ref=sr_1_94?crid=X15WAB4HM9VC&keywords=guitar&qid=1654186260&sprefix=guitar%2Caps%2C558&sr=8-94',\n",
       " 'https://www.amazon.in/Kadence-Concert-Ukulele-Equalizer-Binding/dp/B08PNSGQBL/ref=sr_1_95?crid=X15WAB4HM9VC&keywords=guitar&qid=1654186260&sprefix=guitar%2Caps%2C558&sr=8-95',\n",
       " 'https://www.amazon.in/Givson-Ketostics-VS-RED-Acoustic-Plectrums/dp/B08KS2N1H9/ref=sr_1_96?crid=X15WAB4HM9VC&keywords=guitar&qid=1654186260&sprefix=guitar%2Caps%2C558&sr=8-96',\n",
       " 'https://www.amazon.in/Acoustic-plectrums-stability-resistance-Sunburst/dp/B09YH85679/ref=sr_1_97?crid=X15WAB4HM9VC&keywords=guitar&qid=1654186260&sprefix=guitar%2Caps%2C558&sr=8-97',\n",
       " 'https://www.amazon.in/Givsun-Special-6-String-Acoustic-Semi-Electric/dp/B07ZTWR7GP/ref=sr_1_98?crid=X15WAB4HM9VC&keywords=guitar&qid=1654186260&sprefix=guitar%2Caps%2C558&sr=8-98',\n",
       " 'https://www.amazon.in/Special-Cutaway-Rosewood-Acoustic-Plectrums/dp/B09P3YQQLK/ref=sr_1_99?crid=X15WAB4HM9VC&keywords=guitar&qid=1654186260&sprefix=guitar%2Caps%2C558&sr=8-99',\n",
       " 'https://www.amazon.in/Mini-Guitar-Model-Nice-Guitar-Model-Stand-Collection/dp/B0B2NBCCPZ/ref=sr_1_100?crid=X15WAB4HM9VC&keywords=guitar&qid=1654186260&sprefix=guitar%2Caps%2C558&sr=8-100',\n",
       " 'https://www.amazon.in/JUAREZ-JRZ38C-Handed-Acoustic-Strings/dp/B01FYYTDX6/ref=sr_1_101?crid=X15WAB4HM9VC&keywords=guitar&qid=1654186260&sprefix=guitar%2Caps%2C558&sr=8-101',\n",
       " 'https://www.amazon.in/Juarez-Acoustic-Guitar-Cutaway-Strings/dp/B084VRCCN7/ref=sr_1_102?crid=X15WAB4HM9VC&keywords=guitar&qid=1654186260&sprefix=guitar%2Caps%2C558&sr=8-102',\n",
       " 'https://www.amazon.in/TECHBLAZE-Guitar-Acoustic-Machine-pieces/dp/B08X6MGB3V/ref=sr_1_103?crid=X15WAB4HM9VC&keywords=guitar&qid=1654186260&sprefix=guitar%2Caps%2C558&sr=8-103',\n",
       " 'https://www.amazon.in/Special-6-string-Acoustic-Semi-Electric-2picks/dp/B09K7VWKBM/ref=sr_1_104?crid=X15WAB4HM9VC&keywords=guitar&qid=1654186260&sprefix=guitar%2Caps%2C558&sr=8-104',\n",
       " 'https://www.amazon.in/gp/slredirect/picassoRedirect.html/ref=pa_sp_btf_aps_sr_pg2_1?ie=UTF8&adId=A0702728AFE4O75OWI50&url=%2FLaxmi-Musical-Electronics-Acoustic-Instruments%2Fdp%2FB08X4KD6P1%2Fref%3Dsr_1_105_sspa%3Fcrid%3DX15WAB4HM9VC%26keywords%3Dguitar%26qid%3D1654186260%26sprefix%3Dguitar%252Caps%252C558%26sr%3D8-105-spons%26psc%3D1&qualifier=1654186260&id=8000683022048492&widgetName=sp_btf',\n",
       " 'https://www.amazon.in/gp/slredirect/picassoRedirect.html/ref=pa_sp_btf_aps_sr_pg2_1?ie=UTF8&adId=A00502093JZAPX140CZG0&url=%2FBlueberry-B-G41S-Acoustic-Strings-Natural%2Fdp%2FB07PKQGF2N%2Fref%3Dsr_1_106_sspa%3Fcrid%3DX15WAB4HM9VC%26keywords%3Dguitar%26qid%3D1654186260%26sprefix%3Dguitar%252Caps%252C558%26sr%3D8-106-spons%26psc%3D1&qualifier=1654186260&id=8000683022048492&widgetName=sp_btf',\n",
       " 'https://www.amazon.in/gp/slredirect/picassoRedirect.html/ref=pa_sp_btf_aps_sr_pg2_1?ie=UTF8&adId=A00497171W5X8ZPSW04BM&url=%2FBlueberry-Acoustic-Guitar-Strings-Sunburst%2Fdp%2FB08L7XJQQ1%2Fref%3Dsr_1_107_sspa%3Fcrid%3DX15WAB4HM9VC%26keywords%3Dguitar%26qid%3D1654186260%26sprefix%3Dguitar%252Caps%252C558%26sr%3D8-107-spons%26psc%3D1&qualifier=1654186260&id=8000683022048492&widgetName=sp_btf']"
      ]
     },
     "execution_count": 29,
     "metadata": {},
     "output_type": "execute_result"
    }
   ],
   "source": [
    "guitars_url1"
   ]
  },
  {
   "cell_type": "code",
   "execution_count": 30,
   "id": "e59bbdd9",
   "metadata": {},
   "outputs": [
    {
     "data": {
      "text/plain": [
       "['https://www.amazon.in/gp/slredirect/picassoRedirect.html/ref=pa_sp_atf_next_aps_sr_pg3_1?ie=UTF8&adId=A00505533US57S2BBM7O7&url=%2FBlueberry-40Inches-Acoustic-inbuilt-Sunburst%2Fdp%2FB07PHFXH6W%2Fref%3Dsr_1_97_sspa%3Fcrid%3DX15WAB4HM9VC%26keywords%3Dguitar%26qid%3D1654186329%26sprefix%3Dguitar%252Caps%252C558%26sr%3D8-97-spons%26psc%3D1&qualifier=1654186329&id=2089361610942076&widgetName=sp_atf_next',\n",
       " 'https://www.amazon.in/gp/slredirect/picassoRedirect.html/ref=pa_sp_atf_next_aps_sr_pg3_1?ie=UTF8&adId=A00573293MJIKRIM2JX20&url=%2FBlueberry-38C-Acoustic-Strings-Sunburst%2Fdp%2FB08KLMQN88%2Fref%3Dsr_1_98_sspa%3Fcrid%3DX15WAB4HM9VC%26keywords%3Dguitar%26qid%3D1654186329%26sprefix%3Dguitar%252Caps%252C558%26sr%3D8-98-spons%26psc%3D1&qualifier=1654186329&id=2089361610942076&widgetName=sp_atf_next',\n",
       " 'https://www.amazon.in/Kadence-Acoustica-Ash-Wood-Equlizer/dp/B0757H5P13/ref=sr_1_99?crid=X15WAB4HM9VC&keywords=guitar&qid=1654186329&smid=AM04Z7MH4HSDD&sprefix=guitar%2Caps%2C558&sr=8-99',\n",
       " 'https://www.amazon.in/Cort-AD810-Dreadnought-Acoustic-Guitar/dp/B07KMBVR6V/ref=sr_1_100?crid=X15WAB4HM9VC&keywords=guitar&qid=1654186329&sprefix=guitar%2Caps%2C558&sr=8-100',\n",
       " 'https://www.amazon.in/DEVICE-URBAN-INFOTECH-Rotational-Electronic/dp/B081LG3X5H/ref=sr_1_101?crid=X15WAB4HM9VC&keywords=guitar&qid=1654186329&sprefix=guitar%2Caps%2C558&sr=8-101',\n",
       " 'https://www.amazon.in/Medellin-MED-BLU-C-Linden-Acoustic-Guitar/dp/B07NBMWHJW/ref=sr_1_102?crid=X15WAB4HM9VC&keywords=guitar&qid=1654186329&sprefix=guitar%2Caps%2C558&sr=8-102',\n",
       " 'https://www.amazon.in/KREEPO-Fretboard-Fingerboard-Acoustic-Electric-Multicolor/dp/B09DWY4ZK2/ref=sr_1_103?crid=X15WAB4HM9VC&keywords=guitar&qid=1654186329&sprefix=guitar%2Caps%2C558&sr=8-103',\n",
       " 'https://www.amazon.in/Fender-Dread-String-Acoustic-Guitar/dp/B07RL6VG3H/ref=sr_1_104?crid=X15WAB4HM9VC&keywords=guitar&qid=1654186329&sprefix=guitar%2Caps%2C558&sr=8-104',\n",
       " 'https://www.amazon.in/Juarez-JRZ-ST01-6-String-Electric-Without/dp/B01FYZSOHG/ref=sr_1_105?crid=X15WAB4HM9VC&keywords=guitar&qid=1654186329&sprefix=guitar%2Caps%2C558&sr=8-105',\n",
       " 'https://www.amazon.in/Yamaha-FSX80C-Acoustic-Cutaway-Guitar/dp/B09HL5WFDX/ref=sr_1_106?crid=X15WAB4HM9VC&keywords=guitar&qid=1654186329&sprefix=guitar%2Caps%2C558&sr=8-106',\n",
       " 'https://www.amazon.in/Cort-AD810BKS-Standard-Dreadnought-Mahogany/dp/B00KQEXK2A/ref=sr_1_97?crid=X15WAB4HM9VC&keywords=guitar&qid=1654186329&sprefix=guitar%2Caps%2C558&sr=8-97',\n",
       " 'https://www.amazon.in/Universal-Acoustic-Classical-Mandolins-Instruments/dp/B08XBRNC7T/ref=sr_1_98?crid=X15WAB4HM9VC&keywords=guitar&qid=1654186329&sprefix=guitar%2Caps%2C558&sr=8-98',\n",
       " 'https://www.amazon.in/Acoustic-plectrums-stability-age-groups-Sunburst/dp/B09YH77571/ref=sr_1_99?crid=X15WAB4HM9VC&keywords=guitar&qid=1654186329&sprefix=guitar%2Caps%2C558&sr=8-99',\n",
       " 'https://www.amazon.in/Ibanez-Acoustic-Guitar-Handed-Cutaway/dp/B08FMW6WJM/ref=sr_1_100?crid=X15WAB4HM9VC&keywords=guitar&qid=1654186329&sprefix=guitar%2Caps%2C558&sr=8-100',\n",
       " 'https://www.amazon.in/Techblaze-Strings-Changing-Multicolored-Acoustic/dp/B08L64C7LX/ref=sr_1_101?crid=X15WAB4HM9VC&keywords=guitar&qid=1654186329&sprefix=guitar%2Caps%2C558&sr=8-101',\n",
       " 'https://www.amazon.in/Kadence-AstroMan-Electric-ROSEWOOD-FRETBOARD/dp/B09YHPS66K/ref=sr_1_102?crid=X15WAB4HM9VC&keywords=guitar&qid=1654186329&sprefix=guitar%2Caps%2C558&sr=8-102',\n",
       " 'https://www.amazon.in/Kadence-6-strings-Acoustic-Guitar-Natural/dp/B07JKYWGJN/ref=sr_1_103?crid=X15WAB4HM9VC&keywords=guitar&qid=1654186329&sprefix=guitar%2Caps%2C558&sr=8-103',\n",
       " 'https://www.amazon.in/Acoustic-Pick-up-stability-professional-amplificaiton/dp/B09YH8X5CL/ref=sr_1_104?crid=X15WAB4HM9VC&keywords=guitar&qid=1654186329&sprefix=guitar%2Caps%2C558&sr=8-104',\n",
       " 'https://www.amazon.in/Blueberry-B-40EQ-GL-Fretboard-Amplifier-Equalizer/dp/B09MZ5C9TL/ref=sr_1_105?crid=X15WAB4HM9VC&keywords=guitar&qid=1654186329&sprefix=guitar%2Caps%2C558&sr=8-105',\n",
       " 'https://www.amazon.in/JUAREZ-Arpeggio-Acoustic-Rosewood-Fretboard/dp/B08LBGLRFC/ref=sr_1_106?crid=X15WAB4HM9VC&keywords=guitar&qid=1654186329&sprefix=guitar%2Caps%2C558&sr=8-106',\n",
       " 'https://www.amazon.in/Walden-Acoustic-Orchestra-Natural-O550E/dp/B086XGPWN1/ref=sr_1_107?crid=X15WAB4HM9VC&keywords=guitar&qid=1654186329&sprefix=guitar%2Caps%2C558&sr=8-107',\n",
       " 'https://www.amazon.in/Ibanez-MD39C-NT-Cutaway-Acoustic-Polishing/dp/B084C1DGCV/ref=sr_1_108?crid=X15WAB4HM9VC&keywords=guitar&qid=1654186329&sprefix=guitar%2Caps%2C558&sr=8-108',\n",
       " 'https://www.amazon.in/Exquisite-Instrument-Collection-Beautiful-Basswood/dp/B0B196RL79/ref=sr_1_109?crid=X15WAB4HM9VC&keywords=guitar&qid=1654186329&sprefix=guitar%2Caps%2C558&sr=8-109',\n",
       " 'https://www.amazon.in/Intern-Acoustic-package-Cutaway-INT-IN39C-BK/dp/B08NQMDM3Z/ref=sr_1_110?crid=X15WAB4HM9VC&keywords=guitar&qid=1654186329&sprefix=guitar%2Caps%2C558&sr=8-110',\n",
       " 'https://www.amazon.in/KAPS-ST-6-Strings-Acoustic-Right-Handed/dp/B01FBQKYRQ/ref=sr_1_111?crid=X15WAB4HM9VC&keywords=guitar&qid=1654186329&sprefix=guitar%2Caps%2C558&sr=8-111',\n",
       " 'https://www.amazon.in/Fender-FA-15-Stringed-Acoustic-Guitar/dp/B08PMLSBXT/ref=sr_1_112?crid=X15WAB4HM9VC&keywords=guitar&qid=1654186329&sprefix=guitar%2Caps%2C558&sr=8-112',\n",
       " 'https://www.amazon.in/Kadence-Frontier-Acoustic-Guitar-Strings/dp/B01CJJG328/ref=sr_1_113?crid=X15WAB4HM9VC&keywords=guitar&qid=1654186329&sprefix=guitar%2Caps%2C558&sr=8-113',\n",
       " 'https://www.amazon.in/Acoustic-plectrums-stability-age-groups-Electric/dp/B09YH8JRZH/ref=sr_1_114?crid=X15WAB4HM9VC&keywords=guitar&qid=1654186329&sprefix=guitar%2Caps%2C558&sr=8-114',\n",
       " 'https://www.amazon.in/Mustang-Strings-Changing-Including-Beginner/dp/B07S19LGLR/ref=sr_1_115?crid=X15WAB4HM9VC&keywords=guitar&qid=1654186329&sprefix=guitar%2Caps%2C558&sr=8-115',\n",
       " 'https://www.amazon.in/DEVICE-URBAN-INFOTECH-Acoustic-Semi-closed/dp/B08P1JS4DF/ref=sr_1_116?crid=X15WAB4HM9VC&keywords=guitar&qid=1654186329&sprefix=guitar%2Caps%2C558&sr=8-116',\n",
       " 'https://www.amazon.in/Portable-Trainer-Fingerboard-Lightweight-Beginner/dp/B0B2K5X53X/ref=sr_1_117?crid=X15WAB4HM9VC&keywords=guitar&qid=1654186329&sprefix=guitar%2Caps%2C558&sr=8-117',\n",
       " 'https://www.amazon.in/Givsun-Pentagon-6-String-Acoustic-Semi-Electric/dp/B07ZTWL83W/ref=sr_1_118?crid=X15WAB4HM9VC&keywords=guitar&qid=1654186329&sprefix=guitar%2Caps%2C558&sr=8-118',\n",
       " 'https://www.amazon.in/JUAREZ-Arpeggio-Guitar-JRA41MAH-F-mahogany/dp/B08MWBP88T/ref=sr_1_119?crid=X15WAB4HM9VC&keywords=guitar&qid=1654186329&sprefix=guitar%2Caps%2C558&sr=8-119',\n",
       " 'https://www.amazon.in/KAPS-ST-6-Strings-Acoustic-Right-Handed/dp/B01FXG6C84/ref=sr_1_120?crid=X15WAB4HM9VC&keywords=guitar&qid=1654186329&sprefix=guitar%2Caps%2C558&sr=8-120',\n",
       " 'https://www.amazon.in/Blueberry-Trussrod-Acoustic-Guitar-Sunburst/dp/B08WH5553T/ref=sr_1_121?crid=X15WAB4HM9VC&keywords=guitar&qid=1654186329&sprefix=guitar%2Caps%2C558&sr=8-121',\n",
       " 'https://www.amazon.in/Acoustic-Pick-up-stability-professional-amplificaiton/dp/B09YH8YQR1/ref=sr_1_122?crid=X15WAB4HM9VC&keywords=guitar&qid=1654186329&sprefix=guitar%2Caps%2C558&sr=8-122',\n",
       " 'https://www.amazon.in/Fender-SA-150-Acoustic-Guitar-Multicolor/dp/B0765G46BM/ref=sr_1_123?crid=X15WAB4HM9VC&keywords=guitar&qid=1654186329&sprefix=guitar%2Caps%2C558&sr=8-123',\n",
       " 'https://www.amazon.in/Kadence-Astro-Electric-Guitar-FRETS/dp/B09YHPH1MZ/ref=sr_1_124?crid=X15WAB4HM9VC&keywords=guitar&qid=1654186329&sprefix=guitar%2Caps%2C558&sr=8-124',\n",
       " 'https://www.amazon.in/Acoustic-Pick-up-stability-professional-amplificaiton/dp/B09YH89JZQ/ref=sr_1_125?crid=X15WAB4HM9VC&keywords=guitar&qid=1654186329&sprefix=guitar%2Caps%2C558&sr=8-125',\n",
       " 'https://www.amazon.in/choice-TrussRod-Acoustic-Guitar-Sunburst/dp/B09XTJN7P9/ref=sr_1_126?crid=X15WAB4HM9VC&keywords=guitar&qid=1654186329&sprefix=guitar%2Caps%2C558&sr=8-126',\n",
       " 'https://www.amazon.in/Techblaze-Pieces-Guitar-Acoustic-Machine/dp/B08NPJKLD9/ref=sr_1_127?crid=X15WAB4HM9VC&keywords=guitar&qid=1654186329&sprefix=guitar%2Caps%2C558&sr=8-127',\n",
       " 'https://www.amazon.in/HL1-Headless-Electric-Guitar-GigBag/dp/B09Q32YH9T/ref=sr_1_128?crid=X15WAB4HM9VC&keywords=guitar&qid=1654186329&sprefix=guitar%2Caps%2C558&sr=8-128',\n",
       " 'https://www.amazon.in/Mustang-Guitar-Accessories-Kit-Clip/dp/B07RY9KNVK/ref=sr_1_129?crid=X15WAB4HM9VC&keywords=guitar&qid=1654186329&sprefix=guitar%2Caps%2C558&sr=8-129',\n",
       " 'https://www.amazon.in/Yamaha-F310-6-Strings-Acoustic-Natural/dp/B000RVYW7E/ref=sr_1_130?crid=X15WAB4HM9VC&keywords=guitar&qid=1654186329&sprefix=guitar%2Caps%2C558&sr=8-130',\n",
       " 'https://www.amazon.in/Henrix-PROLHNT-String-Acoustic-Guitar/dp/B08R3C1TGC/ref=sr_1_131?crid=X15WAB4HM9VC&keywords=guitar&qid=1654186329&sprefix=guitar%2Caps%2C558&sr=8-131',\n",
       " 'https://www.amazon.in/Acoustic-strings-plectrums-stability-age-groups/dp/B09YHC3LX6/ref=sr_1_132?crid=X15WAB4HM9VC&keywords=guitar&qid=1654186329&sprefix=guitar%2Caps%2C558&sr=8-132',\n",
       " 'https://www.amazon.in/Blueberry-Acoustic-Guitar-Strings-Sunburst/dp/B08L7XJQQ1/ref=sr_1_133?crid=X15WAB4HM9VC&keywords=guitar&qid=1654186329&sprefix=guitar%2Caps%2C558&sr=8-133',\n",
       " 'https://www.amazon.in/Yamaha-Electric-Acoustic-FX280-Dreadnought-Plectrums/dp/B09HSHNR6R/ref=sr_1_134?crid=X15WAB4HM9VC&keywords=guitar&qid=1654186329&sprefix=guitar%2Caps%2C558&sr=8-134',\n",
       " 'https://www.amazon.in/Ketostics%C2%AE-Special-Sunburst-Acoustic-Plectrums/dp/B09P51XHRK/ref=sr_1_135?crid=X15WAB4HM9VC&keywords=guitar&qid=1654186329&sprefix=guitar%2Caps%2C558&sr=8-135',\n",
       " 'https://www.amazon.in/GIVSON-KETOSTICS-VS-BLK-Strings-Acoustic/dp/B07R9ZLSNL/ref=sr_1_136?crid=X15WAB4HM9VC&keywords=guitar&qid=1654186329&sprefix=guitar%2Caps%2C558&sr=8-136']"
      ]
     },
     "execution_count": 30,
     "metadata": {},
     "output_type": "execute_result"
    }
   ],
   "source": [
    "guitars_url2"
   ]
  },
  {
   "cell_type": "code",
   "execution_count": 10,
   "id": "09ef8f16",
   "metadata": {},
   "outputs": [],
   "source": [
    "Brand_name=[]\n",
    "for i in guitars_url:\n",
    "    driver.get(i)\n",
    "    #time.sleep(5)\n",
    "    try:\n",
    "        description=driver.find_element_by_xpath('/html/body/div[2]/div[2]/div[5]/div[4]/div[4]/div[1]/div/h1/span')\n",
    "        Brand_name.append(description.text)\n",
    "    except NoSuchElementException:\n",
    "        Brand_name.append('Not present')"
   ]
  },
  {
   "cell_type": "code",
   "execution_count": 11,
   "id": "68988fdf",
   "metadata": {},
   "outputs": [
    {
     "data": {
      "text/plain": [
       "['Kadence Frontier guitar with Online Guitar learning course, Wine Red Acoustic Guitar with Die Cast Keys, Set of Strings, Strap, Picks and Bag (Wine Red, Acoustic)',\n",
       " 'Kadence Frontier Jumbo Semi Acoustic Guitar With Die Cast Keys Super Combo (Bag, 1 pack Strings, Strap, Picks, Capo, Tuner (natural)',\n",
       " 'Not present',\n",
       " 'Festra 38C, 38 Inch Acoustic Guitar Kit with Bag, Strap, One Pack Strings And 2 Picks (Black)',\n",
       " 'Not present',\n",
       " 'Intern INT-38C Sunburst Acoustic Guitar kit with carry bag & picks',\n",
       " 'Intern INT-38C Acoustic Guitar Kit, With Bag, Strings, Pick And Strap, Black',\n",
       " 'Intern INT-38C Acoustic Guitar Kit, With Bag, Strings, Pick And Strap, Black',\n",
       " 'Not present',\n",
       " 'Not present',\n",
       " 'Epiphone Les Paul SL 6 Strings Right Handed Electric Guitar, Color Vintage Sunburst',\n",
       " 'Not present',\n",
       " 'Intern 38C Cutaway Design Black Acoustic Guitar with Picks & Carry Bag',\n",
       " 'Not present',\n",
       " 'JUAREZ JRZ38C Right Handed Acoustic Guitar with Bag, Strings, Pick and Strap (Natural, 6 Strings)',\n",
       " 'Hovner 215 Black F-Cut Rosewood Fretboard Acoustic Guitar With Bag,Strap,1 Set of Extra Strings and 2 Picks By K-Retail',\n",
       " 'Not present',\n",
       " 'Not present',\n",
       " 'Not present',\n",
       " 'Kadence Frontier guitar with Online Guitar learning course, Wine Red Acoustic Guitar with Die Cast Keys, Set of Strings, Strap, Picks and Bag (Wine Red, Acoustic)',\n",
       " 'Intern INT-38C-SB-G Cutaway Right Handed Acoustic Guitar Kit, With Bag, Strings, Pick And Strap (Sunburst, 6 Strings)',\n",
       " 'Intern INT-38C Acoustic Guitar Kit, With Bag, Strings, Pick And Strap, Red',\n",
       " 'Medellin 38\" Acoustic Guitar Black Carbon Fiber body+(Free Online Learning Course) - Durable Matt finish with handrest, strings, strap, bag, 3 Picks, capo, stand.',\n",
       " 'Not present',\n",
       " \"HOMME STORE 4 String Guitar Children's Musical Instrument Educational Toy Guitar Ukulele Instruments Beginner Musical Sound Toys Best Gift for Children, multi-coloured\",\n",
       " \"Crizer 4 String Guitar Children's Musical Instrument Educational Toy Guitar Ukulele Instruments Beginner Musical Sound Toys Best Gift for Children\",\n",
       " 'Medellin 38\" Acoustic Guitar Carbon Fiber body+(Free Online Learning Course) - Durable Matt finish with handrest, strings, strap, bag, 3 Picks, capo, stand. (natural)',\n",
       " \"Crizer Guitar Toy For Kids 4-String Musical Acoustic Guitar Toy, Children's Musical Learning Educational Instruments for Beginners with Ability Random Brown Color Best Gift for Boys & Girls- 24 Inch\",\n",
       " 'Intern INT-38C Acoustic Guitar Kit (Sunburst) with Carry bag, Picks, Strings set and Guitar Strap, Small',\n",
       " 'Not present',\n",
       " 'Not present',\n",
       " 'Medellin 38\" Carbon Fiber Acoustic Guitar with free specailized learning course- MDCF38BK Durable Carbon Fiber Matt Sunburst finish Body for beginners with handrest, set of Strings, Strap, Bag, 3 Picks, Capo, Guitar Wall Hanging Stand and Free GUITAR LEARNING COURSE (Special Learning Combo with Guitar)',\n",
       " 'Not present',\n",
       " 'Not present',\n",
       " 'Medellin 38\" Carbon Fiber Acoustic Guitar with free specailized learning course- MDCF38BK Durable Carbon Fiber Matt Pink finish Body for beginners with handrest, set of Strings, Strap, Bag, 3 Picks, Capo, Guitar Wall Hanging Stand and Free GUITAR LEARNING COURSE (Special Learning Combo with Guitar)',\n",
       " 'Not present',\n",
       " 'Kadence Acoustica 34” Acoustic Guitar A03 with bag',\n",
       " 'Not present',\n",
       " 'Not present',\n",
       " 'Yamaha FSX80C Semi Acoustic Cutaway Guitar with Bag (Black)',\n",
       " 'Not present',\n",
       " 'Medellin 38\" Acoustic Guitar Brown Carbon Fiber Body with FREE Online LEARNING COURSE Durable Matt finish Body for beginners with handrest, set of Strings, Strap, Bag, 3 Picks, Capo, Guitar Wall Hanging Stand and Free GUITAR LEARNING COURSE (Special Learning Combo with Guitar)',\n",
       " 'Not present',\n",
       " 'Musical String New Semi Acoustic F cut Guitar 6 string, 21 freet 41 inch, Metalic Black glossy Finished with Black Cover Bag, Strap(Belt), Picks and Extra String Set',\n",
       " 'Neowood AT-01A-Guitar Tuner-Black Automatic Digital Tuner (Chromatic: Yes, Black)',\n",
       " 'Not present',\n",
       " 'Not present',\n",
       " 'Intern INT-38C-BK-G Cutaway Right Handed Acoustic Guitar Kit, With Bag, Strings, Pick And Strap (Black, 6 Strings)',\n",
       " 'Yamaha FS100C Acoustic Guitar, Black',\n",
       " 'Not present',\n",
       " 'Not present',\n",
       " 'Not present',\n",
       " 'Not present',\n",
       " 'Kadence Frontier Jumbo Semi Acoustic Guitar With Die Cast Keys,Super Combo (Bag, 1 pack Strings, Strap, Picks, Capo, Tuner)',\n",
       " 'Not present',\n",
       " 'Not present',\n",
       " 'Not present',\n",
       " 'Not present',\n",
       " 'Not present',\n",
       " 'Yamaha FSX80C Semi Acoustic Cutaway Guitar with Bag (Natural)',\n",
       " 'Vault EA40 41 inch Premium Solid Spruce-Top Cutaway Acoustic Guitar',\n",
       " 'HOMME STORE 4 String Guitar Kids Brown Plastic 4 String Acoustic Guitar for Kids Musical Instrument Learning Educational Small Toy for Boys & Girls (Wooden Guitar) (1)',\n",
       " 'Blueberry B40L, 40\" Acoustic Guitar Kit Inbuilt Truss Rod with Bag, Strap, One Pack Strings And Picks (Classic Brown)',\n",
       " 'Cort AD810 Dreadnought Acoustic Guitar with Gig Bag,Tuner,Picks and Strap (Natural Bundle)']"
      ]
     },
     "execution_count": 11,
     "metadata": {},
     "output_type": "execute_result"
    }
   ],
   "source": [
    "Brand_name"
   ]
  },
  {
   "cell_type": "code",
   "execution_count": 12,
   "id": "3379760e",
   "metadata": {},
   "outputs": [],
   "source": [
    "price=[]\n",
    "for i in guitars_url:\n",
    "    driver.get(i)\n",
    "    #time.sleep(5)\n",
    "    try:\n",
    "        description=driver.find_element_by_xpath('/html/body/div[2]/div[2]/div[5]/div[4]/div[4]/div[10]/div/div[1]/div[1]/div/table/tbody/tr[2]/td[2]/span[1]')\n",
    "        price.append(description.text)\n",
    "    except NoSuchElementException:\n",
    "        price.append('Not present')"
   ]
  },
  {
   "cell_type": "code",
   "execution_count": 13,
   "id": "0531088d",
   "metadata": {},
   "outputs": [
    {
     "data": {
      "text/plain": [
       "['Not present',\n",
       " 'Not present',\n",
       " 'Not present',\n",
       " 'Not present',\n",
       " 'Not present',\n",
       " 'Not present',\n",
       " 'Not present',\n",
       " 'Not present',\n",
       " '₹5,399.00',\n",
       " 'Not present',\n",
       " 'Not present',\n",
       " 'Not present',\n",
       " 'Not present',\n",
       " 'Not present',\n",
       " 'Not present',\n",
       " 'Not present',\n",
       " 'Not present',\n",
       " 'Not present',\n",
       " 'Not present',\n",
       " '₹5,399.00',\n",
       " 'Not present',\n",
       " 'Not present',\n",
       " 'Not present',\n",
       " 'Not present',\n",
       " 'Not present',\n",
       " 'Not present',\n",
       " 'Not present',\n",
       " 'Not present',\n",
       " 'Not present',\n",
       " 'Not present',\n",
       " 'Not present',\n",
       " 'Not present',\n",
       " 'Not present',\n",
       " 'Not present',\n",
       " 'Not present',\n",
       " 'Not present',\n",
       " 'Not present',\n",
       " 'Not present',\n",
       " 'Not present',\n",
       " 'Not present',\n",
       " 'Not present',\n",
       " 'Not present',\n",
       " 'Not present',\n",
       " 'Not present',\n",
       " 'Not present',\n",
       " 'Not present',\n",
       " 'Not present',\n",
       " 'Not present',\n",
       " 'Not present',\n",
       " 'Not present',\n",
       " 'Not present',\n",
       " '₹5,499.00',\n",
       " 'Not present',\n",
       " 'Not present',\n",
       " 'Not present',\n",
       " 'Not present',\n",
       " 'Not present',\n",
       " 'Not present',\n",
       " 'Not present',\n",
       " 'Not present',\n",
       " 'Not present',\n",
       " 'Not present',\n",
       " 'Not present',\n",
       " 'Not present']"
      ]
     },
     "execution_count": 13,
     "metadata": {},
     "output_type": "execute_result"
    }
   ],
   "source": [
    "price"
   ]
  },
  {
   "cell_type": "code",
   "execution_count": 10,
   "id": "fe1914c6",
   "metadata": {},
   "outputs": [],
   "source": [
    "Return=[]\n",
    "for i in guitars_url:\n",
    "    driver.get(i)\n",
    "    #time.sleep(5)\n",
    "    try:\n",
    "        description=driver.find_element_by_xpath('/html/body/div[2]/div[2]/div[5]/div[4]/div[4]/div[22]/div[2]/div/div/div/div[2]/span/div[2]')\n",
    "        Return.append(description.text)\n",
    "    except NoSuchElementException:\n",
    "        Return.append('Not present')"
   ]
  },
  {
   "cell_type": "code",
   "execution_count": 11,
   "id": "913b9143",
   "metadata": {},
   "outputs": [
    {
     "data": {
      "text/plain": [
       "['Not present',\n",
       " 'Not present',\n",
       " 'Not present',\n",
       " 'Not present',\n",
       " 'Not present',\n",
       " 'Not present',\n",
       " '7 Days Replacement',\n",
       " 'Not present',\n",
       " 'Not present',\n",
       " 'Not present',\n",
       " 'Not present',\n",
       " 'Not present',\n",
       " '7 Days Replacement',\n",
       " '7 Days Replacement',\n",
       " 'Not present',\n",
       " '7 Days Replacement',\n",
       " 'Not present',\n",
       " '7 Days Replacement',\n",
       " 'Not present',\n",
       " 'Not present',\n",
       " '7 Days Replacement',\n",
       " '7 Days Replacement',\n",
       " 'Not present',\n",
       " '7 Days Replacement',\n",
       " '7 Days Replacement',\n",
       " 'Not present',\n",
       " 'Not present',\n",
       " '7 Days Replacement',\n",
       " 'Not present',\n",
       " '7 Days Replacement',\n",
       " '7 Days Replacement',\n",
       " 'Not present',\n",
       " '7 Days Replacement',\n",
       " 'Not present',\n",
       " '7 Days Replacement',\n",
       " 'Not present',\n",
       " '7 Days Replacement',\n",
       " 'Not present',\n",
       " '7 Days Replacement',\n",
       " 'Not present',\n",
       " '7 Days Replacement',\n",
       " 'Not present',\n",
       " 'Not present',\n",
       " '7 Days Replacement',\n",
       " '7 Days Replacement',\n",
       " '7 Days Replacement',\n",
       " 'Not present',\n",
       " 'Not present',\n",
       " '7 Days Replacement',\n",
       " 'Not present',\n",
       " '7 Days Replacement',\n",
       " 'Not present',\n",
       " '7 Days Replacement',\n",
       " '7 Days Replacement',\n",
       " '7 Days Replacement',\n",
       " 'Not present',\n",
       " '7 Days Replacement',\n",
       " 'Not present',\n",
       " 'Not present',\n",
       " '7 Days Replacement',\n",
       " '7 Days Replacement',\n",
       " 'Not present',\n",
       " '7 Days Replacement',\n",
       " 'Not present']"
      ]
     },
     "execution_count": 11,
     "metadata": {},
     "output_type": "execute_result"
    }
   ],
   "source": [
    "Return"
   ]
  },
  {
   "cell_type": "code",
   "execution_count": 13,
   "id": "7408450e",
   "metadata": {},
   "outputs": [],
   "source": [
    "Expected_Delivery=[]\n",
    "for i in guitars_url:\n",
    "    driver.get(i)\n",
    "    #time.sleep(5)\n",
    "    try:\n",
    "        description=driver.find_element_by_xpath('/html/body/div[2]/div[2]/div[5]/div[4]/div[1]/div[3]/div/div/div[1]/div/div/div[1]/div/div[2]/div[8]/div[1]/div/div/div[1]')\n",
    "        Expected_Delivery.append(description.text)\n",
    "    except NoSuchElementException:\n",
    "        Expected_Delivery.append('Not present')"
   ]
  },
  {
   "cell_type": "code",
   "execution_count": 14,
   "id": "009c8476",
   "metadata": {},
   "outputs": [
    {
     "data": {
      "text/plain": [
       "['Not present',\n",
       " 'Not present',\n",
       " 'Not present',\n",
       " 'Not present',\n",
       " 'Not present',\n",
       " 'Not present',\n",
       " 'Not present',\n",
       " 'Not present',\n",
       " 'Not present',\n",
       " 'Not present',\n",
       " 'Not present',\n",
       " 'Not present',\n",
       " 'Not present',\n",
       " 'FREE delivery: Thursday, June 9 Details',\n",
       " 'Not present',\n",
       " 'Not present',\n",
       " 'Not present',\n",
       " 'Not present',\n",
       " 'Not present',\n",
       " 'Not present',\n",
       " 'Not present',\n",
       " 'FREE delivery: Sunday, June 5 Details',\n",
       " 'Not present',\n",
       " 'Not present',\n",
       " 'Not present',\n",
       " 'Not present',\n",
       " 'Not present',\n",
       " 'Not present',\n",
       " 'Not present',\n",
       " 'Not present',\n",
       " 'Not present',\n",
       " 'Not present',\n",
       " 'Not present',\n",
       " 'Not present',\n",
       " 'Not present',\n",
       " 'Not present',\n",
       " 'Not present',\n",
       " 'Not present',\n",
       " 'Not present',\n",
       " 'Not present',\n",
       " 'Not present',\n",
       " 'Not present',\n",
       " 'Not present',\n",
       " 'Not present',\n",
       " 'Not present',\n",
       " 'Not present',\n",
       " 'Not present',\n",
       " 'Not present',\n",
       " 'Not present',\n",
       " 'Not present',\n",
       " 'Not present',\n",
       " 'Not present',\n",
       " 'Not present',\n",
       " 'Not present',\n",
       " 'Not present',\n",
       " 'Not present',\n",
       " 'Not present',\n",
       " 'Not present',\n",
       " 'Not present',\n",
       " 'Not present',\n",
       " 'Not present',\n",
       " 'Not present',\n",
       " 'Not present',\n",
       " 'Not present']"
      ]
     },
     "execution_count": 14,
     "metadata": {},
     "output_type": "execute_result"
    }
   ],
   "source": [
    "Expected_Delivery"
   ]
  },
  {
   "cell_type": "code",
   "execution_count": 15,
   "id": "de58a6a3",
   "metadata": {},
   "outputs": [],
   "source": [
    "Availability=[]\n",
    "for i in guitars_url:\n",
    "    driver.get(i)\n",
    "    #time.sleep(5)\n",
    "    try:\n",
    "        description=driver.find_element_by_xpath('/html/body/div[2]/div[2]/div[5]/div[4]/div[1]/div[3]/div/div/div[1]/div/div/div[1]/div/div[2]/div[13]')\n",
    "        Availability.append(description.text)\n",
    "    except NoSuchElementException:\n",
    "        Availability.append('Not present')"
   ]
  },
  {
   "cell_type": "code",
   "execution_count": 16,
   "id": "56caf0d6",
   "metadata": {},
   "outputs": [
    {
     "data": {
      "text/plain": [
       "['Quantity: 1',\n",
       " 'Not present',\n",
       " 'Not present',\n",
       " 'Not present',\n",
       " 'Not present',\n",
       " 'Not present',\n",
       " 'Not present',\n",
       " 'Not present',\n",
       " 'Quantity: 1',\n",
       " 'Not present',\n",
       " 'Not present',\n",
       " 'Not present',\n",
       " 'Not present',\n",
       " '',\n",
       " 'Not present',\n",
       " 'Not present',\n",
       " 'Not present',\n",
       " 'Not present',\n",
       " 'Not present',\n",
       " 'Not present',\n",
       " 'Not present',\n",
       " 'Not present',\n",
       " 'Not present',\n",
       " 'Not present',\n",
       " 'Not present',\n",
       " 'Not present',\n",
       " 'Not present',\n",
       " 'Not present',\n",
       " 'Not present',\n",
       " 'Not present',\n",
       " 'Not present',\n",
       " 'Not present',\n",
       " 'Not present',\n",
       " 'Not present',\n",
       " 'Not present',\n",
       " 'Not present',\n",
       " 'Not present',\n",
       " 'Not present',\n",
       " 'Not present',\n",
       " 'Not present',\n",
       " 'Not present',\n",
       " 'Not present',\n",
       " 'Not present',\n",
       " 'Not present',\n",
       " 'Not present',\n",
       " 'Not present',\n",
       " 'Not present',\n",
       " 'Not present',\n",
       " 'Not present',\n",
       " 'Not present',\n",
       " 'Not present',\n",
       " 'Not present',\n",
       " 'Not present',\n",
       " 'Not present',\n",
       " 'Not present',\n",
       " 'Not present',\n",
       " 'Not present',\n",
       " 'Not present',\n",
       " 'Not present',\n",
       " 'Not present',\n",
       " 'Not present',\n",
       " 'Not present',\n",
       " 'Not present',\n",
       " 'Not present']"
      ]
     },
     "execution_count": 16,
     "metadata": {},
     "output_type": "execute_result"
    }
   ],
   "source": [
    "Availability"
   ]
  },
  {
   "cell_type": "code",
   "execution_count": null,
   "id": "068269fd",
   "metadata": {},
   "outputs": [],
   "source": []
  }
 ],
 "metadata": {
  "kernelspec": {
   "display_name": "Python 3",
   "language": "python",
   "name": "python3"
  },
  "language_info": {
   "codemirror_mode": {
    "name": "ipython",
    "version": 3
   },
   "file_extension": ".py",
   "mimetype": "text/x-python",
   "name": "python",
   "nbconvert_exporter": "python",
   "pygments_lexer": "ipython3",
   "version": "3.8.8"
  }
 },
 "nbformat": 4,
 "nbformat_minor": 5
}
