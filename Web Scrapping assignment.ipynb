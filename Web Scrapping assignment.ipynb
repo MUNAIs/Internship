{
 "cells": [
  {
   "cell_type": "markdown",
   "id": "08d29b2a",
   "metadata": {},
   "source": [
    "# Write a python program to display all the header tags from wikipedia.org. \n"
   ]
  },
  {
   "cell_type": "code",
   "execution_count": null,
   "id": "73a7ab55",
   "metadata": {
    "scrolled": true
   },
   "outputs": [],
   "source": [
    "from bs4 import BeautifulSoup\n",
    "import requests"
   ]
  },
  {
   "cell_type": "code",
   "execution_count": null,
   "id": "34863f19",
   "metadata": {
    "scrolled": true
   },
   "outputs": [],
   "source": [
    "page=requests.get('https://en.wikipedia.org/wiki/Main_Page')\n",
    "page"
   ]
  },
  {
   "cell_type": "code",
   "execution_count": null,
   "id": "2ef8ad93",
   "metadata": {
    "scrolled": true
   },
   "outputs": [],
   "source": [
    "soup = BeautifulSoup(page.content)\n",
    "titles = soup.find_all(['h1', 'h2','h3','h4','h5','h6'])\n",
    "print('List all the header tags :', *titles, sep='\\n\\n')"
   ]
  },
  {
   "cell_type": "markdown",
   "id": "dda48d81",
   "metadata": {},
   "source": [
    "# Write a python program to scrape product name, price and discounts from  https://meesho.com/bagsladies/pl/p7vbp .  "
   ]
  },
  {
   "cell_type": "code",
   "execution_count": null,
   "id": "449f4c6c",
   "metadata": {
    "scrolled": true
   },
   "outputs": [],
   "source": [
    "from bs4 import BeautifulSoup\n",
    "import requests"
   ]
  },
  {
   "cell_type": "code",
   "execution_count": null,
   "id": "67d913bc",
   "metadata": {
    "scrolled": true
   },
   "outputs": [],
   "source": [
    "page=requests.get('https://meesho.com/bagsladies/pl/p7vbp')\n",
    "page"
   ]
  },
  {
   "cell_type": "code",
   "execution_count": null,
   "id": "0b698006",
   "metadata": {
    "scrolled": true
   },
   "outputs": [],
   "source": [
    "soup=BeautifulSoup(page.content)\n",
    "soup"
   ]
  },
  {
   "cell_type": "code",
   "execution_count": null,
   "id": "0f4a6e00",
   "metadata": {
    "scrolled": true
   },
   "outputs": [],
   "source": [
    "first_productname=soup.find('p',class_=\"Text__StyledText-sc-oo0kvp-0 bWSOET NewProductCard__ProductTitle_Desktop-sc-j0e7tu-4 cQhePS NewProductCard__ProductTitle_Desktop-sc-j0e7tu-4 cQhePS\")\n",
    "first_productname"
   ]
  },
  {
   "cell_type": "code",
   "execution_count": null,
   "id": "fff485b2",
   "metadata": {
    "scrolled": true
   },
   "outputs": [],
   "source": [
    "first_productname.text"
   ]
  },
  {
   "cell_type": "code",
   "execution_count": null,
   "id": "f7ef84d5",
   "metadata": {
    "scrolled": true
   },
   "outputs": [],
   "source": [
    "price=soup.find('div',class_=\"Card__BaseCard-sc-b3n78k-0 iLPHgK NewProductCard__PriceRow-sc-j0e7tu-5 eyya-Dr NewProductCard__PriceRow-sc-j0e7tu-5 eyya-Dr\")\n",
    "price"
   ]
  },
  {
   "cell_type": "code",
   "execution_count": null,
   "id": "31e52e48",
   "metadata": {
    "scrolled": true
   },
   "outputs": [],
   "source": [
    "price.text"
   ]
  },
  {
   "cell_type": "code",
   "execution_count": null,
   "id": "1206f345",
   "metadata": {
    "scrolled": true
   },
   "outputs": [],
   "source": [
    "discount=soup.find('p',class_=\"Text__StyledText-sc-oo0kvp-0 fCJVtz NewProductCard__DiscountTextParagraph-sc-j0e7tu-16 kmYsnm NewProductCard__DiscountTextParagraph-sc-j0e7tu-16 kmYsnm\")\n",
    "discount"
   ]
  },
  {
   "cell_type": "code",
   "execution_count": null,
   "id": "74857859",
   "metadata": {
    "scrolled": true
   },
   "outputs": [],
   "source": [
    "discount.text"
   ]
  },
  {
   "cell_type": "markdown",
   "id": "818a1ac4",
   "metadata": {},
   "source": [
    "# Write a python program to scrape cricket rankings from icc-cricket.com\n"
   ]
  },
  {
   "cell_type": "code",
   "execution_count": null,
   "id": "8bd7ebf8",
   "metadata": {
    "scrolled": true
   },
   "outputs": [],
   "source": [
    "from bs4 import BeautifulSoup\n",
    "import requests"
   ]
  },
  {
   "cell_type": "code",
   "execution_count": null,
   "id": "e2771613",
   "metadata": {
    "scrolled": true
   },
   "outputs": [],
   "source": [
    "page=requests.get('https://www.icc-cricket.com/rankings/mens/team-rankings/odi')\n",
    "page"
   ]
  },
  {
   "cell_type": "code",
   "execution_count": null,
   "id": "9276c2e7",
   "metadata": {
    "scrolled": true
   },
   "outputs": [],
   "source": [
    "soup=BeautifulSoup(page.content)\n",
    "soup"
   ]
  },
  {
   "cell_type": "code",
   "execution_count": null,
   "id": "9d4fe465",
   "metadata": {
    "scrolled": true
   },
   "outputs": [],
   "source": [
    "TopODIteam=soup.find('span',class_=\"u-hide-phablet\")\n",
    "TopODIteam"
   ]
  },
  {
   "cell_type": "code",
   "execution_count": null,
   "id": "8f73065e",
   "metadata": {
    "scrolled": true
   },
   "outputs": [],
   "source": [
    "TopODIteam.text"
   ]
  },
  {
   "cell_type": "code",
   "execution_count": null,
   "id": "61caca04",
   "metadata": {
    "scrolled": true
   },
   "outputs": [],
   "source": [
    "matches=soup.find('td',class_=\"rankings-block__banner--matches\")\n",
    "matches"
   ]
  },
  {
   "cell_type": "code",
   "execution_count": null,
   "id": "b6999823",
   "metadata": {
    "scrolled": true
   },
   "outputs": [],
   "source": [
    "matches.text"
   ]
  },
  {
   "cell_type": "code",
   "execution_count": null,
   "id": "d44c50a8",
   "metadata": {
    "scrolled": true
   },
   "outputs": [],
   "source": [
    "points=soup.find('td',class_=\"rankings-block__banner--points\")\n",
    "points"
   ]
  },
  {
   "cell_type": "code",
   "execution_count": null,
   "id": "b37cb16e",
   "metadata": {
    "scrolled": true
   },
   "outputs": [],
   "source": [
    "points.text"
   ]
  },
  {
   "cell_type": "code",
   "execution_count": null,
   "id": "300768e3",
   "metadata": {
    "scrolled": true
   },
   "outputs": [],
   "source": [
    "ranking=soup.find('td',class_=\"rankings-block__banner--rating u-text-right\")\n",
    "ranking"
   ]
  },
  {
   "cell_type": "code",
   "execution_count": null,
   "id": "fa8a4bda",
   "metadata": {
    "scrolled": true
   },
   "outputs": [],
   "source": [
    "ranking.text"
   ]
  },
  {
   "cell_type": "code",
   "execution_count": null,
   "id": "45877d69",
   "metadata": {
    "scrolled": true
   },
   "outputs": [],
   "source": [
    "page=requests.get('https://www.icc-cricket.com/rankings/mens/player-rankings/odi/batting')\n",
    "page"
   ]
  },
  {
   "cell_type": "code",
   "execution_count": null,
   "id": "afded439",
   "metadata": {
    "scrolled": true
   },
   "outputs": [],
   "source": [
    "soup=BeautifulSoup(page.content)\n",
    "soup"
   ]
  },
  {
   "cell_type": "code",
   "execution_count": null,
   "id": "080ca192",
   "metadata": {
    "scrolled": true
   },
   "outputs": [],
   "source": [
    "Batsman=soup.find('tr',class_=\"rankings-block__banner\")\n",
    "Batsman.text.replace('\\n','')"
   ]
  },
  {
   "cell_type": "code",
   "execution_count": null,
   "id": "9ede9a04",
   "metadata": {},
   "outputs": [],
   "source": [
    "Name=soup.find('td',class_=\"table-body__cell rankings-table__name name\")\n",
    "Name.text"
   ]
  },
  {
   "cell_type": "code",
   "execution_count": null,
   "id": "5c11badc",
   "metadata": {
    "scrolled": true
   },
   "outputs": [],
   "source": [
    "Name=[]\n",
    "for i in soup.find_all('td',class_=\"table-body__cell rankings-table__name name\"):\n",
    "    Name.append(i.text.replace('\\n',''))\n",
    "Name"
   ]
  },
  {
   "cell_type": "code",
   "execution_count": null,
   "id": "11f5acc7",
   "metadata": {},
   "outputs": [],
   "source": [
    "Team=soup.find('td',class_=\"table-body__cell nationality-logo rankings-table__team\")\n",
    "Team.text"
   ]
  },
  {
   "cell_type": "code",
   "execution_count": null,
   "id": "79e2491b",
   "metadata": {},
   "outputs": [],
   "source": [
    "Team=[]\n",
    "for i in soup.find_all('td',class_=\"table-body__cell nationality-logo rankings-table__team\"):\n",
    "    Team.append(i.text.replace('\\n',''))\n",
    "Team"
   ]
  },
  {
   "cell_type": "code",
   "execution_count": null,
   "id": "4e609e6b",
   "metadata": {
    "scrolled": true
   },
   "outputs": [],
   "source": [
    "Rating=[]\n",
    "for i in soup.find_all('td',class_=\"table-body__cell rating\"):\n",
    "    Rating.append(i.text)\n",
    "Rating"
   ]
  },
  {
   "cell_type": "code",
   "execution_count": null,
   "id": "ff79b138",
   "metadata": {
    "scrolled": true
   },
   "outputs": [],
   "source": [
    "page=requests.get('https://www.icc-cricket.com/rankings/mens/player-rankings/odi/bowling')\n",
    "page"
   ]
  },
  {
   "cell_type": "code",
   "execution_count": null,
   "id": "b32f8b29",
   "metadata": {
    "scrolled": true
   },
   "outputs": [],
   "source": [
    "soup=BeautifulSoup(page.content)\n",
    "soup"
   ]
  },
  {
   "cell_type": "code",
   "execution_count": null,
   "id": "68b5cd77",
   "metadata": {
    "scrolled": true
   },
   "outputs": [],
   "source": [
    "Bowler=soup.find('tr',class_=\"rankings-block__banner\")\n",
    "Bowler.text.replace('\\n','')"
   ]
  },
  {
   "cell_type": "code",
   "execution_count": null,
   "id": "acd8b739",
   "metadata": {
    "scrolled": true
   },
   "outputs": [],
   "source": [
    "Bowler_Name=[]\n",
    "for i in soup.find_all('td',class_=\"table-body__cell rankings-table__name name\"):\n",
    "    Bowler_Name.append(i.text.replace('\\n',''))\n",
    "Bowler_Name"
   ]
  },
  {
   "cell_type": "code",
   "execution_count": null,
   "id": "56132b30",
   "metadata": {},
   "outputs": [],
   "source": [
    "Team=[]\n",
    "for i in soup.find_all('td',class_=\"table-body__cell nationality-logo rankings-table__team\"):\n",
    "    Team.append(i.text.replace('\\n',''))\n",
    "Team"
   ]
  },
  {
   "cell_type": "code",
   "execution_count": null,
   "id": "3fb26264",
   "metadata": {},
   "outputs": [],
   "source": [
    "Rating=[]\n",
    "for i in soup.find_all('td',class_=\"table-body__cell rating\"):\n",
    "    Rating.append(i.text)\n",
    "Rating"
   ]
  },
  {
   "cell_type": "markdown",
   "id": "b8570aed",
   "metadata": {},
   "source": [
    "# 9)\tWrite a python program to scrape mentioned details from dineout.co.in "
   ]
  },
  {
   "cell_type": "code",
   "execution_count": null,
   "id": "6e7ae377",
   "metadata": {
    "scrolled": true
   },
   "outputs": [],
   "source": [
    "from bs4 import BeautifulSoup\n",
    "import requests"
   ]
  },
  {
   "cell_type": "code",
   "execution_count": null,
   "id": "0b316d36",
   "metadata": {
    "scrolled": true
   },
   "outputs": [],
   "source": [
    "page=requests.get('https://www.dineout.co.in/kolkata-restaurants?search_str=restaurant%20in%20kolkata')\n",
    "page"
   ]
  },
  {
   "cell_type": "code",
   "execution_count": null,
   "id": "7d9b969c",
   "metadata": {
    "scrolled": true
   },
   "outputs": [],
   "source": [
    "soup=BeautifulSoup(page.content)\n",
    "soup"
   ]
  },
  {
   "cell_type": "code",
   "execution_count": null,
   "id": "4a6f628b",
   "metadata": {
    "scrolled": true
   },
   "outputs": [],
   "source": [
    "Restaurant_name=soup.find('a',class_=\"restnt-name ellipsis\")\n",
    "Restaurant_name"
   ]
  },
  {
   "cell_type": "code",
   "execution_count": null,
   "id": "0a157f13",
   "metadata": {
    "scrolled": true
   },
   "outputs": [],
   "source": [
    "Restaurant_name.text"
   ]
  },
  {
   "cell_type": "code",
   "execution_count": null,
   "id": "a6bb5fe7",
   "metadata": {
    "scrolled": true
   },
   "outputs": [],
   "source": [
    "page=requests.get('https://www.dineout.co.in/kolkata/zobet-camac-street-central-kolkata-82462')\n",
    "page"
   ]
  },
  {
   "cell_type": "code",
   "execution_count": null,
   "id": "3d59d541",
   "metadata": {
    "scrolled": true
   },
   "outputs": [],
   "source": [
    "soup=BeautifulSoup(page.content)\n",
    "soup"
   ]
  },
  {
   "cell_type": "code",
   "execution_count": null,
   "id": "180e3442",
   "metadata": {
    "scrolled": true
   },
   "outputs": [],
   "source": [
    "Cuisine=soup.find('div',class_=\"about-info d-flex\")\n",
    "Cuisine"
   ]
  },
  {
   "cell_type": "code",
   "execution_count": null,
   "id": "bd33e0dc",
   "metadata": {
    "scrolled": true
   },
   "outputs": [],
   "source": [
    "Cuisine.text.replace('CUISINE','')"
   ]
  },
  {
   "cell_type": "code",
   "execution_count": null,
   "id": "7cfe5f1c",
   "metadata": {
    "scrolled": true
   },
   "outputs": [],
   "source": [
    "page=requests.get('https://www.dineout.co.in/kolkata-restaurants?search_str=restaurant%20in%20kolkata')\n",
    "page"
   ]
  },
  {
   "cell_type": "code",
   "execution_count": null,
   "id": "86fadf5b",
   "metadata": {
    "scrolled": true
   },
   "outputs": [],
   "source": [
    "soup=BeautifulSoup(page.content)\n",
    "soup"
   ]
  },
  {
   "cell_type": "code",
   "execution_count": null,
   "id": "0c59ab02",
   "metadata": {
    "scrolled": true
   },
   "outputs": [],
   "source": [
    "location=soup.find('div',class_=\"restnt-loc ellipsis\")\n",
    "location"
   ]
  },
  {
   "cell_type": "code",
   "execution_count": null,
   "id": "58ec350e",
   "metadata": {
    "scrolled": true
   },
   "outputs": [],
   "source": [
    "location.text"
   ]
  },
  {
   "cell_type": "code",
   "execution_count": null,
   "id": "9969d6e7",
   "metadata": {
    "scrolled": true
   },
   "outputs": [],
   "source": [
    "Rating=soup.find('div',class_=\"restnt-rating rating-4\")\n",
    "Rating.text"
   ]
  },
  {
   "cell_type": "code",
   "execution_count": null,
   "id": "d1aaaac7",
   "metadata": {
    "scrolled": true
   },
   "outputs": [],
   "source": [
    "images=[]\n",
    "for i in soup.find_all('img',class_=\"no-img\"):\n",
    "    images.append(i['data-src'])\n",
    "images    "
   ]
  },
  {
   "cell_type": "code",
   "execution_count": null,
   "id": "e83a1ffd",
   "metadata": {
    "scrolled": true
   },
   "outputs": [],
   "source": [
    "print(len(Restaurant_name),len(Cuisine),len(location),len(Rating),len(images))"
   ]
  },
  {
   "cell_type": "markdown",
   "id": "c341e537",
   "metadata": {},
   "source": [
    "# 7)\tWrite a python program to scrape details of all the posts from coreyms.com. "
   ]
  },
  {
   "cell_type": "code",
   "execution_count": null,
   "id": "c46b3aac",
   "metadata": {
    "scrolled": true
   },
   "outputs": [],
   "source": [
    "from bs4 import BeautifulSoup\n",
    "import requests"
   ]
  },
  {
   "cell_type": "code",
   "execution_count": null,
   "id": "95a2c206",
   "metadata": {
    "scrolled": true
   },
   "outputs": [],
   "source": [
    "page7=requests.get('https://coreyms.com')\n",
    "page7"
   ]
  },
  {
   "cell_type": "code",
   "execution_count": null,
   "id": "b2934b5f",
   "metadata": {
    "scrolled": true
   },
   "outputs": [],
   "source": [
    "soup7=BeautifulSoup(page7.content)\n",
    "soup7"
   ]
  },
  {
   "cell_type": "code",
   "execution_count": null,
   "id": "c1a0bd5c",
   "metadata": {},
   "outputs": [],
   "source": [
    "articles = soup7.find_all('article')\n",
    "\n",
    "\n",
    "\n",
    "data = []\n",
    "\n",
    "for article in articles:\n",
    "    header = article.find(\"header\")\n",
    "    title = header.find(\"h2\").text\n",
    "     # Date\n",
    "\n",
    "    date = header.find(\"time\", class_=\"entry-time\").text\n",
    "\n",
    "    div_block = article.find(\"div\", class_=\"entry-content\")\n",
    "\n",
    "    # Paragraph\n",
    "\n",
    "    paragraph_content = div_block.find(\"p\").text\n",
    "\n",
    "    try:\n",
    "\n",
    "        youtube_link = div_block.find(\"iframe\", class_=\"youtube-player\")['src']\n",
    "\n",
    "        video_code = youtube_link.split(\"?\")[0].split(\"/\")[-1]\n",
    "\n",
    "    except:\n",
    "\n",
    "        video_code = \"NA\"\n",
    "\n",
    "    # Video Code\n",
    "\n",
    "    data.append([title,date, paragraph_content, video_code])\n",
    "\n",
    "    print(title)\n",
    "    print(date)\n",
    "    print(paragraph_content)\n",
    "    print(video_code)"
   ]
  },
  {
   "cell_type": "code",
   "execution_count": null,
   "id": "df96463d",
   "metadata": {
    "scrolled": true
   },
   "outputs": [],
   "source": [
    "print(len(title),len(date),len(paragraph_content),len(video_code))"
   ]
  },
  {
   "cell_type": "code",
   "execution_count": null,
   "id": "a4585343",
   "metadata": {
    "scrolled": true
   },
   "outputs": [],
   "source": [
    "import pandas as pd\n",
    "df=pd.DataFrame({'title':title,'date':date,'paragraph_content':paragraph_content})\n",
    "df"
   ]
  },
  {
   "cell_type": "markdown",
   "id": "31151cee",
   "metadata": {},
   "source": [
    "# Write a python program to scrape house details from mentioned URL. It should include house title, location, area, EMI and price from https://www.nobroker.in/ "
   ]
  },
  {
   "cell_type": "code",
   "execution_count": null,
   "id": "ff156b89",
   "metadata": {
    "scrolled": true
   },
   "outputs": [],
   "source": [
    "from bs4 import BeautifulSoup\n",
    "import requests"
   ]
  },
  {
   "cell_type": "code",
   "execution_count": null,
   "id": "7df47583",
   "metadata": {},
   "outputs": [],
   "source": [
    "page=requests.get('https://www.nobroker.in/flats-for-rent-in-indiranagar_basaveshwara_nagar_bangalore')\n",
    "page"
   ]
  },
  {
   "cell_type": "code",
   "execution_count": null,
   "id": "91b0f3e1",
   "metadata": {
    "scrolled": false
   },
   "outputs": [],
   "source": [
    "soup=BeautifulSoup(page.content)\n",
    "soup"
   ]
  },
  {
   "cell_type": "code",
   "execution_count": null,
   "id": "bbfd115c",
   "metadata": {
    "scrolled": true
   },
   "outputs": [],
   "source": [
    "title=soup.find('span',class_=\"overflow-hidden overflow-ellipsis whitespace-nowrap max-w-80pe po:max-w-full\")\n",
    "title"
   ]
  },
  {
   "cell_type": "code",
   "execution_count": null,
   "id": "3dfa9106",
   "metadata": {
    "scrolled": true
   },
   "outputs": [],
   "source": [
    "title=soup.find('span',class_=\"overflow-hidden overflow-ellipsis whitespace-nowrap max-w-80pe po:max-w-full\")\n",
    "title.text"
   ]
  },
  {
   "cell_type": "code",
   "execution_count": null,
   "id": "fb10735b",
   "metadata": {},
   "outputs": [],
   "source": [
    "location=soup.find('div',class_=\"mt-0.5p overflow-hidden overflow-ellipsis whitespace-nowrap max-w-70 text-gray-light leading-4 po:mb-0 po:max-w-95\")\n",
    "location.text"
   ]
  },
  {
   "cell_type": "code",
   "execution_count": null,
   "id": "07dc34db",
   "metadata": {},
   "outputs": [],
   "source": [
    "area=soup.find('span',class_=\"selected-locality-item\")\n",
    "area.text"
   ]
  },
  {
   "cell_type": "code",
   "execution_count": null,
   "id": "09be62a1",
   "metadata": {},
   "outputs": [],
   "source": [
    "EMI=soup.find('div',class_=\"font-semi-bold heading-6\")\n",
    "EMI.text"
   ]
  },
  {
   "cell_type": "code",
   "execution_count": null,
   "id": "0d9dab6d",
   "metadata": {},
   "outputs": [],
   "source": [
    "price=soup.find('div',class_=\"flex flex-col w-33pe items-center border-r border-r-solid border-card-overview-border-color tp:w-half po:w-full last:border-r-0\")\n",
    "price.text"
   ]
  },
  {
   "cell_type": "code",
   "execution_count": null,
   "id": "bb7017e7",
   "metadata": {},
   "outputs": [],
   "source": [
    "page=requests.get('https://www.nobroker.in/flats-for-sale-in-jayanagar_bangalore')\n",
    "page"
   ]
  },
  {
   "cell_type": "code",
   "execution_count": null,
   "id": "ab152bc5",
   "metadata": {},
   "outputs": [],
   "source": [
    "soup=BeautifulSoup(page.content)\n",
    "soup"
   ]
  },
  {
   "cell_type": "code",
   "execution_count": null,
   "id": "7eb7164b",
   "metadata": {},
   "outputs": [],
   "source": [
    "title=soup.find('span',class_=\"overflow-hidden overflow-ellipsis whitespace-nowrap max-w-80pe po:max-w-full\")\n",
    "title.text"
   ]
  },
  {
   "cell_type": "code",
   "execution_count": null,
   "id": "cf910f1b",
   "metadata": {},
   "outputs": [],
   "source": [
    "location=soup.find('div',class_=\"mt-0.5p overflow-hidden overflow-ellipsis whitespace-nowrap max-w-70 text-gray-light leading-4 po:mb-0 po:max-w-95\")\n",
    "location.text"
   ]
  },
  {
   "cell_type": "code",
   "execution_count": null,
   "id": "1eb3f977",
   "metadata": {},
   "outputs": [],
   "source": [
    "area=soup.find('span',class_=\"selected-locality-item\")\n",
    "area.text"
   ]
  },
  {
   "cell_type": "code",
   "execution_count": null,
   "id": "55c29780",
   "metadata": {},
   "outputs": [],
   "source": [
    "price=soup.find('div',class_=\"flex flex-col w-33pe items-center bo tp:w-half po:w-full border-r-0\")\n",
    "price.text"
   ]
  },
  {
   "cell_type": "code",
   "execution_count": null,
   "id": "0ddf444b",
   "metadata": {},
   "outputs": [],
   "source": [
    "page=requests.get('https://www.nobroker.in/flats-for-sale-in-rajajinagar_bangalore')\n",
    "page"
   ]
  },
  {
   "cell_type": "code",
   "execution_count": null,
   "id": "2c1b793f",
   "metadata": {},
   "outputs": [],
   "source": [
    "soup=BeautifulSoup(page.content)\n",
    "soup"
   ]
  },
  {
   "cell_type": "code",
   "execution_count": null,
   "id": "af5d9b24",
   "metadata": {},
   "outputs": [],
   "source": [
    "title=soup.find('span',class_=\"overflow-hidden overflow-ellipsis whitespace-nowrap max-w-80pe po:max-w-full\")\n",
    "title.text"
   ]
  },
  {
   "cell_type": "code",
   "execution_count": null,
   "id": "d8c6d3b4",
   "metadata": {
    "scrolled": true
   },
   "outputs": [],
   "source": [
    "location=soup.find('div',class_=\"mt-0.5p overflow-hidden overflow-ellipsis whitespace-nowrap max-w-70 text-gray-light leading-4 po:mb-0 po:max-w-95\")\n",
    "location.text"
   ]
  },
  {
   "cell_type": "code",
   "execution_count": null,
   "id": "e797d14c",
   "metadata": {
    "scrolled": true
   },
   "outputs": [],
   "source": [
    "area=soup.find('span',class_=\"selected-locality-item\")\n",
    "area.text"
   ]
  },
  {
   "cell_type": "code",
   "execution_count": null,
   "id": "777bf4fc",
   "metadata": {
    "scrolled": true
   },
   "outputs": [],
   "source": [
    "price=soup.find('div',class_=\"flex flex-col w-33pe items-center bo tp:w-half po:w-full border-r-0\")\n",
    "price.text"
   ]
  },
  {
   "cell_type": "markdown",
   "id": "82c34912",
   "metadata": {},
   "source": [
    "# Write a python program to scrape first 10 product details which include product name , price , Image URL from https://www.bewakoof.com/women-tshirts?ga_q=tshirts   "
   ]
  },
  {
   "cell_type": "code",
   "execution_count": null,
   "id": "543a8e71",
   "metadata": {
    "scrolled": true
   },
   "outputs": [],
   "source": [
    "from bs4 import BeautifulSoup\n",
    "import requests"
   ]
  },
  {
   "cell_type": "code",
   "execution_count": null,
   "id": "3b845962",
   "metadata": {},
   "outputs": [],
   "source": [
    "page=requests.get('https://www.bewakoof.com/women-plain-t-shirts')\n",
    "page"
   ]
  },
  {
   "cell_type": "code",
   "execution_count": null,
   "id": "a93dbca0",
   "metadata": {},
   "outputs": [],
   "source": [
    "soup=BeautifulSoup(page.content)\n",
    "soup"
   ]
  },
  {
   "cell_type": "code",
   "execution_count": null,
   "id": "dad164cb",
   "metadata": {},
   "outputs": [],
   "source": [
    "Name=soup.find('a',class_=\"col-sm-4 col-xs-6\")\n",
    "Name.text"
   ]
  },
  {
   "cell_type": "code",
   "execution_count": null,
   "id": "1ba9e274",
   "metadata": {},
   "outputs": [],
   "source": [
    "NameandPrice=[]\n",
    "for i in soup.find_all('a',class_=\"col-sm-4 col-xs-6\"):\n",
    "    NameandPrice.append(i.text)\n",
    "NameandPrice"
   ]
  },
  {
   "cell_type": "code",
   "execution_count": null,
   "id": "9615a6e1",
   "metadata": {},
   "outputs": [],
   "source": [
    "\n",
    "images=soup.find('img',class_=\"swiper-lazy swiper-lazy-loaded\")\n",
    "images"
   ]
  },
  {
   "cell_type": "markdown",
   "id": "d170c927",
   "metadata": {},
   "source": [
    "# 6)\tWrite a python program to scrape cricket rankings from icc-cricket.com."
   ]
  },
  {
   "cell_type": "code",
   "execution_count": null,
   "id": "97aa175c",
   "metadata": {},
   "outputs": [],
   "source": [
    "from bs4 import BeautifulSoup\n",
    "import requests"
   ]
  },
  {
   "cell_type": "code",
   "execution_count": null,
   "id": "f64ee29b",
   "metadata": {},
   "outputs": [],
   "source": [
    "page=requests.get('https://www.icc-cricket.com/rankings/womens/team-rankings/odi')\n",
    "page"
   ]
  },
  {
   "cell_type": "code",
   "execution_count": null,
   "id": "f702bce8",
   "metadata": {},
   "outputs": [],
   "source": [
    "soup=BeautifulSoup(page.content)\n",
    "soup"
   ]
  },
  {
   "cell_type": "code",
   "execution_count": null,
   "id": "cdd6a596",
   "metadata": {},
   "outputs": [],
   "source": [
    "NO1Team=[]\n",
    "for i in soup.find_all('tr',class_=\"rankings-block__banner\"):\n",
    "    NO1Team.append(i.text)\n",
    "NO1Team\n"
   ]
  },
  {
   "cell_type": "code",
   "execution_count": null,
   "id": "815f82e8",
   "metadata": {},
   "outputs": [],
   "source": [
    "Top_Team=[]\n",
    "for i in soup.find_all('td',class_=\"table-body__cell rankings-table__team\"):\n",
    "    Top_Team.append(i.text)\n",
    "Top_Team"
   ]
  },
  {
   "cell_type": "code",
   "execution_count": null,
   "id": "454b6444",
   "metadata": {},
   "outputs": [],
   "source": [
    "MatchesandPoints=[]\n",
    "for i in soup.find_all('td',class_=\"table-body__cell u-center-text\"):\n",
    "    MatchesandPoints.append(i.text)\n",
    "MatchesandPoints"
   ]
  },
  {
   "cell_type": "code",
   "execution_count": null,
   "id": "ac939214",
   "metadata": {},
   "outputs": [],
   "source": [
    "Rating=[]\n",
    "for i in soup.find_all('td',class_=\"table-body__cell u-text-right rating\"):\n",
    "    Rating.append(i.text)\n",
    "Rating"
   ]
  },
  {
   "cell_type": "code",
   "execution_count": null,
   "id": "e38819ca",
   "metadata": {},
   "outputs": [],
   "source": [
    "print(len(NO1Team),len(Top_Team),len(MatchesandPoints),len(Rating))"
   ]
  },
  {
   "cell_type": "code",
   "execution_count": null,
   "id": "1369b5d5",
   "metadata": {},
   "outputs": [],
   "source": [
    "import pandas as pd\n",
    "df=pd.DataFrame({'Top_Team':Top_Team,'MatchesandPoints':MatchesandPoints,'Rating':Rating})\n",
    "df"
   ]
  },
  {
   "cell_type": "code",
   "execution_count": null,
   "id": "60611cf9",
   "metadata": {},
   "outputs": [],
   "source": [
    "page=requests.get('https://www.icc-cricket.com/rankings/womens/player-rankings/odi/batting')\n",
    "page"
   ]
  },
  {
   "cell_type": "code",
   "execution_count": null,
   "id": "7d499dc2",
   "metadata": {},
   "outputs": [],
   "source": [
    "soup=BeautifulSoup(page.content)\n",
    "soup"
   ]
  },
  {
   "cell_type": "code",
   "execution_count": null,
   "id": "0b600782",
   "metadata": {},
   "outputs": [],
   "source": [
    "Batsman=soup.find('tr',class_=\"rankings-block__banner\")\n",
    "Batsman.text"
   ]
  },
  {
   "cell_type": "code",
   "execution_count": null,
   "id": "aa42de3d",
   "metadata": {},
   "outputs": [],
   "source": [
    "Player=[]\n",
    "for i in soup.find_all('td',class_=\"table-body__cell rankings-table__name name\"):\n",
    "    Player.append(i.text)\n",
    "Player"
   ]
  },
  {
   "cell_type": "code",
   "execution_count": null,
   "id": "c7ebc52b",
   "metadata": {},
   "outputs": [],
   "source": [
    "Team=[]\n",
    "for i in soup.find_all('td',class_=\"table-body__cell nationality-logo rankings-table__team\"):\n",
    "    Team.append(i.text)\n",
    "Team"
   ]
  },
  {
   "cell_type": "code",
   "execution_count": null,
   "id": "66338fd7",
   "metadata": {},
   "outputs": [],
   "source": [
    "Rating=[]\n",
    "for i in soup.find_all('td',class_=\"table-body__cell rating\"):\n",
    "    Rating.append(i.text)\n",
    "Rating"
   ]
  },
  {
   "cell_type": "code",
   "execution_count": null,
   "id": "13200845",
   "metadata": {},
   "outputs": [],
   "source": [
    "import pandas as pd\n",
    "df=pd.DataFrame({'Player':Player,'Team':Team,'Rating':Rating})\n",
    "df"
   ]
  },
  {
   "cell_type": "code",
   "execution_count": null,
   "id": "61ed06fc",
   "metadata": {},
   "outputs": [],
   "source": [
    "page=requests.get('https://www.icc-cricket.com/rankings/womens/player-rankings/odi/bowling')\n",
    "page"
   ]
  },
  {
   "cell_type": "code",
   "execution_count": null,
   "id": "9cc7100a",
   "metadata": {},
   "outputs": [],
   "source": [
    "soup=BeautifulSoup(page.content)\n",
    "soup"
   ]
  },
  {
   "cell_type": "code",
   "execution_count": null,
   "id": "51c2c84a",
   "metadata": {},
   "outputs": [],
   "source": [
    "Bowler=soup.find('tr',class_=\"rankings-block__banner\")\n",
    "Bowler.text"
   ]
  },
  {
   "cell_type": "code",
   "execution_count": null,
   "id": "4bb76926",
   "metadata": {},
   "outputs": [],
   "source": [
    "Player=[]\n",
    "for i in soup.find_all('td',class_=\"table-body__cell rankings-table__name name\"):\n",
    "    Player.append(i.text)\n",
    "Player"
   ]
  },
  {
   "cell_type": "code",
   "execution_count": null,
   "id": "c41b248b",
   "metadata": {},
   "outputs": [],
   "source": [
    "Team=[]\n",
    "for i in soup.find_all('span',class_=\"table-body__logo-text\"):\n",
    "    Team.append(i.text)\n",
    "Team"
   ]
  },
  {
   "cell_type": "code",
   "execution_count": null,
   "id": "927363b4",
   "metadata": {},
   "outputs": [],
   "source": [
    "Rating=[]\n",
    "for i in soup.find_all('td',class_=\"table-body__cell rating\"):\n",
    "    Rating.append(i.text)\n",
    "Rating"
   ]
  },
  {
   "cell_type": "code",
   "execution_count": null,
   "id": "a80d8c20",
   "metadata": {},
   "outputs": [],
   "source": [
    "import pandas as pd\n",
    "df=pd.DataFrame({'Player':Player,'Team':Team,'Rating':Rating})\n",
    "df"
   ]
  },
  {
   "cell_type": "markdown",
   "id": "c5cc7ae0",
   "metadata": {},
   "source": [
    "# 2)Write a python program to display IMDB’s Top rated 100 movies’ data (i.e. name, rating, year of release) and make data frame. "
   ]
  },
  {
   "cell_type": "code",
   "execution_count": null,
   "id": "7a6930db",
   "metadata": {},
   "outputs": [],
   "source": [
    "import lxml\n",
    "import re\n",
    "import numpy as np\n",
    "import pandas as pd\n",
    "\n",
    "from bs4 import BeautifulSoup\n",
    "from requests import get"
   ]
  },
  {
   "cell_type": "code",
   "execution_count": null,
   "id": "939ece1e",
   "metadata": {},
   "outputs": [],
   "source": [
    "\n",
    "page= requests.get(\"https://www.imdb.com/search/title/?groups=top_100&sort=user_rating,desc\")\n",
    "page\n"
   ]
  },
  {
   "cell_type": "code",
   "execution_count": null,
   "id": "34ba2559",
   "metadata": {},
   "outputs": [],
   "source": [
    "soup=BeautifulSoup(page.content)\n",
    "soup"
   ]
  },
  {
   "cell_type": "code",
   "execution_count": null,
   "id": "af57c563",
   "metadata": {},
   "outputs": [],
   "source": [
    "NameandYear=soup.find('h3',class_=\"lister-item-header\")\n",
    "NameandYear.text"
   ]
  },
  {
   "cell_type": "code",
   "execution_count": null,
   "id": "179e5a9b",
   "metadata": {},
   "outputs": [],
   "source": [
    "Name=[]\n",
    "for i in soup.find_all('h3',class_=\"lister-item-header\"):\n",
    "    Name.append(i.text)\n",
    "Name"
   ]
  },
  {
   "cell_type": "code",
   "execution_count": null,
   "id": "3589cbdc",
   "metadata": {},
   "outputs": [],
   "source": [
    "Year=[]\n",
    "for i in soup.find_all('span',class_=\"lister-item-year text-muted unbold\"):\n",
    "    Year.append(i.text)\n",
    "Year"
   ]
  },
  {
   "cell_type": "code",
   "execution_count": null,
   "id": "200ccf01",
   "metadata": {},
   "outputs": [],
   "source": [
    "Rating=[]\n",
    "for i in soup.find_all('div',class_=\"inline-block ratings-imdb-rating\"):\n",
    "    Rating.append(i.text)\n",
    "Rating"
   ]
  },
  {
   "cell_type": "code",
   "execution_count": null,
   "id": "d6ed35dd",
   "metadata": {},
   "outputs": [],
   "source": [
    "import pandas as pd\n",
    "df=pd.DataFrame({'Name':Name,'Year':Year,'Rating':Rating})\n",
    "df"
   ]
  },
  {
   "cell_type": "markdown",
   "id": "61c28b90",
   "metadata": {},
   "source": [
    "# 3)Write a python program to display IMDB’s Top rated 100 Indian movies’ data (i.e. name, rating, year of release) and make data frame. "
   ]
  },
  {
   "cell_type": "code",
   "execution_count": null,
   "id": "1fce8c18",
   "metadata": {},
   "outputs": [],
   "source": [
    "import lxml\n",
    "import re\n",
    "import numpy as np\n",
    "import pandas as pd\n",
    "\n",
    "from bs4 import BeautifulSoup\n",
    "from requests import get"
   ]
  },
  {
   "cell_type": "code",
   "execution_count": null,
   "id": "04d88aba",
   "metadata": {},
   "outputs": [],
   "source": [
    "page= requests.get(\"https://www.imdb.com/india/top-rated-indian-movies/\")\n",
    "page\n"
   ]
  },
  {
   "cell_type": "code",
   "execution_count": null,
   "id": "9e0fd091",
   "metadata": {},
   "outputs": [],
   "source": [
    "soup=BeautifulSoup(page.content)\n",
    "soup"
   ]
  },
  {
   "cell_type": "code",
   "execution_count": null,
   "id": "41836669",
   "metadata": {},
   "outputs": [],
   "source": [
    "Name=[]\n",
    "for i in soup.find_all('td',class_=\"titleColumn\"):\n",
    "    Name.append(i.text.replace('\\n',''))\n",
    "Name"
   ]
  },
  {
   "cell_type": "code",
   "execution_count": null,
   "id": "f6a5d67b",
   "metadata": {},
   "outputs": [],
   "source": [
    "Year=[]\n",
    "for i in soup.find_all('span',class_=\"secondaryInfo\"):\n",
    "    Year.append(i.text)\n",
    "Year"
   ]
  },
  {
   "cell_type": "code",
   "execution_count": null,
   "id": "30493d40",
   "metadata": {},
   "outputs": [],
   "source": [
    "Rating=[]\n",
    "for i in soup.find_all('td',class_=\"ratingColumn imdbRating\"):\n",
    "    Rating.append(i.text.replace('\\n',''))\n",
    "Rating"
   ]
  },
  {
   "cell_type": "code",
   "execution_count": null,
   "id": "0a235f8a",
   "metadata": {},
   "outputs": [],
   "source": [
    "import pandas as pd\n",
    "df=pd.DataFrame({'Name':Name,'Year':Year,'Rating':Rating})\n",
    "df"
   ]
  },
  {
   "cell_type": "code",
   "execution_count": null,
   "id": "080a355b",
   "metadata": {},
   "outputs": [],
   "source": []
  }
 ],
 "metadata": {
  "kernelspec": {
   "display_name": "Python 3",
   "language": "python",
   "name": "python3"
  },
  "language_info": {
   "codemirror_mode": {
    "name": "ipython",
    "version": 3
   },
   "file_extension": ".py",
   "mimetype": "text/x-python",
   "name": "python",
   "nbconvert_exporter": "python",
   "pygments_lexer": "ipython3",
   "version": "3.8.8"
  }
 },
 "nbformat": 4,
 "nbformat_minor": 5
}
