{
 "cells": [
  {
   "cell_type": "code",
   "execution_count": null,
   "id": "c67cddda",
   "metadata": {},
   "outputs": [],
   "source": [
    "pip install selenium"
   ]
  },
  {
   "cell_type": "code",
   "execution_count": 1,
   "id": "8f2ac901",
   "metadata": {},
   "outputs": [],
   "source": [
    "import selenium\n",
    "import pandas as pd\n",
    "from selenium import webdriver\n",
    "import warnings\n",
    "warnings.filterwarnings(\"ignore\")\n",
    "import time"
   ]
  },
  {
   "cell_type": "code",
   "execution_count": null,
   "id": "4877978b",
   "metadata": {},
   "outputs": [],
   "source": [
    "driver=webdriver.Chrome(r\"C:\\Users\\Sneha\\Downloads\\chromedriver_win32 (1)\\chromedriver.exe\")"
   ]
  },
  {
   "cell_type": "code",
   "execution_count": null,
   "id": "0fe46095",
   "metadata": {},
   "outputs": [],
   "source": [
    "driver.get('https://www.naukri.com/')"
   ]
  },
  {
   "cell_type": "code",
   "execution_count": null,
   "id": "73c81012",
   "metadata": {},
   "outputs": [],
   "source": [
    "search_field_designation=driver.find_element_by_class_name(\"suggestor-input \")\n",
    "search_field_designation.send_keys(\"Data Analyst\")\n",
    "search_field_designation=driver.find_element_by_xpath('/html/body/div/div[2]/div[3]/div/div/div[3]/div/div/div/input')\n",
    "search_field_designation.send_keys(\"Bangalore\")"
   ]
  },
  {
   "cell_type": "code",
   "execution_count": null,
   "id": "8422cb8f",
   "metadata": {},
   "outputs": [],
   "source": [
    "search_button=driver.find_element_by_xpath(\"/html/body/div/div[2]/div[3]/div/div/div[6]\")\n",
    "search_button.click()"
   ]
  },
  {
   "cell_type": "code",
   "execution_count": null,
   "id": "6a118d42",
   "metadata": {},
   "outputs": [],
   "source": [
    "job_titles=[]\n",
    "company_names=[]\n",
    "job_location=[]\n",
    "experience_list=[]"
   ]
  },
  {
   "cell_type": "code",
   "execution_count": null,
   "id": "ad6282bd",
   "metadata": {},
   "outputs": [],
   "source": [
    "titles_tags=driver.find_elements_by_xpath(\"//a[@class='title fw500 ellipsis']\")\n",
    "titles_tags[0:10]"
   ]
  },
  {
   "cell_type": "code",
   "execution_count": null,
   "id": "696a080c",
   "metadata": {},
   "outputs": [],
   "source": [
    "for i in titles_tags:\n",
    "    title=i.text\n",
    "    job_titles.append(title)\n",
    "job_titles[0:10]"
   ]
  },
  {
   "cell_type": "code",
   "execution_count": null,
   "id": "56b989bd",
   "metadata": {},
   "outputs": [],
   "source": [
    "companies_tags=driver.find_elements_by_xpath(\"//a[@class='subTitle ellipsis fleft']\")\n",
    "companies_tags[0:10]"
   ]
  },
  {
   "cell_type": "code",
   "execution_count": null,
   "id": "0019fdbf",
   "metadata": {},
   "outputs": [],
   "source": [
    "for i in companies_tags:\n",
    "    company_name=i.text\n",
    "    company_names.append(company_name)\n",
    "company_names[0:10]"
   ]
  },
  {
   "cell_type": "code",
   "execution_count": null,
   "id": "6a143635",
   "metadata": {},
   "outputs": [],
   "source": [
    "location_tags=driver.find_elements_by_xpath(\"//li[@class='fleft grey-text br2 placeHolderLi location']/span[1]\")\n",
    "location_tags[0:10]"
   ]
  },
  {
   "cell_type": "code",
   "execution_count": null,
   "id": "0bca1002",
   "metadata": {},
   "outputs": [],
   "source": [
    "for i in location_tags:\n",
    "    location=i.text\n",
    "    job_location.append(location)\n",
    "job_location[0:10]"
   ]
  },
  {
   "cell_type": "code",
   "execution_count": null,
   "id": "b1a4b5a1",
   "metadata": {},
   "outputs": [],
   "source": [
    "experience_tags=driver.find_elements_by_xpath(\"//li[@class='fleft grey-text br2 placeHolderLi experience']/span[1]\")\n",
    "experience_tags[0:10]"
   ]
  },
  {
   "cell_type": "code",
   "execution_count": null,
   "id": "a9b15274",
   "metadata": {},
   "outputs": [],
   "source": [
    "for i in experience_tags:\n",
    "    experience=i.text\n",
    "    experience_list.append(experience)\n",
    "experience_list[0:10]"
   ]
  },
  {
   "cell_type": "code",
   "execution_count": null,
   "id": "3b1133f6",
   "metadata": {},
   "outputs": [],
   "source": [
    "jobs=pd.DataFrame({})\n",
    "jobs['title']=job_titles\n",
    "jobs['company']=company_names\n",
    "jobs['experience']=experience_list\n",
    "jobs['location']=job_location"
   ]
  },
  {
   "cell_type": "code",
   "execution_count": null,
   "id": "08a1d586",
   "metadata": {},
   "outputs": [],
   "source": [
    "jobs"
   ]
  },
  {
   "cell_type": "code",
   "execution_count": null,
   "id": "2154345a",
   "metadata": {},
   "outputs": [],
   "source": [
    "search_field_designation=driver.find_element_by_class_name(\"suggestor-input \")\n",
    "search_field_designation.send_keys(\"Data Scientist\")\n",
    "search_field_designation=driver.find_element_by_xpath('/html/body/div/div[2]/div[3]/div/div/div[3]/div/div/div/input')\n",
    "search_field_designation.send_keys(\"Bangalore\")"
   ]
  },
  {
   "cell_type": "code",
   "execution_count": null,
   "id": "d8c6354d",
   "metadata": {},
   "outputs": [],
   "source": [
    "search_button=driver.find_element_by_xpath(\"/html/body/div/div[2]/div[3]/div/div/div[6]\")\n",
    "search_button.click()"
   ]
  },
  {
   "cell_type": "code",
   "execution_count": null,
   "id": "785c3b23",
   "metadata": {},
   "outputs": [],
   "source": [
    "job_titles1=[]\n",
    "company_names1=[]\n",
    "job_location1=[]"
   ]
  },
  {
   "cell_type": "code",
   "execution_count": null,
   "id": "db1cb5a1",
   "metadata": {},
   "outputs": [],
   "source": [
    "titles_tags=driver.find_elements_by_xpath(\"//a[@class='title fw500 ellipsis']\")\n",
    "titles_tags[0:10]"
   ]
  },
  {
   "cell_type": "code",
   "execution_count": null,
   "id": "227c3c07",
   "metadata": {},
   "outputs": [],
   "source": [
    "for i in titles_tags:\n",
    "    title=i.text\n",
    "    job_titles1.append(title)\n",
    "job_titles1[0:10]"
   ]
  },
  {
   "cell_type": "code",
   "execution_count": null,
   "id": "4f9fdd03",
   "metadata": {},
   "outputs": [],
   "source": [
    "companies_tags=driver.find_elements_by_xpath(\"//a[@class='subTitle ellipsis fleft']\")\n",
    "companies_tags[0:10]"
   ]
  },
  {
   "cell_type": "code",
   "execution_count": null,
   "id": "ceb71ead",
   "metadata": {},
   "outputs": [],
   "source": [
    "for i in companies_tags:\n",
    "    company_name=i.text\n",
    "    company_names1.append(company_name)\n",
    "company_names1[0:10]"
   ]
  },
  {
   "cell_type": "code",
   "execution_count": null,
   "id": "d03d7002",
   "metadata": {},
   "outputs": [],
   "source": [
    "location_tags=driver.find_elements_by_xpath(\"//li[@class='fleft grey-text br2 placeHolderLi location']/span[1]\")\n",
    "location_tags[0:10]"
   ]
  },
  {
   "cell_type": "code",
   "execution_count": null,
   "id": "e6c93b56",
   "metadata": {},
   "outputs": [],
   "source": [
    "for i in location_tags:\n",
    "    location=i.text\n",
    "    job_location1.append(location)\n",
    "job_location1[0:10]"
   ]
  },
  {
   "cell_type": "code",
   "execution_count": null,
   "id": "3e255ad6",
   "metadata": {},
   "outputs": [],
   "source": [
    "jobs=pd.DataFrame({})\n",
    "jobs['title']=job_titles1\n",
    "jobs['company']=company_names1\n",
    "jobs['location']=job_location1"
   ]
  },
  {
   "cell_type": "code",
   "execution_count": null,
   "id": "ed7fbb3e",
   "metadata": {},
   "outputs": [],
   "source": [
    "jobs"
   ]
  },
  {
   "cell_type": "code",
   "execution_count": null,
   "id": "089ecb11",
   "metadata": {},
   "outputs": [],
   "source": [
    "driver.get('https://www.naukri.com/')"
   ]
  },
  {
   "cell_type": "code",
   "execution_count": null,
   "id": "7e09fe7d",
   "metadata": {},
   "outputs": [],
   "source": [
    "search_field_designation=driver.find_element_by_class_name(\"suggestor-input \")\n",
    "search_field_designation.send_keys(\"Data Scientist\")"
   ]
  },
  {
   "cell_type": "code",
   "execution_count": null,
   "id": "edea0bdc",
   "metadata": {},
   "outputs": [],
   "source": [
    "search_button=driver.find_element_by_xpath(\"/html/body/div/div[2]/div[3]/div/div/div[6]\")\n",
    "search_button.click()"
   ]
  },
  {
   "cell_type": "code",
   "execution_count": null,
   "id": "9052b3cb",
   "metadata": {},
   "outputs": [],
   "source": [
    "search_button=driver.find_element_by_xpath('/html/body/div[1]/div[3]/div[2]/section[1]/div[2]/div[4]/div[2]/div[3]/label/i')\n",
    "search_button.click()"
   ]
  },
  {
   "cell_type": "code",
   "execution_count": null,
   "id": "cf4c934f",
   "metadata": {},
   "outputs": [],
   "source": [
    "search_button=driver.find_element_by_xpath('/html/body/div[1]/div[3]/div[2]/section[1]/div[2]/div[5]/div[2]/div[2]/label/i')\n",
    "search_button.click()"
   ]
  },
  {
   "cell_type": "code",
   "execution_count": null,
   "id": "9956e66c",
   "metadata": {},
   "outputs": [],
   "source": [
    "job_titles=[]\n",
    "company_names=[]\n",
    "job_location=[]\n",
    "experience_list=[]"
   ]
  },
  {
   "cell_type": "code",
   "execution_count": null,
   "id": "89fd7a6f",
   "metadata": {},
   "outputs": [],
   "source": [
    "titles_tags=driver.find_elements_by_xpath(\"//a[@class='title fw500 ellipsis']\")\n",
    "titles_tags[0:10]"
   ]
  },
  {
   "cell_type": "code",
   "execution_count": null,
   "id": "9081a6b7",
   "metadata": {},
   "outputs": [],
   "source": [
    "for i in titles_tags:\n",
    "    title=i.text\n",
    "    job_titles.append(title)\n",
    "job_titles[0:10]"
   ]
  },
  {
   "cell_type": "code",
   "execution_count": null,
   "id": "a73f6079",
   "metadata": {},
   "outputs": [],
   "source": [
    "companies_tags=driver.find_elements_by_xpath(\"//a[@class='subTitle ellipsis fleft']\")\n",
    "companies_tags[0:10]"
   ]
  },
  {
   "cell_type": "code",
   "execution_count": null,
   "id": "7e222ba7",
   "metadata": {},
   "outputs": [],
   "source": [
    "for i in companies_tags:\n",
    "    company_name=i.text\n",
    "    company_names.append(company_name)\n",
    "company_names[0:10]"
   ]
  },
  {
   "cell_type": "code",
   "execution_count": null,
   "id": "acc2bfd9",
   "metadata": {},
   "outputs": [],
   "source": [
    "location_tags=driver.find_elements_by_xpath(\"//li[@class='fleft grey-text br2 placeHolderLi location']/span[1]\")\n",
    "location_tags[0:10]"
   ]
  },
  {
   "cell_type": "code",
   "execution_count": null,
   "id": "b337b1cf",
   "metadata": {},
   "outputs": [],
   "source": [
    "for i in location_tags:\n",
    "    location=i.text\n",
    "    job_location.append(location)\n",
    "job_location[0:10]"
   ]
  },
  {
   "cell_type": "code",
   "execution_count": null,
   "id": "57cc3514",
   "metadata": {},
   "outputs": [],
   "source": [
    "experience_tags=driver.find_elements_by_xpath(\"//li[@class='fleft grey-text br2 placeHolderLi experience']/span[1]\")\n",
    "experience_tags[0:10]"
   ]
  },
  {
   "cell_type": "code",
   "execution_count": null,
   "id": "aa322139",
   "metadata": {},
   "outputs": [],
   "source": [
    "for i in experience_tags:\n",
    "    experience=i.text\n",
    "    experience_list.append(experience)\n",
    "experience_list[0:10]"
   ]
  },
  {
   "cell_type": "code",
   "execution_count": null,
   "id": "e4e459a1",
   "metadata": {},
   "outputs": [],
   "source": [
    "jobs=pd.DataFrame({})\n",
    "jobs['title']=job_titles\n",
    "jobs['company']=company_names\n",
    "jobs['experience']=experience_list\n",
    "jobs['location']=job_location"
   ]
  },
  {
   "cell_type": "code",
   "execution_count": null,
   "id": "eb1a7f0a",
   "metadata": {},
   "outputs": [],
   "source": [
    "jobs"
   ]
  },
  {
   "cell_type": "code",
   "execution_count": null,
   "id": "66317251",
   "metadata": {},
   "outputs": [],
   "source": [
    "driver.get('https://www.flipkart.com/')"
   ]
  },
  {
   "cell_type": "code",
   "execution_count": null,
   "id": "a8d4bb57",
   "metadata": {},
   "outputs": [],
   "source": [
    "search_field_products=driver.find_element_by_class_name(\"_3704LK\")\n",
    "search_field_products.send_keys(\"Sunglasses\")"
   ]
  },
  {
   "cell_type": "code",
   "execution_count": null,
   "id": "67f6df34",
   "metadata": {},
   "outputs": [],
   "source": [
    "search_button=driver.find_element_by_xpath(\"/html/body/div[1]/div/div[1]/div[1]/div[2]/div[2]/form/div/button\")\n",
    "search_button.click()"
   ]
  },
  {
   "cell_type": "code",
   "execution_count": null,
   "id": "692dc0f7",
   "metadata": {},
   "outputs": [],
   "source": [
    "Brand_titles=[]\n",
    "product_description=[]\n",
    "prices=[]\n"
   ]
  },
  {
   "cell_type": "code",
   "execution_count": null,
   "id": "b80baaf3",
   "metadata": {},
   "outputs": [],
   "source": [
    "titles_tags=driver.find_elements_by_xpath(\"//div[@class='_2WkVRV']\")\n",
    "titles_tags[0:40]"
   ]
  },
  {
   "cell_type": "code",
   "execution_count": null,
   "id": "0c9f1b25",
   "metadata": {},
   "outputs": [],
   "source": [
    "for i in titles_tags:\n",
    "    title=i.text\n",
    "    Brand_titles.append(title)\n",
    "Brand_titles[0:40]"
   ]
  },
  {
   "cell_type": "code",
   "execution_count": null,
   "id": "7944ad3d",
   "metadata": {},
   "outputs": [],
   "source": [
    "description_tags=driver.find_elements_by_xpath(\"//a[@class='IRpwTa']\")\n",
    "description_tags[0:40]"
   ]
  },
  {
   "cell_type": "code",
   "execution_count": null,
   "id": "b5dbef7d",
   "metadata": {},
   "outputs": [],
   "source": [
    "for i in description_tags:\n",
    "    description=i.text\n",
    "    product_description.append(description)\n",
    "product_description[0:40]"
   ]
  },
  {
   "cell_type": "code",
   "execution_count": null,
   "id": "e5b67b33",
   "metadata": {},
   "outputs": [],
   "source": [
    "price_tags=driver.find_elements_by_xpath(\"//a[@class='_3bPFwb']\")\n",
    "price_tags[0:40]"
   ]
  },
  {
   "cell_type": "code",
   "execution_count": null,
   "id": "b209c6c7",
   "metadata": {},
   "outputs": [],
   "source": [
    "for i in price_tags:\n",
    "    price=i.text\n",
    "    prices.append(price)\n",
    "prices[0:40]"
   ]
  },
  {
   "cell_type": "code",
   "execution_count": null,
   "id": "59b463da",
   "metadata": {},
   "outputs": [],
   "source": [
    "search_button=driver.find_element_by_xpath(\"/html/body/div[1]/div/div[3]/div[1]/div[2]/div[12]/div/div/nav/a[11]\")\n",
    "search_button.click()"
   ]
  },
  {
   "cell_type": "code",
   "execution_count": null,
   "id": "1f71b432",
   "metadata": {},
   "outputs": [],
   "source": [
    "Brand_titles1=[]\n",
    "product_description1=[]\n",
    "prices1=[]"
   ]
  },
  {
   "cell_type": "code",
   "execution_count": null,
   "id": "a3c84cb1",
   "metadata": {},
   "outputs": [],
   "source": [
    "titles_tags1=driver.find_elements_by_xpath(\"//div[@class='_2WkVRV']\")\n",
    "titles_tags1[0:40]"
   ]
  },
  {
   "cell_type": "code",
   "execution_count": null,
   "id": "7c58f93c",
   "metadata": {},
   "outputs": [],
   "source": [
    "for i in titles_tags1:\n",
    "    title=i.text\n",
    "    Brand_titles1.append(title)\n",
    "Brand_titles1[0:40]"
   ]
  },
  {
   "cell_type": "code",
   "execution_count": null,
   "id": "41b8277d",
   "metadata": {},
   "outputs": [],
   "source": [
    "description_tags=driver.find_elements_by_xpath(\"//a[@class='IRpwTa']\")\n",
    "description_tags[0:40]"
   ]
  },
  {
   "cell_type": "code",
   "execution_count": null,
   "id": "453bcaa0",
   "metadata": {},
   "outputs": [],
   "source": [
    "for i in description_tags:\n",
    "    description=i.text\n",
    "    product_description1.append(description)\n",
    "product_description1[0:40]"
   ]
  },
  {
   "cell_type": "code",
   "execution_count": null,
   "id": "18754873",
   "metadata": {},
   "outputs": [],
   "source": [
    "price_tags=driver.find_elements_by_xpath(\"//a[@class='_3bPFwb']\")\n",
    "price_tags[0:40]"
   ]
  },
  {
   "cell_type": "code",
   "execution_count": null,
   "id": "1fc40e08",
   "metadata": {},
   "outputs": [],
   "source": [
    "for i in price_tags:\n",
    "    price=i.text\n",
    "    prices1.append(price)\n",
    "prices1[0:40]"
   ]
  },
  {
   "cell_type": "code",
   "execution_count": null,
   "id": "c781e1a4",
   "metadata": {},
   "outputs": [],
   "source": [
    "search_button=driver.find_element_by_xpath(\"/html/body/div[1]/div/div[3]/div[1]/div[2]/div[12]/div/div/nav/a[12]\")\n",
    "search_button.click()"
   ]
  },
  {
   "cell_type": "code",
   "execution_count": null,
   "id": "ad0aa935",
   "metadata": {},
   "outputs": [],
   "source": [
    "Brand_titles2=[]\n",
    "product_description2=[]\n",
    "prices2=[]"
   ]
  },
  {
   "cell_type": "code",
   "execution_count": null,
   "id": "2e213f51",
   "metadata": {},
   "outputs": [],
   "source": [
    "titles_tags1=driver.find_elements_by_xpath(\"//div[@class='_2WkVRV']\")\n",
    "titles_tags1[0:20]"
   ]
  },
  {
   "cell_type": "code",
   "execution_count": null,
   "id": "7bdb8779",
   "metadata": {},
   "outputs": [],
   "source": [
    "for i in titles_tags1:\n",
    "    title=i.text\n",
    "    Brand_titles2.append(title)\n",
    "Brand_titles2[0:20]"
   ]
  },
  {
   "cell_type": "code",
   "execution_count": null,
   "id": "ac88d560",
   "metadata": {},
   "outputs": [],
   "source": [
    "description_tags=driver.find_elements_by_xpath(\"//a[@class='IRpwTa']\")\n",
    "description_tags[0:20]"
   ]
  },
  {
   "cell_type": "code",
   "execution_count": null,
   "id": "a76a1559",
   "metadata": {},
   "outputs": [],
   "source": [
    "for i in description_tags:\n",
    "    description=i.text\n",
    "    product_description2.append(description)\n",
    "product_description2[0:20]"
   ]
  },
  {
   "cell_type": "code",
   "execution_count": null,
   "id": "21c4eb48",
   "metadata": {},
   "outputs": [],
   "source": [
    "price_tags=driver.find_elements_by_xpath(\"//a[@class='_3bPFwb']\")\n",
    "price_tags[0:20]"
   ]
  },
  {
   "cell_type": "code",
   "execution_count": null,
   "id": "3327167f",
   "metadata": {},
   "outputs": [],
   "source": [
    "for i in price_tags:\n",
    "    price=i.text\n",
    "    prices2.append(price)\n",
    "prices2[0:20]"
   ]
  },
  {
   "cell_type": "code",
   "execution_count": null,
   "id": "37237652",
   "metadata": {},
   "outputs": [],
   "source": [
    "driver.get('https://www.flipkart.com/apple-iphone-11-black-64-gb-includes-earpods-power-adapter/product-reviews/itm0f37c2240b217?pid=MOBFKCTSVZAXUHGR&lid=LSTMOBFKCTSVZAXUHGREPBFGI&marketplace=FLIPKART')"
   ]
  },
  {
   "cell_type": "code",
   "execution_count": null,
   "id": "389e9bba",
   "metadata": {},
   "outputs": [],
   "source": [
    "Ratings=[]\n",
    "review_summary=[]\n",
    "full_reviews=[]"
   ]
  },
  {
   "cell_type": "code",
   "execution_count": null,
   "id": "d87fc23d",
   "metadata": {},
   "outputs": [],
   "source": [
    "rating_tags=driver.find_elements_by_xpath(\"//div[@class='_3LWZlK _1BLPMq']\")\n",
    "rating_tags[0:10]"
   ]
  },
  {
   "cell_type": "code",
   "execution_count": null,
   "id": "80e6511f",
   "metadata": {},
   "outputs": [],
   "source": [
    "for i in rating_tags:\n",
    "    rating=i.text\n",
    "    Ratings.append(rating)\n",
    "Ratings[0:10]"
   ]
  },
  {
   "cell_type": "code",
   "execution_count": null,
   "id": "8f7748d8",
   "metadata": {},
   "outputs": [],
   "source": [
    "review_tags=driver.find_elements_by_xpath(\"//p[@class='_2-N8zT']\")\n",
    "review_tags[0:10]"
   ]
  },
  {
   "cell_type": "code",
   "execution_count": null,
   "id": "2969796c",
   "metadata": {},
   "outputs": [],
   "source": [
    "for i in review_tags:\n",
    "    review=i.text\n",
    "    review_summary.append(review)\n",
    "review_summary[0:10]"
   ]
  },
  {
   "cell_type": "code",
   "execution_count": null,
   "id": "fae9d909",
   "metadata": {},
   "outputs": [],
   "source": [
    "full_review_tags=driver.find_elements_by_xpath(\"//div[@class='t-ZTKy']\")\n",
    "full_review_tags[0:10]"
   ]
  },
  {
   "cell_type": "code",
   "execution_count": null,
   "id": "f9754add",
   "metadata": {},
   "outputs": [],
   "source": [
    "for i in full_review_tags:\n",
    "    full_review=i.text\n",
    "    full_reviews.append(full_review)\n",
    "full_reviews[0:10]"
   ]
  },
  {
   "cell_type": "code",
   "execution_count": null,
   "id": "c03aeb5d",
   "metadata": {},
   "outputs": [],
   "source": [
    "search_button=driver.find_element_by_xpath(\"/html/body/div/div/div[3]/div/div/div[2]/div[13]/div/div/nav/a[11]\")\n",
    "search_button.click()"
   ]
  },
  {
   "cell_type": "code",
   "execution_count": null,
   "id": "20760e57",
   "metadata": {},
   "outputs": [],
   "source": [
    "Ratings1=[]\n",
    "review_summary1=[]\n",
    "full_reviews1=[]"
   ]
  },
  {
   "cell_type": "code",
   "execution_count": null,
   "id": "4fd7fe66",
   "metadata": {},
   "outputs": [],
   "source": [
    "rating_tags=driver.find_elements_by_xpath(\"//div[@class='_3LWZlK _1BLPMq']\")\n",
    "rating_tags[0:10]"
   ]
  },
  {
   "cell_type": "code",
   "execution_count": null,
   "id": "4b59273d",
   "metadata": {},
   "outputs": [],
   "source": [
    "for i in rating_tags:\n",
    "    rating=i.text\n",
    "    Ratings1.append(rating)\n",
    "Ratings1[0:10]"
   ]
  },
  {
   "cell_type": "code",
   "execution_count": null,
   "id": "ffbf2294",
   "metadata": {},
   "outputs": [],
   "source": [
    "review_tags=driver.find_elements_by_xpath(\"//p[@class='_2-N8zT']\")\n",
    "review_tags[0:10]"
   ]
  },
  {
   "cell_type": "code",
   "execution_count": null,
   "id": "2a70c142",
   "metadata": {},
   "outputs": [],
   "source": [
    "for i in review_tags:\n",
    "    review=i.text\n",
    "    review_summary1.append(review)\n",
    "review_summary1[0:10]"
   ]
  },
  {
   "cell_type": "code",
   "execution_count": null,
   "id": "0c8d1199",
   "metadata": {},
   "outputs": [],
   "source": [
    "full_review_tags=driver.find_elements_by_xpath(\"//div[@class='t-ZTKy']\")\n",
    "full_review_tags[0:10]"
   ]
  },
  {
   "cell_type": "code",
   "execution_count": null,
   "id": "743bf126",
   "metadata": {},
   "outputs": [],
   "source": [
    "for i in full_review_tags:\n",
    "    full_review=i.text\n",
    "    full_reviews1.append(full_review)\n",
    "full_reviews1[0:10]"
   ]
  },
  {
   "cell_type": "code",
   "execution_count": null,
   "id": "73a36a93",
   "metadata": {},
   "outputs": [],
   "source": [
    "search_button=driver.find_element_by_xpath(\"/html/body/div/div/div[3]/div/div/div[2]/div[13]/div/div/nav/a[11]\")\n",
    "search_button.click()"
   ]
  },
  {
   "cell_type": "code",
   "execution_count": null,
   "id": "02dede06",
   "metadata": {},
   "outputs": [],
   "source": [
    "Ratings2=[]\n",
    "review_summary2=[]\n",
    "full_reviews2=[]"
   ]
  },
  {
   "cell_type": "code",
   "execution_count": null,
   "id": "ea372128",
   "metadata": {},
   "outputs": [],
   "source": [
    "rating_tags=driver.find_elements_by_xpath(\"//div[@class='_3LWZlK _1BLPMq']\")\n",
    "rating_tags[0:10]"
   ]
  },
  {
   "cell_type": "code",
   "execution_count": null,
   "id": "e213d188",
   "metadata": {},
   "outputs": [],
   "source": [
    "for i in rating_tags:\n",
    "    rating=i.text\n",
    "    Ratings2.append(rating)\n",
    "Ratings2[0:10]"
   ]
  },
  {
   "cell_type": "code",
   "execution_count": null,
   "id": "05b7092c",
   "metadata": {},
   "outputs": [],
   "source": [
    "review_tags=driver.find_elements_by_xpath(\"//p[@class='_2-N8zT']\")\n",
    "review_tags[0:10]"
   ]
  },
  {
   "cell_type": "code",
   "execution_count": null,
   "id": "3c8e2040",
   "metadata": {},
   "outputs": [],
   "source": [
    "for i in review_tags:\n",
    "    review=i.text\n",
    "    review_summary2.append(review)\n",
    "review_summary2[0:10]"
   ]
  },
  {
   "cell_type": "code",
   "execution_count": null,
   "id": "8179e88a",
   "metadata": {},
   "outputs": [],
   "source": [
    "full_review_tags=driver.find_elements_by_xpath(\"//div[@class='t-ZTKy']\")\n",
    "full_review_tags[0:10]"
   ]
  },
  {
   "cell_type": "code",
   "execution_count": null,
   "id": "82baef6b",
   "metadata": {},
   "outputs": [],
   "source": [
    "for i in full_review_tags:\n",
    "    full_review=i.text\n",
    "    full_reviews2.append(full_review)\n",
    "full_reviews2[0:10]"
   ]
  },
  {
   "cell_type": "code",
   "execution_count": null,
   "id": "de326935",
   "metadata": {},
   "outputs": [],
   "source": [
    "search_button=driver.find_element_by_xpath(\"/html/body/div/div/div[3]/div/div/div[2]/div[13]/div/div/nav/a[12]\")\n",
    "search_button.click()"
   ]
  },
  {
   "cell_type": "code",
   "execution_count": null,
   "id": "9a1f439c",
   "metadata": {},
   "outputs": [],
   "source": [
    "Ratings3=[]\n",
    "review_summary3=[]\n",
    "full_reviews3=[]"
   ]
  },
  {
   "cell_type": "code",
   "execution_count": null,
   "id": "ae5f52a5",
   "metadata": {},
   "outputs": [],
   "source": [
    "rating_tags=driver.find_elements_by_xpath(\"//div[@class='_3LWZlK _1BLPMq']\")\n",
    "rating_tags[0:10]"
   ]
  },
  {
   "cell_type": "code",
   "execution_count": null,
   "id": "81edf695",
   "metadata": {},
   "outputs": [],
   "source": [
    "for i in rating_tags:\n",
    "    rating=i.text\n",
    "    Ratings3.append(rating)\n",
    "Ratings3[0:10]"
   ]
  },
  {
   "cell_type": "code",
   "execution_count": null,
   "id": "6d3840ec",
   "metadata": {},
   "outputs": [],
   "source": [
    "review_tags=driver.find_elements_by_xpath(\"//p[@class='_2-N8zT']\")\n",
    "review_tags[0:10]"
   ]
  },
  {
   "cell_type": "code",
   "execution_count": null,
   "id": "32cb94a4",
   "metadata": {},
   "outputs": [],
   "source": [
    "for i in review_tags:\n",
    "    review=i.text\n",
    "    review_summary3.append(review)\n",
    "review_summary3[0:10]"
   ]
  },
  {
   "cell_type": "code",
   "execution_count": null,
   "id": "53f1da5d",
   "metadata": {},
   "outputs": [],
   "source": [
    "full_review_tags=driver.find_elements_by_xpath(\"//div[@class='t-ZTKy']\")\n",
    "full_review_tags[0:10]"
   ]
  },
  {
   "cell_type": "code",
   "execution_count": null,
   "id": "db11c3be",
   "metadata": {},
   "outputs": [],
   "source": [
    "for i in full_review_tags:\n",
    "    full_review=i.text\n",
    "    full_reviews3.append(full_review)\n",
    "full_reviews3[0:10]"
   ]
  },
  {
   "cell_type": "code",
   "execution_count": null,
   "id": "4d17b82d",
   "metadata": {},
   "outputs": [],
   "source": [
    "search_button=driver.find_element_by_xpath(\"/html/body/div/div/div[3]/div/div/div[2]/div[13]/div/div/nav/a[12]\")\n",
    "search_button.click()"
   ]
  },
  {
   "cell_type": "code",
   "execution_count": null,
   "id": "df8dce52",
   "metadata": {},
   "outputs": [],
   "source": [
    "Ratings4=[]\n",
    "review_summary4=[]\n",
    "full_reviews4=[]"
   ]
  },
  {
   "cell_type": "code",
   "execution_count": null,
   "id": "4536064f",
   "metadata": {},
   "outputs": [],
   "source": [
    "rating_tags=driver.find_elements_by_xpath(\"//div[@class='_3LWZlK _1BLPMq']\")\n",
    "rating_tags[0:10]"
   ]
  },
  {
   "cell_type": "code",
   "execution_count": null,
   "id": "dc79af33",
   "metadata": {},
   "outputs": [],
   "source": [
    "for i in rating_tags:\n",
    "    rating=i.text\n",
    "    Ratings4.append(rating)\n",
    "Ratings4[0:10]"
   ]
  },
  {
   "cell_type": "code",
   "execution_count": null,
   "id": "3ee19ac6",
   "metadata": {},
   "outputs": [],
   "source": [
    "review_tags=driver.find_elements_by_xpath(\"//p[@class='_2-N8zT']\")\n",
    "review_tags[0:10]"
   ]
  },
  {
   "cell_type": "code",
   "execution_count": null,
   "id": "5f949816",
   "metadata": {},
   "outputs": [],
   "source": [
    "for i in review_tags:\n",
    "    review=i.text\n",
    "    review_summary4.append(review)\n",
    "review_summary4[0:10]"
   ]
  },
  {
   "cell_type": "code",
   "execution_count": null,
   "id": "2dcad1a6",
   "metadata": {},
   "outputs": [],
   "source": [
    "full_review_tags=driver.find_elements_by_xpath(\"//div[@class='t-ZTKy']\")\n",
    "full_review_tags[0:10]"
   ]
  },
  {
   "cell_type": "code",
   "execution_count": null,
   "id": "c0bcfb3e",
   "metadata": {},
   "outputs": [],
   "source": [
    "for i in full_review_tags:\n",
    "    full_review=i.text\n",
    "    full_reviews4.append(full_review)\n",
    "full_reviews4[0:10]"
   ]
  },
  {
   "cell_type": "code",
   "execution_count": null,
   "id": "f0a77762",
   "metadata": {},
   "outputs": [],
   "source": [
    "driver.get('https://www.flipkart.com/')"
   ]
  },
  {
   "cell_type": "code",
   "execution_count": null,
   "id": "94ffd48f",
   "metadata": {},
   "outputs": [],
   "source": [
    "search_field_products=driver.find_element_by_class_name(\"_3704LK\")\n",
    "search_field_products.send_keys(\"Sneakers\")"
   ]
  },
  {
   "cell_type": "code",
   "execution_count": null,
   "id": "cc40d872",
   "metadata": {},
   "outputs": [],
   "source": [
    "search_button=driver.find_element_by_xpath(\"/html/body/div[1]/div/div[1]/div[1]/div[2]/div[2]/form/div/button\")\n",
    "search_button.click()"
   ]
  },
  {
   "cell_type": "code",
   "execution_count": null,
   "id": "14fa3903",
   "metadata": {},
   "outputs": [],
   "source": [
    "Brand_titles=[]\n",
    "product_description=[]\n",
    "prices=[]\n"
   ]
  },
  {
   "cell_type": "code",
   "execution_count": null,
   "id": "e1e7f306",
   "metadata": {},
   "outputs": [],
   "source": [
    "titles_tags=driver.find_elements_by_xpath(\"//div[@class='_2WkVRV']\")\n",
    "titles_tags[0:40]"
   ]
  },
  {
   "cell_type": "code",
   "execution_count": null,
   "id": "14e9bd85",
   "metadata": {},
   "outputs": [],
   "source": [
    "for i in titles_tags:\n",
    "    title=i.text\n",
    "    Brand_titles.append(title)\n",
    "Brand_titles[0:40]"
   ]
  },
  {
   "cell_type": "code",
   "execution_count": null,
   "id": "a42fea87",
   "metadata": {},
   "outputs": [],
   "source": [
    "description_tags=driver.find_elements_by_xpath(\"//a[@class='IRpwTa']\")\n",
    "description_tags[0:40]"
   ]
  },
  {
   "cell_type": "code",
   "execution_count": null,
   "id": "3f13cf6e",
   "metadata": {},
   "outputs": [],
   "source": [
    "for i in description_tags:\n",
    "    description=i.text\n",
    "    product_description.append(description)\n",
    "product_description[0:40]"
   ]
  },
  {
   "cell_type": "code",
   "execution_count": null,
   "id": "d02c1999",
   "metadata": {},
   "outputs": [],
   "source": [
    "price_tags=driver.find_elements_by_xpath(\"//a[@class='_3bPFwb']\")\n",
    "price_tags[0:40]"
   ]
  },
  {
   "cell_type": "code",
   "execution_count": null,
   "id": "63df5651",
   "metadata": {},
   "outputs": [],
   "source": [
    "for i in price_tags:\n",
    "    price=i.text\n",
    "    prices.append(price)\n",
    "prices[0:40]"
   ]
  },
  {
   "cell_type": "code",
   "execution_count": null,
   "id": "4d19ee04",
   "metadata": {},
   "outputs": [],
   "source": [
    "search_button=driver.find_element_by_xpath(\"/html/body/div[1]/div/div[3]/div[1]/div[2]/div[12]/div/div/nav/a[11]\")\n",
    "search_button.click()"
   ]
  },
  {
   "cell_type": "code",
   "execution_count": null,
   "id": "a2350f8f",
   "metadata": {},
   "outputs": [],
   "source": [
    "Brand_titles1=[]\n",
    "product_description1=[]\n",
    "prices1=[]"
   ]
  },
  {
   "cell_type": "code",
   "execution_count": null,
   "id": "fc620ced",
   "metadata": {},
   "outputs": [],
   "source": [
    "titles_tags1=driver.find_elements_by_xpath(\"//div[@class='_2WkVRV']\")\n",
    "titles_tags1[0:40]"
   ]
  },
  {
   "cell_type": "code",
   "execution_count": null,
   "id": "4911d6ac",
   "metadata": {},
   "outputs": [],
   "source": [
    "for i in titles_tags1:\n",
    "    title=i.text\n",
    "    Brand_titles1.append(title)\n",
    "Brand_titles1[0:40]"
   ]
  },
  {
   "cell_type": "code",
   "execution_count": null,
   "id": "435b1040",
   "metadata": {},
   "outputs": [],
   "source": [
    "description_tags=driver.find_elements_by_xpath(\"//a[@class='IRpwTa']\")\n",
    "description_tags[0:40]"
   ]
  },
  {
   "cell_type": "code",
   "execution_count": null,
   "id": "7e141af2",
   "metadata": {},
   "outputs": [],
   "source": [
    "for i in description_tags:\n",
    "    description=i.text\n",
    "    product_description1.append(description)\n",
    "product_description1[0:40]"
   ]
  },
  {
   "cell_type": "code",
   "execution_count": null,
   "id": "67fd1bc4",
   "metadata": {},
   "outputs": [],
   "source": [
    "price_tags=driver.find_elements_by_xpath(\"//a[@class='_3bPFwb']\")\n",
    "price_tags[0:40]"
   ]
  },
  {
   "cell_type": "code",
   "execution_count": null,
   "id": "d4f10126",
   "metadata": {},
   "outputs": [],
   "source": [
    "for i in price_tags:\n",
    "    price=i.text\n",
    "    prices1.append(price)\n",
    "prices1[0:40]"
   ]
  },
  {
   "cell_type": "code",
   "execution_count": null,
   "id": "d36daa86",
   "metadata": {},
   "outputs": [],
   "source": [
    "search_button=driver.find_element_by_xpath(\"/html/body/div[1]/div/div[3]/div[1]/div[2]/div[12]/div/div/nav/a[12]\")\n",
    "search_button.click()"
   ]
  },
  {
   "cell_type": "code",
   "execution_count": null,
   "id": "38d4ba6a",
   "metadata": {},
   "outputs": [],
   "source": [
    "Brand_titles2=[]\n",
    "product_description2=[]\n",
    "prices2=[]"
   ]
  },
  {
   "cell_type": "code",
   "execution_count": null,
   "id": "3e1710f9",
   "metadata": {},
   "outputs": [],
   "source": [
    "titles_tags1=driver.find_elements_by_xpath(\"//div[@class='_2WkVRV']\")\n",
    "titles_tags1[0:20]"
   ]
  },
  {
   "cell_type": "code",
   "execution_count": null,
   "id": "49441ad0",
   "metadata": {},
   "outputs": [],
   "source": [
    "for i in titles_tags1:\n",
    "    title=i.text\n",
    "    Brand_titles2.append(title)\n",
    "Brand_titles2[0:20]"
   ]
  },
  {
   "cell_type": "code",
   "execution_count": null,
   "id": "61d7edca",
   "metadata": {},
   "outputs": [],
   "source": [
    "description_tags=driver.find_elements_by_xpath(\"//a[@class='IRpwTa']\")\n",
    "description_tags[0:20]"
   ]
  },
  {
   "cell_type": "code",
   "execution_count": null,
   "id": "b359f5a7",
   "metadata": {},
   "outputs": [],
   "source": [
    "for i in description_tags:\n",
    "    description=i.text\n",
    "    product_description2.append(description)\n",
    "product_description2[0:20]"
   ]
  },
  {
   "cell_type": "code",
   "execution_count": null,
   "id": "bd01941f",
   "metadata": {},
   "outputs": [],
   "source": [
    "price_tags=driver.find_elements_by_xpath(\"//a[@class='_3bPFwb']\")\n",
    "price_tags[0:20]"
   ]
  },
  {
   "cell_type": "code",
   "execution_count": null,
   "id": "d6a0ea11",
   "metadata": {},
   "outputs": [],
   "source": [
    "for i in price_tags:\n",
    "    price=i.text\n",
    "    prices2.append(price)\n",
    "prices2[0:20]"
   ]
  },
  {
   "cell_type": "code",
   "execution_count": null,
   "id": "c547fd79",
   "metadata": {},
   "outputs": [],
   "source": [
    "driver.get(\"https://www.myntra.com/shoes \")"
   ]
  },
  {
   "cell_type": "code",
   "execution_count": null,
   "id": "3a97bb28",
   "metadata": {},
   "outputs": [],
   "source": [
    "search_button=driver.find_element_by_xpath('/html/body/div[2]/div/div[1]/main/div[3]/div[1]/section/div/div[5]/ul/li[2]/label/div')\n",
    "search_button.click()"
   ]
  },
  {
   "cell_type": "code",
   "execution_count": null,
   "id": "323d89e1",
   "metadata": {},
   "outputs": [],
   "source": [
    "search_button=driver.find_element_by_xpath('/html/body/div[2]/div/div[1]/main/div[3]/div[1]/section/div/div[6]/ul/li[1]/label/div')\n",
    "search_button.click()"
   ]
  },
  {
   "cell_type": "code",
   "execution_count": null,
   "id": "644f41a6",
   "metadata": {},
   "outputs": [],
   "source": [
    "Brand_titles=[]\n",
    "short_description=[]\n",
    "prices=[]"
   ]
  },
  {
   "cell_type": "code",
   "execution_count": null,
   "id": "5c5a5302",
   "metadata": {},
   "outputs": [],
   "source": [
    "titles_tags=driver.find_elements_by_xpath(\"//div[@class='product-productMetaInfo']\")\n",
    "titles_tags[0:50]"
   ]
  },
  {
   "cell_type": "code",
   "execution_count": null,
   "id": "8404ad4c",
   "metadata": {},
   "outputs": [],
   "source": [
    "for i in titles_tags:\n",
    "    title=i.text\n",
    "    Brand_titles.append(title)\n",
    "Brand_titles[0:50]"
   ]
  },
  {
   "cell_type": "code",
   "execution_count": null,
   "id": "e552daf7",
   "metadata": {},
   "outputs": [],
   "source": [
    "search_button=driver.find_element_by_xpath(\"/html/body/div[2]/div/div[1]/main/div[3]/div[2]/div/div[2]/section/div[2]/ul/li[12]/a\")\n",
    "search_button.click()"
   ]
  },
  {
   "cell_type": "code",
   "execution_count": null,
   "id": "60dd22a0",
   "metadata": {},
   "outputs": [],
   "source": [
    "Brand_titles1=[]\n",
    "short_description1=[]\n",
    "prices1=[]"
   ]
  },
  {
   "cell_type": "code",
   "execution_count": null,
   "id": "ff82249d",
   "metadata": {},
   "outputs": [],
   "source": [
    "titles_tags=driver.find_elements_by_xpath(\"//div[@class='product-productMetaInfo']\")\n",
    "titles_tags[0:50]"
   ]
  },
  {
   "cell_type": "code",
   "execution_count": null,
   "id": "f48cf232",
   "metadata": {},
   "outputs": [],
   "source": [
    "for i in titles_tags:\n",
    "    title=i.text\n",
    "    Brand_titles1.append(title)\n",
    "Brand_titles1[0:50]"
   ]
  },
  {
   "cell_type": "code",
   "execution_count": null,
   "id": "dc9711fa",
   "metadata": {},
   "outputs": [],
   "source": [
    "driver.get(\"https://www.amazon.in/ \")"
   ]
  },
  {
   "cell_type": "code",
   "execution_count": null,
   "id": "f7998be7",
   "metadata": {},
   "outputs": [],
   "source": [
    "search_field_all=driver.find_element_by_class_name(\"nav-search-field \")\n"
   ]
  },
  {
   "cell_type": "code",
   "execution_count": null,
   "id": "c050eb4d",
   "metadata": {},
   "outputs": [],
   "source": [
    "search_button=driver.find_element_by_xpath(\"/html/body/div[2]/header/div/div[1]/div[2]/div/form/div[3]/div/span/input\")\n",
    "search_button.click()"
   ]
  },
  {
   "cell_type": "code",
   "execution_count": null,
   "id": "5be14a21",
   "metadata": {},
   "outputs": [],
   "source": [
    "search_button=driver.find_element_by_xpath('/html/body/div[2]/div[2]/div[1]/div[2]/div/div[3]/span/div[1]/div/div/div[5]/ul[4]/li[12]/span/a/div/label/i')\n",
    "search_button.click()"
   ]
  },
  {
   "cell_type": "code",
   "execution_count": null,
   "id": "84d1ebf6",
   "metadata": {},
   "outputs": [],
   "source": [
    "product_titles=[]\n",
    "ratings=[]\n",
    "prices=[]"
   ]
  },
  {
   "cell_type": "code",
   "execution_count": null,
   "id": "2b0d04d0",
   "metadata": {},
   "outputs": [],
   "source": [
    "titles_tags=driver.find_elements_by_xpath(\"//a[@class='a-link-normal s-underline-text s-underline-link-text s-link-style a-text-normal']\")\n",
    "titles_tags[0:10]"
   ]
  },
  {
   "cell_type": "code",
   "execution_count": null,
   "id": "4cb6a0f1",
   "metadata": {},
   "outputs": [],
   "source": [
    "for i in titles_tags:\n",
    "    title=i.text\n",
    "    product_titles.append(title)\n",
    "product_titles[0:10]"
   ]
  },
  {
   "cell_type": "code",
   "execution_count": null,
   "id": "bd937169",
   "metadata": {},
   "outputs": [],
   "source": [
    "ratings_tags=driver.find_elements_by_xpath(\"//span[@class='a-declarative']\")\n",
    "ratings_tags[0:10]"
   ]
  },
  {
   "cell_type": "code",
   "execution_count": null,
   "id": "8c54ce4e",
   "metadata": {},
   "outputs": [],
   "source": [
    "for i in ratings_tags:\n",
    "    rating=i.text\n",
    "    ratings.append(rating)\n",
    "ratings[0:10]"
   ]
  },
  {
   "cell_type": "code",
   "execution_count": null,
   "id": "0dbe577b",
   "metadata": {},
   "outputs": [],
   "source": [
    "prices_tags=driver.find_elements_by_xpath(\"//a[@class='a-size-base a-link-normal s-underline-text s-underline-link-text s-link-style a-text-normal']\")\n",
    "prices_tags[0:10]"
   ]
  },
  {
   "cell_type": "code",
   "execution_count": null,
   "id": "0f184a33",
   "metadata": {},
   "outputs": [],
   "source": [
    "for i in prices_tags:\n",
    "    price=i.text\n",
    "    prices.append(price)\n",
    "prices[0:10]"
   ]
  },
  {
   "cell_type": "code",
   "execution_count": null,
   "id": "d8d87034",
   "metadata": {},
   "outputs": [],
   "source": [
    "driver.get(\"https://www.ambitionbox.com/ \")"
   ]
  },
  {
   "cell_type": "code",
   "execution_count": null,
   "id": "1b7991b9",
   "metadata": {},
   "outputs": [],
   "source": [
    "search_button=driver.find_element_by_xpath(\"/html/body/div[1]/nav/nav/a[6]\")\n",
    "search_button.click()"
   ]
  },
  {
   "cell_type": "code",
   "execution_count": null,
   "id": "cac73f09",
   "metadata": {},
   "outputs": [],
   "source": [
    "search_field_designation=driver.find_element_by_class_name(\"input.tt-input\")\n",
    "search_field_designation.send_keys(\"Data Scientist\")"
   ]
  },
  {
   "cell_type": "code",
   "execution_count": null,
   "id": "c18c6daf",
   "metadata": {},
   "outputs": [],
   "source": [
    "search_button=driver.find_element_by_xpath(\"/html/body/div/div/div/div[2]/div[1]/div[1]/div/div/div/button/span\")\n",
    "search_button.click()"
   ]
  },
  {
   "cell_type": "code",
   "execution_count": null,
   "id": "c07a6a90",
   "metadata": {},
   "outputs": [],
   "source": [
    "search_button=driver.find_element_by_xpath(\"/html/body/div/div/div/div[2]/div[1]/div[2]/div[1]/div/div/div/div[2]/div[1]/p\")\n",
    "search_button.click()"
   ]
  },
  {
   "cell_type": "code",
   "execution_count": null,
   "id": "90b963e5",
   "metadata": {},
   "outputs": [],
   "source": [
    "search_field_designation=driver.find_element_by_class_name(\"input data-v-3afdbeb9 \")\n",
    "search_field_designation.send_keys(\"Noida\")"
   ]
  },
  {
   "cell_type": "code",
   "execution_count": null,
   "id": "99e5de02",
   "metadata": {},
   "outputs": [],
   "source": [
    "search_button=driver.find_element_by_xpath(\"/html/body/div/div/div/div[2]/div[1]/div[2]/div[1]/div/div/div/div[2]/div[2]/div/div[3]/div[1]/div[1]/div/label\")\n",
    "search_button.click()"
   ]
  },
  {
   "cell_type": "code",
   "execution_count": null,
   "id": "814b82c1",
   "metadata": {},
   "outputs": [],
   "source": [
    "company_titles=[]\n",
    "company_rating=[]\n",
    "job_posted=[]"
   ]
  },
  {
   "cell_type": "code",
   "execution_count": null,
   "id": "74236fbf",
   "metadata": {},
   "outputs": [],
   "source": [
    "titles_tags=driver.find_elements_by_xpath(\"//p[@class='company body-medium']\")\n",
    "titles_tags[0:10]"
   ]
  },
  {
   "cell_type": "code",
   "execution_count": null,
   "id": "aaf71a87",
   "metadata": {},
   "outputs": [],
   "source": [
    "for i in titles_tags:\n",
    "    title=i.text\n",
    "    company_titles.append(title)\n",
    "company_titles[0:10]"
   ]
  },
  {
   "cell_type": "code",
   "execution_count": null,
   "id": "7ca1d70b",
   "metadata": {},
   "outputs": [],
   "source": [
    "rating_tags=driver.find_elements_by_xpath(\"//i[@class='icon icon-star']\")\n",
    "rating_tags[0:10]"
   ]
  },
  {
   "cell_type": "code",
   "execution_count": null,
   "id": "5fea50c8",
   "metadata": {},
   "outputs": [],
   "source": [
    "for i in rating_tags:\n",
    "    rating=i.text\n",
    "    company_rating.append(rating)\n",
    "company_rating[0:10]"
   ]
  },
  {
   "cell_type": "code",
   "execution_count": null,
   "id": "7c276039",
   "metadata": {},
   "outputs": [],
   "source": [
    "day_tags=driver.find_elements_by_xpath(\"//span[@class='body-small-l']\")\n",
    "day_tags[0:10]"
   ]
  },
  {
   "cell_type": "code",
   "execution_count": null,
   "id": "2cdc02d5",
   "metadata": {},
   "outputs": [],
   "source": [
    "for i in day_tags:\n",
    "    day=i.text\n",
    "    job_posted.append(day)\n",
    "job_posted[0:20]"
   ]
  },
  {
   "cell_type": "code",
   "execution_count": null,
   "id": "6d562594",
   "metadata": {},
   "outputs": [],
   "source": [
    "driver.get(\"https://www.ambitionbox.com/ \")"
   ]
  },
  {
   "cell_type": "code",
   "execution_count": null,
   "id": "9a323772",
   "metadata": {},
   "outputs": [],
   "source": [
    "search_button=driver.find_element_by_xpath(\"/html/body/div[1]/nav/nav/a[4]\")\n",
    "search_button.click()"
   ]
  },
  {
   "cell_type": "code",
   "execution_count": null,
   "id": "529cd65a",
   "metadata": {},
   "outputs": [],
   "source": [
    "search_field_jobprofile=driver.find_element_by_class_name(\"tt-input\")\n",
    "search_field_jobprofile.send_keys(\"Data Scientist\")"
   ]
  },
  {
   "cell_type": "code",
   "execution_count": null,
   "id": "c6bc701f",
   "metadata": {},
   "outputs": [],
   "source": [
    "company_names=[]\n",
    "total_salary=[]\n",
    "average_salary=[]\n",
    "min_salary=[]\n",
    "max_salary=[]\n",
    "experiences=[]"
   ]
  },
  {
   "cell_type": "code",
   "execution_count": null,
   "id": "0c4ba7cf",
   "metadata": {},
   "outputs": [],
   "source": [
    "names_tags=driver.find_elements_by_xpath(\"//div[@class='name']\")\n",
    "names_tags[0:10]"
   ]
  },
  {
   "cell_type": "code",
   "execution_count": null,
   "id": "6483f9a5",
   "metadata": {},
   "outputs": [],
   "source": [
    "for i in names_tags:\n",
    "    name=i.text\n",
    "    company_names.append(name)\n",
    "company_names[0:10]"
   ]
  },
  {
   "cell_type": "code",
   "execution_count": null,
   "id": "a601b6ae",
   "metadata": {},
   "outputs": [],
   "source": [
    "sal_tags=driver.find_elements_by_xpath(\"//p[@class='averageCtc']\")\n",
    "sal_tags[0:10]"
   ]
  },
  {
   "cell_type": "code",
   "execution_count": null,
   "id": "75e5203f",
   "metadata": {},
   "outputs": [],
   "source": [
    "for i in sal_tags:\n",
    "    salary=i.text\n",
    "    average_salary.append(salary)\n",
    "average_salary[0:10]"
   ]
  },
  {
   "cell_type": "code",
   "execution_count": null,
   "id": "1197110a",
   "metadata": {},
   "outputs": [],
   "source": [
    "min_sal_tags=driver.find_elements_by_xpath(\"//div[@class='salary-values']\")\n",
    "min_sal_tags[0:10]"
   ]
  },
  {
   "cell_type": "code",
   "execution_count": null,
   "id": "d9ac6706",
   "metadata": {},
   "outputs": [],
   "source": [
    "for i in min_sal_tags:\n",
    "    salary=i.text\n",
    "    min_salary.append(salary)\n",
    "min_salary[0:20]"
   ]
  },
  {
   "cell_type": "code",
   "execution_count": null,
   "id": "bd98d17a",
   "metadata": {},
   "outputs": [],
   "source": [
    "exp_tags=driver.find_elements_by_xpath(\"//div[@class='salaries sbold-list-header']\")\n",
    "exp_tags[0:10]"
   ]
  },
  {
   "cell_type": "code",
   "execution_count": null,
   "id": "71d62812",
   "metadata": {},
   "outputs": [],
   "source": [
    "for i in exp_tags:\n",
    "    exp=i.text\n",
    "    experiences.append(exp)\n",
    "experiences[0:20]"
   ]
  },
  {
   "cell_type": "code",
   "execution_count": null,
   "id": "7950f50f",
   "metadata": {},
   "outputs": [],
   "source": []
  }
 ],
 "metadata": {
  "kernelspec": {
   "display_name": "Python 3",
   "language": "python",
   "name": "python3"
  },
  "language_info": {
   "codemirror_mode": {
    "name": "ipython",
    "version": 3
   },
   "file_extension": ".py",
   "mimetype": "text/x-python",
   "name": "python",
   "nbconvert_exporter": "python",
   "pygments_lexer": "ipython3",
   "version": "3.8.8"
  }
 },
 "nbformat": 4,
 "nbformat_minor": 5
}
