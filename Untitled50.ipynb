{
 "cells": [
  {
   "cell_type": "code",
   "execution_count": null,
   "id": "258cd577",
   "metadata": {},
   "outputs": [],
   "source": [
    "from bs4 import BeautifulSoup\n",
    "import requests"
   ]
  },
  {
   "cell_type": "code",
   "execution_count": null,
   "id": "34315d1b",
   "metadata": {},
   "outputs": [],
   "source": [
    "page=requests.get('https://coreyms.com')\n",
    "page"
   ]
  },
  {
   "cell_type": "code",
   "execution_count": null,
   "id": "2d42ca0b",
   "metadata": {},
   "outputs": [],
   "source": [
    "soup=BeautifulSoup(page.content)\n",
    "soup"
   ]
  },
  {
   "cell_type": "code",
   "execution_count": null,
   "id": "a7d60373",
   "metadata": {},
   "outputs": [],
   "source": [
    "Heading=[]\n",
    "for i in soup.find_all('a',class_=\"entry-title-link\"):\n",
    "    Heading.append(i.text)\n",
    "Heading"
   ]
  },
  {
   "cell_type": "code",
   "execution_count": null,
   "id": "6b476202",
   "metadata": {},
   "outputs": [],
   "source": [
    "Date=[]\n",
    "for i in soup.find_all('time',class_=\"entry-time\"):\n",
    "    Date.append(i.text)\n",
    "Date"
   ]
  },
  {
   "cell_type": "code",
   "execution_count": null,
   "id": "951fe5c5",
   "metadata": {},
   "outputs": [],
   "source": [
    "Content=[]\n",
    "for i in soup.find_all('div',class_=\"entry-content\"):\n",
    "    Content.append(i.text.replace('\\n',''))\n",
    "Content"
   ]
  },
  {
   "cell_type": "code",
   "execution_count": 5,
   "id": "9c9b0464",
   "metadata": {},
   "outputs": [
    {
     "name": "stdout",
     "output_type": "stream",
     "text": [
      "video_code\n"
     ]
    }
   ],
   "source": [
    "articles=soup.find_all('article')\n",
    "for article in articles:\n",
    "    div_block=article.find('div',class_=\"entry-content\")\n",
    "    try:\n",
    "        youtube_link=div_block.find('iframe',class_=\"youtube-player\")['src']\n",
    "        video_code=youtube_link.split(\"?\")[0].split(\"/\")[-1]\n",
    "    except:\n",
    "            video_code=\"NA\"\n",
    "print('video_code');"
   ]
  },
  {
   "cell_type": "code",
   "execution_count": null,
   "id": "8d6fb80f",
   "metadata": {},
   "outputs": [],
   "source": []
  }
 ],
 "metadata": {
  "kernelspec": {
   "display_name": "Python 3",
   "language": "python",
   "name": "python3"
  },
  "language_info": {
   "codemirror_mode": {
    "name": "ipython",
    "version": 3
   },
   "file_extension": ".py",
   "mimetype": "text/x-python",
   "name": "python",
   "nbconvert_exporter": "python",
   "pygments_lexer": "ipython3",
   "version": "3.8.8"
  }
 },
 "nbformat": 4,
 "nbformat_minor": 5
}
