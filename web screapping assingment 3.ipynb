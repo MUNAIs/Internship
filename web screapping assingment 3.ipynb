{
 "cells": [
  {
   "cell_type": "code",
   "execution_count": null,
   "id": "ae11d1e1",
   "metadata": {},
   "outputs": [],
   "source": [
    "import selenium\n",
    "import pandas as pd\n",
    "from selenium import webdriver\n",
    "import time\n",
    "from selenium.common.exceptions import NoSuchElementException\n",
    "import warnings\n",
    "warnings.filterwarnings(\"ignore\")\n",
    "import time\n",
    "from bs4 import BeautifulSoup\n",
    "import requests"
   ]
  },
  {
   "cell_type": "code",
   "execution_count": null,
   "id": "3a7d7e14",
   "metadata": {},
   "outputs": [],
   "source": [
    "driver=webdriver.Chrome(r\"C:\\Users\\Sneha\\Downloads\\chromedriver_win32 (1)\\chromedriver.exe\")"
   ]
  },
  {
   "cell_type": "code",
   "execution_count": null,
   "id": "8a53af5a",
   "metadata": {},
   "outputs": [],
   "source": [
    "driver.get('https://www.amazon.in/')\n",
    "time.sleep(5)"
   ]
  },
  {
   "cell_type": "code",
   "execution_count": null,
   "id": "16298d9d",
   "metadata": {},
   "outputs": [],
   "source": [
    "search_field_products=driver.find_element_by_id(\"twotabsearchtextbox\")\n",
    "search_field_products.send_keys(\"guitars\")"
   ]
  },
  {
   "cell_type": "code",
   "execution_count": null,
   "id": "f2372960",
   "metadata": {},
   "outputs": [],
   "source": [
    "search_button=driver.find_element_by_xpath(\"/html/body/div[1]/header/div/div[1]/div[2]/div/form/div[3]/div/span/input\")\n",
    "search_button.click()"
   ]
  },
  {
   "cell_type": "code",
   "execution_count": null,
   "id": "759fb126",
   "metadata": {},
   "outputs": [],
   "source": [
    "driver.get('https://www.google.com/')"
   ]
  },
  {
   "cell_type": "code",
   "execution_count": null,
   "id": "3b5b1e6f",
   "metadata": {},
   "outputs": [],
   "source": [
    "search_field_products=driver.find_element_by_class_name(\"gLFyf.gsfi\")\n",
    "search_field_products.send_keys(\"fruits\")"
   ]
  },
  {
   "cell_type": "code",
   "execution_count": null,
   "id": "10199056",
   "metadata": {},
   "outputs": [],
   "source": [
    "search_button=driver.find_element_by_xpath(\"/html/body/div[1]/div[3]/form/div[1]/div[1]/div[1]/div/div[1]/div/span\")\n",
    "search_button.click()\n",
    "    "
   ]
  },
  {
   "cell_type": "code",
   "execution_count": null,
   "id": "98c440a8",
   "metadata": {},
   "outputs": [],
   "source": [
    "page=requests.get('https://www.google.com/search?q=fruits&source=hp&ei=Lg6JYrKzJYPgmAW13ZTwDw&iflsig=AJiK0e8AAAAAYokcPoJz20Tw_KJ8mCMD9dYG1PFIEEVK&ved=0ahUKEwiygpvl_PD3AhUDMKYKHbUuBf4Q4dUDCAc&uact=5&oq=fruits&gs_lcp=Cgdnd3Mtd2l6EAMyCAgAEIAEELEDMgUIABCABDIICAAQgAQQsQMyBQgAEIAEMgUIABCABDIFCAAQgAQyCAgAEIAEELEDMggIABCxAxCDATIICAAQgAQQsQMyBQgAEIAEOg4IABCPARDqAhCMAxDlAjoOCC4QjwEQ6gIQjAMQ5QI6CAguEIAEELEDOgUILhCABDoFCAAQsQNQv8IoWOXCKGDagzFoAXAAeAKAAYACiAGcB5IBBTAuMS4zmAEAoAEBsAEK&sclient=gws-wiz')\n",
    "page"
   ]
  },
  {
   "cell_type": "code",
   "execution_count": null,
   "id": "bd6c13a9",
   "metadata": {},
   "outputs": [],
   "source": [
    "soup=BeautifulSoup(page.content)\n",
    "soup"
   ]
  },
  {
   "cell_type": "code",
   "execution_count": null,
   "id": "23807a24",
   "metadata": {},
   "outputs": [],
   "source": [
    "images=[]\n",
    "for i in soup.find_all('div',class_=\"uhHOwf BYbUcd\"):\n",
    "    images.append(i['data-src'])\n",
    "images "
   ]
  },
  {
   "cell_type": "code",
   "execution_count": null,
   "id": "1c0bfc62",
   "metadata": {},
   "outputs": [],
   "source": [
    "driver.get('https://www.flipkart.com/')"
   ]
  },
  {
   "cell_type": "code",
   "execution_count": null,
   "id": "40d0f3de",
   "metadata": {},
   "outputs": [],
   "source": [
    "search_field_products=driver.find_element_by_class_name(\"_3704LK\")\n",
    "search_field_products.send_keys(\"One plus nord\")"
   ]
  },
  {
   "cell_type": "code",
   "execution_count": null,
   "id": "3fd5b47a",
   "metadata": {},
   "outputs": [],
   "source": [
    "search_button=driver.find_element_by_xpath(\"/html/body/div[1]/div/div[1]/div[1]/div[2]/div[2]/form/div/button\")\n",
    "search_button.click()"
   ]
  },
  {
   "cell_type": "code",
   "execution_count": null,
   "id": "6ca5bd20",
   "metadata": {},
   "outputs": [],
   "source": [
    "Brand_Name=[]\n",
    "Features=[]\n",
    "Prices=[]\n",
    "Product_URL=[]"
   ]
  },
  {
   "cell_type": "code",
   "execution_count": null,
   "id": "d5d99879",
   "metadata": {},
   "outputs": [],
   "source": [
    "titles_tags=driver.find_elements_by_xpath(\"//div[@class='_4rR01T']\")\n",
    "titles_tags[0:10]"
   ]
  },
  {
   "cell_type": "code",
   "execution_count": null,
   "id": "2449437c",
   "metadata": {},
   "outputs": [],
   "source": [
    "for i in titles_tags:\n",
    "    title=i.text\n",
    "    Brand_Name.append(title)\n",
    "Brand_Name[0:10]"
   ]
  },
  {
   "cell_type": "code",
   "execution_count": null,
   "id": "8312011c",
   "metadata": {},
   "outputs": [],
   "source": [
    "Feature_tags=driver.find_elements_by_xpath(\"//div[@class='fMghEO']\")\n",
    "Feature_tags[0:25]"
   ]
  },
  {
   "cell_type": "code",
   "execution_count": null,
   "id": "810bc517",
   "metadata": {},
   "outputs": [],
   "source": [
    "for i in Feature_tags:\n",
    "    feature=i.text\n",
    "    Features.append(feature)\n",
    "Features[0:25]"
   ]
  },
  {
   "cell_type": "code",
   "execution_count": null,
   "id": "17b87719",
   "metadata": {},
   "outputs": [],
   "source": [
    "price_tags=driver.find_elements_by_xpath(\"//div[@class='_30jeq3 _1_WHN1']\")\n",
    "price_tags[0:10]"
   ]
  },
  {
   "cell_type": "code",
   "execution_count": null,
   "id": "b0f39e3b",
   "metadata": {},
   "outputs": [],
   "source": [
    "for i in price_tags:\n",
    "    price=i.text\n",
    "    Prices.append(price)\n",
    "Prices[0:10]"
   ]
  },
  {
   "cell_type": "code",
   "execution_count": null,
   "id": "4d07871e",
   "metadata": {},
   "outputs": [],
   "source": [
    "smartphone=pd.DataFrame({})\n",
    "smartphone['brand']=Brand_Name\n",
    "#smartphone['feature']=Features\n",
    "smartphone['price']=Prices"
   ]
  },
  {
   "cell_type": "code",
   "execution_count": null,
   "id": "a454c323",
   "metadata": {},
   "outputs": [],
   "source": [
    "smartphone"
   ]
  },
  {
   "cell_type": "code",
   "execution_count": null,
   "id": "e5e37252",
   "metadata": {},
   "outputs": [],
   "source": [
    "from selenium.webdriver.support.ui import WebDriverWait\n",
    "from selenium.webdriver.common.by import By\n",
    "from selenium.webdriver.support import expected_conditions as EC\n",
    "from time import sleep\n",
    "from selenium.webdriver.common.action_chains import ActionChains\n",
    "action=ActionChains(driver)"
   ]
  },
  {
   "cell_type": "code",
   "execution_count": null,
   "id": "355fb876",
   "metadata": {},
   "outputs": [],
   "source": [
    "driver.get(\"https://www.google.com/maps\")"
   ]
  },
  {
   "cell_type": "code",
   "execution_count": null,
   "id": "ffb6b1ff",
   "metadata": {},
   "outputs": [],
   "source": [
    "driver.manage().timeouts().implicitlyWait(40,TimeUnit.SECONDS);\n",
    "wait = WebDriverWait(driver, 10)\n",
    "wait.until(EC.element_to_be_clickable((By.ID, \"searchboxinput\"))).send_keys(\"New York\")\n",
    "wait.until(EC.element_to_be_clickable((By.ID, \"searchbox-searchbutton\"))).click()\n",
    "#sleep(5)\n",
    "ActionChains(driver).move_to_element(driver.find_element_by_xpath(\"//html/body\")).context_click().perform()\n",
    "print(wait.until(EC.visibility_of_element_located((By.CSS_SELECTOR, \"ul[role='menu']>li div div[class*='text']:nth-of-type(1)\"))).text)"
   ]
  },
  {
   "cell_type": "code",
   "execution_count": null,
   "id": "c514e214",
   "metadata": {},
   "outputs": [],
   "source": [
    "driver.get(\"https://trak.in/india-startup-funding-investment-2015/\")"
   ]
  },
  {
   "cell_type": "code",
   "execution_count": null,
   "id": "46a43bff",
   "metadata": {},
   "outputs": [],
   "source": [
    "Sr_no=[]\n",
    "Dates=[]\n",
    "Startup_name=[]\n",
    "Industry=[]\n",
    "SubVertical=[]\n",
    "Citys=[]\n",
    "Investors_name=[]\n",
    "Amounts=[]"
   ]
  },
  {
   "cell_type": "code",
   "execution_count": null,
   "id": "828760f8",
   "metadata": {},
   "outputs": [],
   "source": [
    "Sr_no_tags=driver.find_elements_by_xpath(\"//div[@class='dataTables_scrollBody']\")\n",
    "Sr_no_tags[0:9]"
   ]
  },
  {
   "cell_type": "code",
   "execution_count": null,
   "id": "1e01310d",
   "metadata": {},
   "outputs": [],
   "source": [
    "for i in Sr_no_tags:\n",
    "    No=i.text\n",
    "    Sr_no.append(No)\n",
    "Sr_no[0:9]"
   ]
  },
  {
   "cell_type": "code",
   "execution_count": null,
   "id": "1fce4ba0",
   "metadata": {},
   "outputs": [],
   "source": [
    "Dates_tags=driver.find_elements_by_xpath(\"//div[@class='main-wrap content-main-wrap']\")\n",
    "Dates_tags[0:9]"
   ]
  },
  {
   "cell_type": "code",
   "execution_count": null,
   "id": "85f11308",
   "metadata": {},
   "outputs": [],
   "source": [
    "for i in Dates_tags:\n",
    "    Date=i.text\n",
    "    Dates.append(Date)\n",
    "Dates[0:9]"
   ]
  },
  {
   "cell_type": "code",
   "execution_count": null,
   "id": "c94070b4",
   "metadata": {},
   "outputs": [],
   "source": [
    "page=requests.get('https://www.digit.in/top-products/best-gaming-laptops-40.html')\n",
    "page"
   ]
  },
  {
   "cell_type": "code",
   "execution_count": null,
   "id": "18888ffd",
   "metadata": {},
   "outputs": [],
   "source": [
    "soup=BeautifulSoup(page.content)\n",
    "soup"
   ]
  },
  {
   "cell_type": "code",
   "execution_count": null,
   "id": "7ae1876e",
   "metadata": {},
   "outputs": [],
   "source": [
    "Name=[]\n",
    "for i in soup.find_all('td'):\n",
    "    Name.append(i.text.replace('\\n',''))\n",
    "Name"
   ]
  },
  {
   "cell_type": "code",
   "execution_count": null,
   "id": "1f4422c1",
   "metadata": {},
   "outputs": [],
   "source": [
    "driver.get('https://www.forbes.com/')"
   ]
  },
  {
   "cell_type": "code",
   "execution_count": null,
   "id": "812434eb",
   "metadata": {},
   "outputs": [],
   "source": [
    "search_button=driver.find_element_by_xpath(\"/html/body/div[1]/header/nav/div[1]/button[1]\")\n",
    "search_button.click()"
   ]
  },
  {
   "cell_type": "code",
   "execution_count": null,
   "id": "bad48133",
   "metadata": {},
   "outputs": [],
   "source": [
    "Ranks=[]\n",
    "Names=[]\n",
    "Net_worth=[]\n",
    "Ages=[]\n",
    "Citizenship=[]\n",
    "Sources=[]\n",
    "Industies=[]"
   ]
  },
  {
   "cell_type": "code",
   "execution_count": null,
   "id": "9c185129",
   "metadata": {},
   "outputs": [],
   "source": [
    "Rank_tags=driver.find_elements_by_xpath(\"//div[@class='rank']\")\n",
    "Rank_tags[0:197]"
   ]
  },
  {
   "cell_type": "code",
   "execution_count": null,
   "id": "855dbe2a",
   "metadata": {},
   "outputs": [],
   "source": [
    "for i in Rank_tags:\n",
    "    Rank=i.text\n",
    "    Ranks.append(Rank)\n",
    "Ranks[0:197]"
   ]
  },
  {
   "cell_type": "code",
   "execution_count": null,
   "id": "cbd549ff",
   "metadata": {},
   "outputs": [],
   "source": [
    "Name_tags=driver.find_elements_by_xpath(\"//div[@class='personName']\")\n",
    "Name_tags[0:197]"
   ]
  },
  {
   "cell_type": "code",
   "execution_count": null,
   "id": "cb1705f0",
   "metadata": {},
   "outputs": [],
   "source": [
    "for i in Name_tags:\n",
    "    Name=i.text\n",
    "    Names.append(Name)\n",
    "Names[0:197]"
   ]
  },
  {
   "cell_type": "code",
   "execution_count": null,
   "id": "02264f5f",
   "metadata": {},
   "outputs": [],
   "source": [
    "Networth_tags=driver.find_elements_by_xpath(\"//div[@class='netWorth']\")\n",
    "Networth_tags[0:197]"
   ]
  },
  {
   "cell_type": "code",
   "execution_count": null,
   "id": "45f89668",
   "metadata": {},
   "outputs": [],
   "source": [
    "for i in Networth_tags:\n",
    "    NW=i.text\n",
    "    Net_worth.append(NW)\n",
    "Net_worth[0:197]"
   ]
  },
  {
   "cell_type": "code",
   "execution_count": null,
   "id": "b6fb6788",
   "metadata": {},
   "outputs": [],
   "source": [
    "Age_tags=driver.find_elements_by_xpath(\"//div[@class='age']\")\n",
    "Age_tags[0:197]"
   ]
  },
  {
   "cell_type": "code",
   "execution_count": null,
   "id": "8bc3231e",
   "metadata": {},
   "outputs": [],
   "source": [
    "for i in Age_tags:\n",
    "    Age=i.text\n",
    "    Ages.append(Age)\n",
    "Ages[0:197]"
   ]
  },
  {
   "cell_type": "code",
   "execution_count": null,
   "id": "77944dee",
   "metadata": {},
   "outputs": [],
   "source": [
    "Citizenship_tags=driver.find_elements_by_xpath(\"//div[@class='countryOfCitizenship']\")\n",
    "Citizenship_tags[0:197]"
   ]
  },
  {
   "cell_type": "code",
   "execution_count": null,
   "id": "dc19a95a",
   "metadata": {},
   "outputs": [],
   "source": [
    "for i in Citizenship_tags:\n",
    "    Citizen=i.text\n",
    "    Citizenship.append(Citizen)\n",
    "Citizenship[0:197]"
   ]
  },
  {
   "cell_type": "code",
   "execution_count": null,
   "id": "bb2558f0",
   "metadata": {},
   "outputs": [],
   "source": [
    "Source_tags=driver.find_elements_by_xpath(\"//div[@class='source']\")\n",
    "Source_tags[0:197]"
   ]
  },
  {
   "cell_type": "code",
   "execution_count": null,
   "id": "c69b9dae",
   "metadata": {},
   "outputs": [],
   "source": [
    "for i in Source_tags:\n",
    "    Source=i.text\n",
    "    Sources.append(Source)\n",
    "Sources[0:197]"
   ]
  },
  {
   "cell_type": "code",
   "execution_count": null,
   "id": "d9230a35",
   "metadata": {},
   "outputs": [],
   "source": [
    "for i in Industry_tags:\n",
    "    Industy=i.text\n",
    "    Industies.append(Industy)\n",
    "Industies[0:197]"
   ]
  },
  {
   "cell_type": "code",
   "execution_count": null,
   "id": "6c4b47ca",
   "metadata": {},
   "outputs": [],
   "source": [
    "driver.get(\"https://www.youtube.com/watch?v=kffacxfA7G4\")"
   ]
  },
  {
   "cell_type": "code",
   "execution_count": null,
   "id": "d367df1f",
   "metadata": {},
   "outputs": [],
   "source": [
    "import time\n",
    "from selenium.webdriver import Chrome\n",
    "from selenium.webdriver.common.by import By\n",
    "from selenium.webdriver.common.keys import Keys\n",
    "from selenium.webdriver.support.ui import WebDriverWait\n",
    "from selenium.webdriver.support import expected_conditions as EC\n",
    "from selenium.common.exceptions import TimeoutException\n",
    "\n",
    "#with Chrome() as driver:\n",
    "#wait = WebDriverWait(driver,10)\n",
    "delay=5\n",
    "try:\n",
    "    driver.get(\"https://www.youtube.com/watch?v=kffacxfA7G4\")\n",
    "    WebDriverWait(driver,delay).until(EC.presence_of_all_elements_located((By.CLASS_NAME,'content.style-scope ytd-expander')))\n",
    "#for item in range(3): #by increasing the highest range you can get more content\n",
    "        #wait.until(EC.visibility_of_element_located((By.TAG_NAME, \"body\"))).send_keys(Keys.END)\n",
    "        #time.sleep(3)\n",
    "#for comment in wait.until(EC.presence_of_all_elements_located((By.CSS_SELECTOR, \"#comment #content-text\"))):\n",
    "        #print(comment.text)\n",
    "    comment=driver.find_element_by_xpath(\"//div[@class='content.style-scope ytd-expander']\")   \n",
    "    print(comment.text)\n",
    "except TimeoutException as e:\n",
    "    print(\"Exception Raised: \", e)"
   ]
  },
  {
   "cell_type": "code",
   "execution_count": null,
   "id": "a2353903",
   "metadata": {},
   "outputs": [],
   "source": [
    "driver.get('https://www.hostelworld.com/')"
   ]
  },
  {
   "cell_type": "code",
   "execution_count": null,
   "id": "b4044ea7",
   "metadata": {},
   "outputs": [],
   "source": [
    "search_destination=driver.find_element_by_class_name(\"search-input\")\n",
    "search_destination.send_keys(\"London\")"
   ]
  },
  {
   "cell_type": "code",
   "execution_count": null,
   "id": "47ce728e",
   "metadata": {},
   "outputs": [],
   "source": [
    "search_button=driver.find_element_by_xpath(\"/html/body/div[3]/div/div/div[1]/div[1]/div/div[2]/div[4]/div/div[2]/div/div[1]/div/span/i\")\n",
    "search_button.click()"
   ]
  },
  {
   "cell_type": "code",
   "execution_count": 40,
   "id": "39735d30",
   "metadata": {},
   "outputs": [],
   "source": [
    "hostel_name=[]\n",
    "distance_from_cc=[]\n",
    "ratings=[]\n",
    "total_reviews=[]\n",
    "overall_reviews=[]\n",
    "prices=[]\n",
    "descriptions=[]"
   ]
  },
  {
   "cell_type": "code",
   "execution_count": 37,
   "id": "dab7f436",
   "metadata": {},
   "outputs": [
    {
     "data": {
      "text/plain": [
       "[<selenium.webdriver.remote.webelement.WebElement (session=\"250eb76139364e4c7d3c1b49619654ad\", element=\"dd176158-c174-4cfa-bc9a-81e4daee78d2\")>,\n",
       " <selenium.webdriver.remote.webelement.WebElement (session=\"250eb76139364e4c7d3c1b49619654ad\", element=\"d5cc3a39-373f-4eab-9acf-16ae718643ed\")>,\n",
       " <selenium.webdriver.remote.webelement.WebElement (session=\"250eb76139364e4c7d3c1b49619654ad\", element=\"afb5fee7-fc28-42ce-900f-0f13406eccac\")>,\n",
       " <selenium.webdriver.remote.webelement.WebElement (session=\"250eb76139364e4c7d3c1b49619654ad\", element=\"a7af5a64-9c8a-4d2e-9916-70af383d1aa1\")>,\n",
       " <selenium.webdriver.remote.webelement.WebElement (session=\"250eb76139364e4c7d3c1b49619654ad\", element=\"df46c4c6-e0f7-45a0-b8a2-74aacf71e318\")>,\n",
       " <selenium.webdriver.remote.webelement.WebElement (session=\"250eb76139364e4c7d3c1b49619654ad\", element=\"207ac5c1-160a-4171-8a3f-5495c989707c\")>,\n",
       " <selenium.webdriver.remote.webelement.WebElement (session=\"250eb76139364e4c7d3c1b49619654ad\", element=\"29c132eb-09c2-4555-969b-064d74259c00\")>,\n",
       " <selenium.webdriver.remote.webelement.WebElement (session=\"250eb76139364e4c7d3c1b49619654ad\", element=\"26f1f937-7869-4bdf-bcf5-5a6905f9af52\")>,\n",
       " <selenium.webdriver.remote.webelement.WebElement (session=\"250eb76139364e4c7d3c1b49619654ad\", element=\"7528b3d2-25ab-4ad2-820b-cedfccc04374\")>,\n",
       " <selenium.webdriver.remote.webelement.WebElement (session=\"250eb76139364e4c7d3c1b49619654ad\", element=\"6d053462-504b-465b-91c9-4a774c4eb397\")>,\n",
       " <selenium.webdriver.remote.webelement.WebElement (session=\"250eb76139364e4c7d3c1b49619654ad\", element=\"50aab071-8dad-4f22-9108-a69c92e3fecc\")>,\n",
       " <selenium.webdriver.remote.webelement.WebElement (session=\"250eb76139364e4c7d3c1b49619654ad\", element=\"37715b49-0a2d-4532-bcef-e73b57254146\")>,\n",
       " <selenium.webdriver.remote.webelement.WebElement (session=\"250eb76139364e4c7d3c1b49619654ad\", element=\"5eb72995-42a7-450b-b1df-179602cd11ef\")>,\n",
       " <selenium.webdriver.remote.webelement.WebElement (session=\"250eb76139364e4c7d3c1b49619654ad\", element=\"ac119c88-b038-4a7e-99e0-06c192005f10\")>,\n",
       " <selenium.webdriver.remote.webelement.WebElement (session=\"250eb76139364e4c7d3c1b49619654ad\", element=\"c7782ead-57a7-4ea2-a318-3e628abb0a57\")>,\n",
       " <selenium.webdriver.remote.webelement.WebElement (session=\"250eb76139364e4c7d3c1b49619654ad\", element=\"8a9b1333-194b-4723-809a-3693b158787e\")>,\n",
       " <selenium.webdriver.remote.webelement.WebElement (session=\"250eb76139364e4c7d3c1b49619654ad\", element=\"1151a29b-9f8a-4b91-a065-00f39b97bc11\")>,\n",
       " <selenium.webdriver.remote.webelement.WebElement (session=\"250eb76139364e4c7d3c1b49619654ad\", element=\"77f9d2b4-9cc3-4afd-871e-5636ea571fe8\")>,\n",
       " <selenium.webdriver.remote.webelement.WebElement (session=\"250eb76139364e4c7d3c1b49619654ad\", element=\"c7797642-e86d-4fc5-bfb4-0fd85cb0d30f\")>,\n",
       " <selenium.webdriver.remote.webelement.WebElement (session=\"250eb76139364e4c7d3c1b49619654ad\", element=\"546f2edc-a46d-488c-b596-cbf001b2d559\")>]"
      ]
     },
     "execution_count": 37,
     "metadata": {},
     "output_type": "execute_result"
    }
   ],
   "source": [
    "titles_tags=driver.find_elements_by_xpath(\"//h2[@class='title title-6']\")\n",
    "titles_tags[0:20]"
   ]
  },
  {
   "cell_type": "code",
   "execution_count": 38,
   "id": "b1b4b908",
   "metadata": {},
   "outputs": [
    {
     "data": {
      "text/plain": [
       "['Palmers Lodge - Swiss Cottage',\n",
       " 'Generator London',\n",
       " 'Urbany Hostel London',\n",
       " 'Safestay London Elephant & Castle',\n",
       " 'Safestay London Kensington Holland Park',\n",
       " 'Prime Backpackers Angel',\n",
       " \"St Christopher's Inn - London Bridge\",\n",
       " 'Phoenix Hostel',\n",
       " 'Queen Elizabeth Chelsea',\n",
       " 'NX London Hostel',\n",
       " 'Hostel One Notting Hill',\n",
       " \"St Christopher's Hammersmith\",\n",
       " \"St Christopher's Camden\",\n",
       " 'London Waterloo Hostel',\n",
       " \"St Christopher's Greenwich\",\n",
       " 'Saint James Backpackers',\n",
       " 'Britannia Inn Hotel',\n",
       " 'Cranbrook Hotel',\n",
       " 'Park Hotel Essex',\n",
       " 'Best Western Boltons London Kensington']"
      ]
     },
     "execution_count": 38,
     "metadata": {},
     "output_type": "execute_result"
    }
   ],
   "source": [
    "for i in titles_tags:\n",
    "    name=i.text\n",
    "    hostel_name.append(name)\n",
    "hostel_name[0:20]"
   ]
  },
  {
   "cell_type": "code",
   "execution_count": 35,
   "id": "c9901cab",
   "metadata": {},
   "outputs": [
    {
     "data": {
      "text/plain": [
       "[<selenium.webdriver.remote.webelement.WebElement (session=\"250eb76139364e4c7d3c1b49619654ad\", element=\"d6d59dba-4a92-4295-ad6b-395ba378f435\")>,\n",
       " <selenium.webdriver.remote.webelement.WebElement (session=\"250eb76139364e4c7d3c1b49619654ad\", element=\"0d179f3b-09fe-4808-8620-2f4fa274f562\")>,\n",
       " <selenium.webdriver.remote.webelement.WebElement (session=\"250eb76139364e4c7d3c1b49619654ad\", element=\"60a4d736-6ddb-4a00-a1dd-e5df0ec618e5\")>,\n",
       " <selenium.webdriver.remote.webelement.WebElement (session=\"250eb76139364e4c7d3c1b49619654ad\", element=\"eb02bff0-77d6-49c9-9c83-7206d1fcfe54\")>,\n",
       " <selenium.webdriver.remote.webelement.WebElement (session=\"250eb76139364e4c7d3c1b49619654ad\", element=\"5baacdfc-e1e8-4678-a9d5-4e499c1f35f9\")>,\n",
       " <selenium.webdriver.remote.webelement.WebElement (session=\"250eb76139364e4c7d3c1b49619654ad\", element=\"fc41b036-218d-4a92-89ef-a8b42aa0da4c\")>,\n",
       " <selenium.webdriver.remote.webelement.WebElement (session=\"250eb76139364e4c7d3c1b49619654ad\", element=\"428bb92d-138b-4032-be47-1aabd1ce5270\")>,\n",
       " <selenium.webdriver.remote.webelement.WebElement (session=\"250eb76139364e4c7d3c1b49619654ad\", element=\"9e468084-091c-481b-a99d-b2f1cf589354\")>,\n",
       " <selenium.webdriver.remote.webelement.WebElement (session=\"250eb76139364e4c7d3c1b49619654ad\", element=\"81c45bd6-1545-4673-b897-728527e53a6e\")>,\n",
       " <selenium.webdriver.remote.webelement.WebElement (session=\"250eb76139364e4c7d3c1b49619654ad\", element=\"636b8ce8-e508-4b42-851b-0ba515af929f\")>,\n",
       " <selenium.webdriver.remote.webelement.WebElement (session=\"250eb76139364e4c7d3c1b49619654ad\", element=\"a5277c75-d93d-4418-a5ae-f35a6c65ff6d\")>,\n",
       " <selenium.webdriver.remote.webelement.WebElement (session=\"250eb76139364e4c7d3c1b49619654ad\", element=\"796b9236-3dca-4322-a158-0eb524f1cc46\")>,\n",
       " <selenium.webdriver.remote.webelement.WebElement (session=\"250eb76139364e4c7d3c1b49619654ad\", element=\"e99e8406-47af-41ee-8b01-8b8934f08293\")>,\n",
       " <selenium.webdriver.remote.webelement.WebElement (session=\"250eb76139364e4c7d3c1b49619654ad\", element=\"601e30c7-730d-4321-acde-54d2f46c3427\")>,\n",
       " <selenium.webdriver.remote.webelement.WebElement (session=\"250eb76139364e4c7d3c1b49619654ad\", element=\"d9eb53e2-6ba6-4697-b710-b3db9e39d894\")>,\n",
       " <selenium.webdriver.remote.webelement.WebElement (session=\"250eb76139364e4c7d3c1b49619654ad\", element=\"e98d1092-924f-4079-b609-ad8599085f7f\")>,\n",
       " <selenium.webdriver.remote.webelement.WebElement (session=\"250eb76139364e4c7d3c1b49619654ad\", element=\"62c37f7d-58ef-40b0-9dfa-3913b33338e4\")>,\n",
       " <selenium.webdriver.remote.webelement.WebElement (session=\"250eb76139364e4c7d3c1b49619654ad\", element=\"7bf83f71-2a74-43ee-abcd-fa06a469e427\")>,\n",
       " <selenium.webdriver.remote.webelement.WebElement (session=\"250eb76139364e4c7d3c1b49619654ad\", element=\"e31821e2-9399-4e7e-a52d-8af13ca85c9d\")>,\n",
       " <selenium.webdriver.remote.webelement.WebElement (session=\"250eb76139364e4c7d3c1b49619654ad\", element=\"d0ac7a1a-a208-4e7d-9533-72e4f7be84e0\")>]"
      ]
     },
     "execution_count": 35,
     "metadata": {},
     "output_type": "execute_result"
    }
   ],
   "source": [
    "distance_tags=driver.find_elements_by_xpath(\"//span[@class='description']\")\n",
    "distance_tags[0:20]"
   ]
  },
  {
   "cell_type": "code",
   "execution_count": 36,
   "id": "d63bc012",
   "metadata": {},
   "outputs": [
    {
     "data": {
      "text/plain": [
       "['Hostel - 6.5km from city centre',\n",
       " 'Hostel - 3km from city centre',\n",
       " 'Hostel - 5.4km from city centre',\n",
       " 'Hostel - 1.7km from city centre',\n",
       " 'Hostel - 5.9km from city centre',\n",
       " 'Hostel - 3.6km from city centre',\n",
       " 'Hostel - 1.8km from city centre',\n",
       " 'Hostel - 4.2km from city centre',\n",
       " 'Hostel - 5.7km from city centre',\n",
       " 'Hostel - 6.1km from city centre',\n",
       " 'Hostel - 5.5km from city centre',\n",
       " 'Hostel - 7.5km from city centre',\n",
       " 'Hostel - 4.3km from city centre',\n",
       " 'Hostel - 0.7km from city centre',\n",
       " 'Hostel - 7.6km from city centre',\n",
       " 'Hostel - 5.5km from city centre',\n",
       " 'Hotel - 14.5km from city centre',\n",
       " 'Hotel - 14.8km from city centre',\n",
       " 'Hotel - 24.1km from city centre',\n",
       " 'Hotel - 5.4km from city centre']"
      ]
     },
     "execution_count": 36,
     "metadata": {},
     "output_type": "execute_result"
    }
   ],
   "source": [
    "for i in distance_tags:\n",
    "    distance=i.text\n",
    "    distance_from_cc.append(distance)\n",
    "distance_from_cc[0:20]"
   ]
  },
  {
   "cell_type": "code",
   "execution_count": 33,
   "id": "6cf11e5f",
   "metadata": {},
   "outputs": [
    {
     "data": {
      "text/plain": [
       "[<selenium.webdriver.remote.webelement.WebElement (session=\"250eb76139364e4c7d3c1b49619654ad\", element=\"9428e858-5202-45d2-b15b-49c357e0cef5\")>,\n",
       " <selenium.webdriver.remote.webelement.WebElement (session=\"250eb76139364e4c7d3c1b49619654ad\", element=\"65e27801-c9ff-4989-a967-540d567e3b22\")>,\n",
       " <selenium.webdriver.remote.webelement.WebElement (session=\"250eb76139364e4c7d3c1b49619654ad\", element=\"07d4832f-11d2-4923-a478-f171afde017d\")>,\n",
       " <selenium.webdriver.remote.webelement.WebElement (session=\"250eb76139364e4c7d3c1b49619654ad\", element=\"f71d3243-c464-4750-b495-c5f4e3f942dd\")>,\n",
       " <selenium.webdriver.remote.webelement.WebElement (session=\"250eb76139364e4c7d3c1b49619654ad\", element=\"296f8269-a30e-4f00-b083-fd5a1ee34f6d\")>,\n",
       " <selenium.webdriver.remote.webelement.WebElement (session=\"250eb76139364e4c7d3c1b49619654ad\", element=\"5aa53e41-c7df-4189-bd1b-c0b8032b6bf7\")>,\n",
       " <selenium.webdriver.remote.webelement.WebElement (session=\"250eb76139364e4c7d3c1b49619654ad\", element=\"fb1a8aa5-597d-4809-873c-09970a678ac1\")>,\n",
       " <selenium.webdriver.remote.webelement.WebElement (session=\"250eb76139364e4c7d3c1b49619654ad\", element=\"10c22751-0257-4c1d-b111-347030f2387c\")>,\n",
       " <selenium.webdriver.remote.webelement.WebElement (session=\"250eb76139364e4c7d3c1b49619654ad\", element=\"9dea64d4-b0df-40da-9216-2c55f966f521\")>,\n",
       " <selenium.webdriver.remote.webelement.WebElement (session=\"250eb76139364e4c7d3c1b49619654ad\", element=\"510117b2-aea7-4f22-bff2-5be75ea98b3c\")>,\n",
       " <selenium.webdriver.remote.webelement.WebElement (session=\"250eb76139364e4c7d3c1b49619654ad\", element=\"73103539-c858-4889-a526-a404f551f82d\")>,\n",
       " <selenium.webdriver.remote.webelement.WebElement (session=\"250eb76139364e4c7d3c1b49619654ad\", element=\"a377cd68-24aa-4909-a917-12dde2d96e93\")>,\n",
       " <selenium.webdriver.remote.webelement.WebElement (session=\"250eb76139364e4c7d3c1b49619654ad\", element=\"f416de40-4b98-434c-9b59-5110a8187ac2\")>,\n",
       " <selenium.webdriver.remote.webelement.WebElement (session=\"250eb76139364e4c7d3c1b49619654ad\", element=\"b6992b66-abb3-4f71-83e0-846658be50b4\")>,\n",
       " <selenium.webdriver.remote.webelement.WebElement (session=\"250eb76139364e4c7d3c1b49619654ad\", element=\"8115fe81-f946-493a-9b81-bce6256f312c\")>,\n",
       " <selenium.webdriver.remote.webelement.WebElement (session=\"250eb76139364e4c7d3c1b49619654ad\", element=\"72539b7c-1894-46c3-a5dc-9e775cafd2db\")>,\n",
       " <selenium.webdriver.remote.webelement.WebElement (session=\"250eb76139364e4c7d3c1b49619654ad\", element=\"bb365583-78cb-443d-aef8-7121d3af787d\")>,\n",
       " <selenium.webdriver.remote.webelement.WebElement (session=\"250eb76139364e4c7d3c1b49619654ad\", element=\"8559e7de-212c-48e4-9c10-5825187b8176\")>]"
      ]
     },
     "execution_count": 33,
     "metadata": {},
     "output_type": "execute_result"
    }
   ],
   "source": [
    "rating_tags=driver.find_elements_by_xpath(\"//div[@class='score orange big']\")\n",
    "rating_tags[0:20]"
   ]
  },
  {
   "cell_type": "code",
   "execution_count": 34,
   "id": "a061ee03",
   "metadata": {},
   "outputs": [
    {
     "data": {
      "text/plain": [
       "['8.9',\n",
       " '7.6',\n",
       " '9.4',\n",
       " '7.2',\n",
       " '6.7',\n",
       " '8.5',\n",
       " '8.0',\n",
       " '7.8',\n",
       " '6.9',\n",
       " '7.0',\n",
       " '8.6',\n",
       " '7.9',\n",
       " '8.1',\n",
       " '6.5',\n",
       " '7.6',\n",
       " '6.0',\n",
       " '8.1',\n",
       " '8.0',\n",
       " '8.9',\n",
       " '7.6']"
      ]
     },
     "execution_count": 34,
     "metadata": {},
     "output_type": "execute_result"
    }
   ],
   "source": [
    "for i in rating_tags:\n",
    "    rating=i.text\n",
    "    ratings.append(rating)\n",
    "ratings[0:20]"
   ]
  },
  {
   "cell_type": "code",
   "execution_count": 31,
   "id": "ce34d8ea",
   "metadata": {},
   "outputs": [
    {
     "data": {
      "text/plain": [
       "[<selenium.webdriver.remote.webelement.WebElement (session=\"250eb76139364e4c7d3c1b49619654ad\", element=\"edb49edc-d5c8-4a80-b255-0a3f1a1d09ae\")>,\n",
       " <selenium.webdriver.remote.webelement.WebElement (session=\"250eb76139364e4c7d3c1b49619654ad\", element=\"de4532cf-ceff-4e30-ba44-77b727e7c444\")>,\n",
       " <selenium.webdriver.remote.webelement.WebElement (session=\"250eb76139364e4c7d3c1b49619654ad\", element=\"bc4c18c6-6eb8-47f8-b0e5-787f9d5e52d8\")>,\n",
       " <selenium.webdriver.remote.webelement.WebElement (session=\"250eb76139364e4c7d3c1b49619654ad\", element=\"e5066d43-c489-495d-b2d9-9a69a6b8de90\")>,\n",
       " <selenium.webdriver.remote.webelement.WebElement (session=\"250eb76139364e4c7d3c1b49619654ad\", element=\"43f16aec-fa72-49dc-9bf9-0367f23fb166\")>,\n",
       " <selenium.webdriver.remote.webelement.WebElement (session=\"250eb76139364e4c7d3c1b49619654ad\", element=\"874e779a-c7e9-4695-ae49-78e78b8936c0\")>,\n",
       " <selenium.webdriver.remote.webelement.WebElement (session=\"250eb76139364e4c7d3c1b49619654ad\", element=\"a3436a31-f952-4b09-8f26-eff05431f6d0\")>,\n",
       " <selenium.webdriver.remote.webelement.WebElement (session=\"250eb76139364e4c7d3c1b49619654ad\", element=\"996dc296-2ab4-4f35-bf2e-67ba622277c8\")>,\n",
       " <selenium.webdriver.remote.webelement.WebElement (session=\"250eb76139364e4c7d3c1b49619654ad\", element=\"e38d46e7-1ab3-4d74-a3a6-7cb62d9c1d79\")>,\n",
       " <selenium.webdriver.remote.webelement.WebElement (session=\"250eb76139364e4c7d3c1b49619654ad\", element=\"f84c994e-2f80-4604-9d54-17f3443ebb40\")>,\n",
       " <selenium.webdriver.remote.webelement.WebElement (session=\"250eb76139364e4c7d3c1b49619654ad\", element=\"49e31e29-3c5d-481b-961a-ba8d4cdbf68f\")>,\n",
       " <selenium.webdriver.remote.webelement.WebElement (session=\"250eb76139364e4c7d3c1b49619654ad\", element=\"2a8b27b4-c08b-4418-9dea-90c47e8e6307\")>,\n",
       " <selenium.webdriver.remote.webelement.WebElement (session=\"250eb76139364e4c7d3c1b49619654ad\", element=\"79d08aa8-57bc-4994-9d14-17dc5f23475e\")>,\n",
       " <selenium.webdriver.remote.webelement.WebElement (session=\"250eb76139364e4c7d3c1b49619654ad\", element=\"c5a9f659-9426-4d0e-9815-a899c19122a4\")>,\n",
       " <selenium.webdriver.remote.webelement.WebElement (session=\"250eb76139364e4c7d3c1b49619654ad\", element=\"3b6b452e-7b86-4d17-a597-fe9446cbf023\")>,\n",
       " <selenium.webdriver.remote.webelement.WebElement (session=\"250eb76139364e4c7d3c1b49619654ad\", element=\"f609bcc7-e67e-4e6f-99ff-fa3ec4cead03\")>,\n",
       " <selenium.webdriver.remote.webelement.WebElement (session=\"250eb76139364e4c7d3c1b49619654ad\", element=\"c8c4be74-e656-4fa8-9171-190189e838c5\")>,\n",
       " <selenium.webdriver.remote.webelement.WebElement (session=\"250eb76139364e4c7d3c1b49619654ad\", element=\"d37774a9-7dc7-4982-a69d-59dff48bbe68\")>,\n",
       " <selenium.webdriver.remote.webelement.WebElement (session=\"250eb76139364e4c7d3c1b49619654ad\", element=\"d0be8b62-09d1-414b-900a-abd6b78a6e9a\")>,\n",
       " <selenium.webdriver.remote.webelement.WebElement (session=\"250eb76139364e4c7d3c1b49619654ad\", element=\"47703538-6879-4da0-b4f3-b7bc32af3e9c\")>]"
      ]
     },
     "execution_count": 31,
     "metadata": {},
     "output_type": "execute_result"
    }
   ],
   "source": [
    "review_tags=driver.find_elements_by_xpath(\"//div[@class='reviews']\")\n",
    "review_tags[0:20]"
   ]
  },
  {
   "cell_type": "code",
   "execution_count": 32,
   "id": "5c8c76e6",
   "metadata": {},
   "outputs": [
    {
     "data": {
      "text/plain": [
       "['15339 Total Reviews',\n",
       " '6939 Total Reviews',\n",
       " '306 Total Reviews',\n",
       " '4240 Total Reviews',\n",
       " '1191 Total Reviews',\n",
       " '573 Total Reviews',\n",
       " '3294 Total Reviews',\n",
       " '3555 Total Reviews',\n",
       " '3262 Total Reviews',\n",
       " '1125 Total Reviews',\n",
       " '1355 Total Reviews',\n",
       " '4018 Total Reviews',\n",
       " '3764 Total Reviews',\n",
       " '2495 Total Reviews',\n",
       " '3189 Total Reviews',\n",
       " '1789 Total Reviews',\n",
       " '19 Total Reviews',\n",
       " '58 Total Reviews',\n",
       " '109 Total Reviews',\n",
       " '2 Total Reviews']"
      ]
     },
     "execution_count": 32,
     "metadata": {},
     "output_type": "execute_result"
    }
   ],
   "source": [
    "for i in review_tags:\n",
    "    review=i.text\n",
    "    total_reviews.append(review)\n",
    "total_reviews[0:20]"
   ]
  },
  {
   "cell_type": "code",
   "execution_count": 29,
   "id": "cd265beb",
   "metadata": {},
   "outputs": [
    {
     "data": {
      "text/plain": [
       "[<selenium.webdriver.remote.webelement.WebElement (session=\"250eb76139364e4c7d3c1b49619654ad\", element=\"8f7b0bca-591f-4832-aab5-b341d3421e35\")>,\n",
       " <selenium.webdriver.remote.webelement.WebElement (session=\"250eb76139364e4c7d3c1b49619654ad\", element=\"8e361e3e-2498-428c-80bc-6794e9bdd4ee\")>,\n",
       " <selenium.webdriver.remote.webelement.WebElement (session=\"250eb76139364e4c7d3c1b49619654ad\", element=\"eddc8e65-0ba2-48a5-9b60-0a6b8f155c3f\")>,\n",
       " <selenium.webdriver.remote.webelement.WebElement (session=\"250eb76139364e4c7d3c1b49619654ad\", element=\"57c4bac7-aac9-460f-969c-6c3d0207b551\")>,\n",
       " <selenium.webdriver.remote.webelement.WebElement (session=\"250eb76139364e4c7d3c1b49619654ad\", element=\"acd0172f-7b9d-4e9b-97e0-016640edb51e\")>,\n",
       " <selenium.webdriver.remote.webelement.WebElement (session=\"250eb76139364e4c7d3c1b49619654ad\", element=\"679e06a7-ac4e-45d9-8be5-687bb1f2fd83\")>,\n",
       " <selenium.webdriver.remote.webelement.WebElement (session=\"250eb76139364e4c7d3c1b49619654ad\", element=\"ebd639bd-86ad-4154-9df7-a002a27f0d1a\")>,\n",
       " <selenium.webdriver.remote.webelement.WebElement (session=\"250eb76139364e4c7d3c1b49619654ad\", element=\"9b2b4d15-c060-4f37-8e2d-cbd52809c599\")>,\n",
       " <selenium.webdriver.remote.webelement.WebElement (session=\"250eb76139364e4c7d3c1b49619654ad\", element=\"d11d79c5-01e4-483f-a0c7-3813d03be3cd\")>,\n",
       " <selenium.webdriver.remote.webelement.WebElement (session=\"250eb76139364e4c7d3c1b49619654ad\", element=\"3195230d-219e-4a2a-a8da-16a317253098\")>,\n",
       " <selenium.webdriver.remote.webelement.WebElement (session=\"250eb76139364e4c7d3c1b49619654ad\", element=\"ba932a04-417d-4ffd-b605-8f949eea79b7\")>,\n",
       " <selenium.webdriver.remote.webelement.WebElement (session=\"250eb76139364e4c7d3c1b49619654ad\", element=\"8eda9c91-af25-4edb-b1bf-c58f4bdefbad\")>,\n",
       " <selenium.webdriver.remote.webelement.WebElement (session=\"250eb76139364e4c7d3c1b49619654ad\", element=\"9ee61434-e755-4407-98eb-ec2490f41ac9\")>,\n",
       " <selenium.webdriver.remote.webelement.WebElement (session=\"250eb76139364e4c7d3c1b49619654ad\", element=\"67e89b10-b9da-4d96-9850-0c2bb771360a\")>,\n",
       " <selenium.webdriver.remote.webelement.WebElement (session=\"250eb76139364e4c7d3c1b49619654ad\", element=\"5317ff0f-33a5-436f-b2a6-6dd95b6a016a\")>,\n",
       " <selenium.webdriver.remote.webelement.WebElement (session=\"250eb76139364e4c7d3c1b49619654ad\", element=\"205ba274-1c13-451f-b8ad-2e2bab2ad3da\")>,\n",
       " <selenium.webdriver.remote.webelement.WebElement (session=\"250eb76139364e4c7d3c1b49619654ad\", element=\"e191efed-742b-4cd9-9811-596f51d50c53\")>,\n",
       " <selenium.webdriver.remote.webelement.WebElement (session=\"250eb76139364e4c7d3c1b49619654ad\", element=\"7cfd1007-4720-46e9-bf69-a03ea9580d0c\")>,\n",
       " <selenium.webdriver.remote.webelement.WebElement (session=\"250eb76139364e4c7d3c1b49619654ad\", element=\"bc217fe1-6e22-4e18-99ac-b3280d5674d7\")>,\n",
       " <selenium.webdriver.remote.webelement.WebElement (session=\"250eb76139364e4c7d3c1b49619654ad\", element=\"cdd7cd40-f245-4f53-b733-b0687aec3e4e\")>]"
      ]
     },
     "execution_count": 29,
     "metadata": {},
     "output_type": "execute_result"
    }
   ],
   "source": [
    "price_tags=driver.find_elements_by_xpath(\"//div[@class='price title-5']\")\n",
    "price_tags[0:20]"
   ]
  },
  {
   "cell_type": "code",
   "execution_count": 30,
   "id": "7338006a",
   "metadata": {},
   "outputs": [
    {
     "data": {
      "text/plain": [
       "['Rs3398',\n",
       " 'Rs2746',\n",
       " 'Rs17092',\n",
       " 'Rs2837',\n",
       " 'Rs2398',\n",
       " 'Rs3253',\n",
       " 'Rs4101.31 Rs3691',\n",
       " 'Rs2284.27 Rs2170',\n",
       " 'Rs2192',\n",
       " 'Rs4176.78 Rs3759',\n",
       " 'Rs4068',\n",
       " 'Rs3307.33 Rs2977',\n",
       " 'Rs4426.27 Rs3984',\n",
       " 'Rs2875',\n",
       " 'Rs3451.77 Rs3107',\n",
       " 'Rs12512.54 Rs11887',\n",
       " 'Rs4029.46 Rs3828',\n",
       " 'Rs19660',\n",
       " 'Rs14948',\n",
       " 'Rs20960']"
      ]
     },
     "execution_count": 30,
     "metadata": {},
     "output_type": "execute_result"
    }
   ],
   "source": [
    "for i in price_tags:\n",
    "    price=i.text\n",
    "    prices.append(price)\n",
    "prices[0:20]"
   ]
  },
  {
   "cell_type": "code",
   "execution_count": 39,
   "id": "90bf5b8a",
   "metadata": {},
   "outputs": [
    {
     "data": {
      "text/plain": [
       "[<selenium.webdriver.remote.webelement.WebElement (session=\"250eb76139364e4c7d3c1b49619654ad\", element=\"199fee6d-468f-4fd7-bd9e-6c27143f30f9\")>,\n",
       " <selenium.webdriver.remote.webelement.WebElement (session=\"250eb76139364e4c7d3c1b49619654ad\", element=\"d1a063af-130c-4dcc-95d0-34b0f275ec56\")>,\n",
       " <selenium.webdriver.remote.webelement.WebElement (session=\"250eb76139364e4c7d3c1b49619654ad\", element=\"ba0aa1cf-d105-405f-ba8c-df856cbad82a\")>,\n",
       " <selenium.webdriver.remote.webelement.WebElement (session=\"250eb76139364e4c7d3c1b49619654ad\", element=\"462a9af8-4d40-433d-aa0d-4384393df0b7\")>,\n",
       " <selenium.webdriver.remote.webelement.WebElement (session=\"250eb76139364e4c7d3c1b49619654ad\", element=\"afc82e5a-bd66-48f9-932c-c1cbc835407e\")>,\n",
       " <selenium.webdriver.remote.webelement.WebElement (session=\"250eb76139364e4c7d3c1b49619654ad\", element=\"ed94c3e3-5698-4459-a391-10cb89e9a851\")>,\n",
       " <selenium.webdriver.remote.webelement.WebElement (session=\"250eb76139364e4c7d3c1b49619654ad\", element=\"1db554e1-d0ab-4231-877c-53e3c8732807\")>,\n",
       " <selenium.webdriver.remote.webelement.WebElement (session=\"250eb76139364e4c7d3c1b49619654ad\", element=\"bb60615d-2aad-434c-afcb-a85020e23a98\")>,\n",
       " <selenium.webdriver.remote.webelement.WebElement (session=\"250eb76139364e4c7d3c1b49619654ad\", element=\"58248cc6-64f9-4475-a379-86d5b056f1ee\")>,\n",
       " <selenium.webdriver.remote.webelement.WebElement (session=\"250eb76139364e4c7d3c1b49619654ad\", element=\"80b9cb86-bec5-4a00-ad28-b9abf3a34200\")>,\n",
       " <selenium.webdriver.remote.webelement.WebElement (session=\"250eb76139364e4c7d3c1b49619654ad\", element=\"8c5e5668-df13-44e6-8f96-e6191b681fbd\")>,\n",
       " <selenium.webdriver.remote.webelement.WebElement (session=\"250eb76139364e4c7d3c1b49619654ad\", element=\"bf7472cc-09e7-479b-9a46-ae5455e198a5\")>,\n",
       " <selenium.webdriver.remote.webelement.WebElement (session=\"250eb76139364e4c7d3c1b49619654ad\", element=\"576205f3-4503-4a7d-92ea-21e9289b8d52\")>,\n",
       " <selenium.webdriver.remote.webelement.WebElement (session=\"250eb76139364e4c7d3c1b49619654ad\", element=\"38f37a44-47c7-46fa-b77b-9e829ae7a0ca\")>,\n",
       " <selenium.webdriver.remote.webelement.WebElement (session=\"250eb76139364e4c7d3c1b49619654ad\", element=\"9552a23a-0d2c-4179-98c7-42f88f1fac4a\")>,\n",
       " <selenium.webdriver.remote.webelement.WebElement (session=\"250eb76139364e4c7d3c1b49619654ad\", element=\"adf7a172-54c3-456a-8741-44ac725157e0\")>,\n",
       " <selenium.webdriver.remote.webelement.WebElement (session=\"250eb76139364e4c7d3c1b49619654ad\", element=\"7245c365-1c95-4e80-ba68-f5daf1b9ca2b\")>,\n",
       " <selenium.webdriver.remote.webelement.WebElement (session=\"250eb76139364e4c7d3c1b49619654ad\", element=\"98a06328-e123-4c79-9dc8-b2616fb74a3a\")>,\n",
       " <selenium.webdriver.remote.webelement.WebElement (session=\"250eb76139364e4c7d3c1b49619654ad\", element=\"b3061657-d3d0-4040-a7d5-baa3360db98a\")>,\n",
       " <selenium.webdriver.remote.webelement.WebElement (session=\"250eb76139364e4c7d3c1b49619654ad\", element=\"88fd9b5a-23a6-45ff-8443-4e02ac780716\")>]"
      ]
     },
     "execution_count": 39,
     "metadata": {},
     "output_type": "execute_result"
    }
   ],
   "source": [
    "description_tags=driver.find_elements_by_xpath(\"//div[@class='keyword']\")\n",
    "description_tags[0:20]"
   ]
  },
  {
   "cell_type": "code",
   "execution_count": 41,
   "id": "21307ae2",
   "metadata": {},
   "outputs": [
    {
     "data": {
      "text/plain": [
       "['Fabulous',\n",
       " 'Fabulous',\n",
       " 'Very Good',\n",
       " 'Superb',\n",
       " 'Very Good',\n",
       " 'Good',\n",
       " 'Fabulous',\n",
       " 'Fabulous',\n",
       " 'Very Good',\n",
       " 'Good',\n",
       " 'Very Good',\n",
       " 'Fabulous',\n",
       " 'Very Good',\n",
       " 'Fabulous',\n",
       " 'Good',\n",
       " 'Very Good',\n",
       " 'Good',\n",
       " 'Fabulous',\n",
       " 'No Rating',\n",
       " 'Fabulous']"
      ]
     },
     "execution_count": 41,
     "metadata": {},
     "output_type": "execute_result"
    }
   ],
   "source": [
    "for i in description_tags:\n",
    "    description=i.text\n",
    "    descriptions.append(description)\n",
    "descriptions[0:20]"
   ]
  }
 ],
 "metadata": {
  "kernelspec": {
   "display_name": "Python 3",
   "language": "python",
   "name": "python3"
  },
  "language_info": {
   "codemirror_mode": {
    "name": "ipython",
    "version": 3
   },
   "file_extension": ".py",
   "mimetype": "text/x-python",
   "name": "python",
   "nbconvert_exporter": "python",
   "pygments_lexer": "ipython3",
   "version": "3.8.8"
  }
 },
 "nbformat": 4,
 "nbformat_minor": 5
}
